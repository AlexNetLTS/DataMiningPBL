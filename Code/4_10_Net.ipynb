{
 "cells": [
  {
   "cell_type": "code",
   "execution_count": 1,
   "metadata": {},
   "outputs": [],
   "source": [
    "import torch\n",
    "import torch.nn as nn\n",
    "import torch.optim as optim\n",
    "import torch.utils.data as data\n",
    "from sklearn.model_selection import cross_validate\n",
    "from sklearn.metrics import roc_auc_score, roc_curve\n",
    "import numpy as np\n",
    "import pandas as pd\n",
    "import plotly.graph_objects as go"
   ]
  },
  {
   "cell_type": "code",
   "execution_count": 2,
   "metadata": {},
   "outputs": [],
   "source": [
    "importance = pd.read_csv('Data/importance.csv')['feature_names'][: 5]"
   ]
  },
  {
   "cell_type": "code",
   "execution_count": 3,
   "metadata": {},
   "outputs": [],
   "source": [
    "train_data = pd.read_csv('Data/protrain.csv')\n",
    "test_data = pd.read_csv('Data/protest.csv')\n",
    "X_train, y_train = train_data[importance].values, train_data.iloc[:, -1].values\n",
    "X_test, y_test = test_data[importance].values, test_data.iloc[:, -1].values"
   ]
  },
  {
   "cell_type": "code",
   "execution_count": 4,
   "metadata": {},
   "outputs": [
    {
     "data": {
      "text/plain": [
       "(torch.Size([29811, 5]), torch.Size([29811]))"
      ]
     },
     "execution_count": 4,
     "metadata": {},
     "output_type": "execute_result"
    }
   ],
   "source": [
    "X_train = torch.from_numpy(X_train.astype(np.float32))\n",
    "y_train = torch.from_numpy(y_train.astype(np.float32))\n",
    "X_test = torch.from_numpy(X_test.astype(np.float32))\n",
    "y_test = torch.from_numpy(y_test.astype(np.float32))\n",
    "\n",
    "\n",
    "train_data = data.TensorDataset(X_train, y_train)\n",
    "train_loader = data.DataLoader(train_data, batch_size=64, shuffle=True)\n",
    "\n",
    "X_train.shape, y_train.shape"
   ]
  },
  {
   "cell_type": "code",
   "execution_count": 5,
   "metadata": {},
   "outputs": [],
   "source": [
    "class MLP(nn.Module):\n",
    "    def __init__(self, input_size, hidden_size, output_size):\n",
    "        super(MLP, self).__init__()\n",
    "        self.fc1 = nn.Linear(input_size, hidden_size)\n",
    "        self.relu = nn.ReLU()\n",
    "        self.fc2 = nn.Linear(hidden_size, output_size)\n",
    "        self.sigmoid = nn.Sigmoid()\n",
    "    \n",
    "    def forward(self, x):\n",
    "        out = self.fc1(x)\n",
    "        out = self.relu(out)\n",
    "        out = self.fc2(out)\n",
    "        out = self.sigmoid(out)\n",
    "        return out"
   ]
  },
  {
   "cell_type": "code",
   "execution_count": 6,
   "metadata": {},
   "outputs": [],
   "source": [
    "def train(model, train_loader, criterion, optimizer, num_epochs):\n",
    "    model.train()\n",
    "    train_loss_history = []\n",
    "    for epoch in range(num_epochs):\n",
    "        train_loss = 0.0\n",
    "        for inputs, labels in train_loader:\n",
    "            optimizer.zero_grad()\n",
    "            outputs = model(inputs)\n",
    "            loss = criterion(outputs.squeeze(), labels)\n",
    "            loss.backward()\n",
    "            optimizer.step()\n",
    "            train_loss += loss.item() * inputs.size(0)\n",
    "        \n",
    "        train_loss = train_loss / len(train_loader.dataset)\n",
    "        train_loss_history.append(train_loss)\n",
    "        print(f'Epoch {epoch+1}/{num_epochs}, Training Loss: {train_loss:.4f}')\n",
    "    \n",
    "    return train_loss_history"
   ]
  },
  {
   "cell_type": "code",
   "execution_count": 7,
   "metadata": {},
   "outputs": [],
   "source": [
    "def evaluate(model, inputs, labels):\n",
    "    model.eval()\n",
    "    with torch.no_grad():\n",
    "        outputs = model(inputs)\n",
    "        predicted_probs = outputs.squeeze().numpy()\n",
    "        predicted_labels = np.where(predicted_probs > 0.5, 1, 0)\n",
    "        accuracy = np.mean(predicted_labels == labels.numpy())\n",
    "        auc_score = roc_auc_score(labels.numpy(), predicted_probs)\n",
    "    \n",
    "    return accuracy, auc_score"
   ]
  },
  {
   "cell_type": "code",
   "execution_count": 8,
   "metadata": {},
   "outputs": [
    {
     "name": "stdout",
     "output_type": "stream",
     "text": [
      "Epoch 1/20, Training Loss: 0.4755\n",
      "Epoch 2/20, Training Loss: 0.3695\n",
      "Epoch 3/20, Training Loss: 0.3665\n",
      "Epoch 4/20, Training Loss: 0.3658\n",
      "Epoch 5/20, Training Loss: 0.3651\n",
      "Epoch 6/20, Training Loss: 0.3647\n",
      "Epoch 7/20, Training Loss: 0.3643\n",
      "Epoch 8/20, Training Loss: 0.3638\n",
      "Epoch 9/20, Training Loss: 0.3637\n",
      "Epoch 10/20, Training Loss: 0.3635\n",
      "Epoch 11/20, Training Loss: 0.3633\n",
      "Epoch 12/20, Training Loss: 0.3630\n",
      "Epoch 13/20, Training Loss: 0.3629\n",
      "Epoch 14/20, Training Loss: 0.3627\n",
      "Epoch 15/20, Training Loss: 0.3625\n",
      "Epoch 16/20, Training Loss: 0.3623\n",
      "Epoch 17/20, Training Loss: 0.3622\n",
      "Epoch 18/20, Training Loss: 0.3623\n",
      "Epoch 19/20, Training Loss: 0.3619\n",
      "Epoch 20/20, Training Loss: 0.3617\n",
      "Epoch 1/20, Training Loss: 0.3763\n",
      "Epoch 2/20, Training Loss: 0.3656\n",
      "Epoch 3/20, Training Loss: 0.3665\n",
      "Epoch 4/20, Training Loss: 0.3653\n",
      "Epoch 5/20, Training Loss: 0.3636\n",
      "Epoch 6/20, Training Loss: 0.3597\n",
      "Epoch 7/20, Training Loss: 0.3590\n",
      "Epoch 8/20, Training Loss: 0.3619\n",
      "Epoch 9/20, Training Loss: 0.3579\n",
      "Epoch 10/20, Training Loss: 0.3608\n",
      "Epoch 11/20, Training Loss: 0.3578\n",
      "Epoch 12/20, Training Loss: 0.3573\n",
      "Epoch 13/20, Training Loss: 0.3581\n",
      "Epoch 14/20, Training Loss: 0.3568\n",
      "Epoch 15/20, Training Loss: 0.3574\n",
      "Epoch 16/20, Training Loss: 0.3638\n",
      "Epoch 17/20, Training Loss: 0.3569\n",
      "Epoch 18/20, Training Loss: 0.3568\n",
      "Epoch 19/20, Training Loss: 0.3569\n",
      "Epoch 20/20, Training Loss: 0.3562\n",
      "Epoch 1/20, Training Loss: 0.3848\n",
      "Epoch 2/20, Training Loss: 0.3908\n",
      "Epoch 3/20, Training Loss: 0.3867\n",
      "Epoch 4/20, Training Loss: 0.3876\n",
      "Epoch 5/20, Training Loss: 0.3883\n",
      "Epoch 6/20, Training Loss: 0.3876\n",
      "Epoch 7/20, Training Loss: 0.3876\n",
      "Epoch 8/20, Training Loss: 0.3882\n",
      "Epoch 9/20, Training Loss: 0.3882\n",
      "Epoch 10/20, Training Loss: 0.3881\n",
      "Epoch 11/20, Training Loss: 0.3904\n",
      "Epoch 12/20, Training Loss: 0.3878\n",
      "Epoch 13/20, Training Loss: 0.3874\n",
      "Epoch 14/20, Training Loss: 0.3861\n",
      "Epoch 15/20, Training Loss: 0.3875\n",
      "Epoch 16/20, Training Loss: 0.3886\n",
      "Epoch 17/20, Training Loss: 0.3873\n",
      "Epoch 18/20, Training Loss: 0.3874\n",
      "Epoch 19/20, Training Loss: 0.3855\n",
      "Epoch 20/20, Training Loss: 0.3853\n",
      "Epoch 1/20, Training Loss: 0.4308\n",
      "Epoch 2/20, Training Loss: 0.3670\n",
      "Epoch 3/20, Training Loss: 0.3651\n",
      "Epoch 4/20, Training Loss: 0.3641\n",
      "Epoch 5/20, Training Loss: 0.3635\n",
      "Epoch 6/20, Training Loss: 0.3631\n",
      "Epoch 7/20, Training Loss: 0.3627\n",
      "Epoch 8/20, Training Loss: 0.3625\n",
      "Epoch 9/20, Training Loss: 0.3620\n",
      "Epoch 10/20, Training Loss: 0.3615\n",
      "Epoch 11/20, Training Loss: 0.3615\n",
      "Epoch 12/20, Training Loss: 0.3611\n",
      "Epoch 13/20, Training Loss: 0.3610\n",
      "Epoch 14/20, Training Loss: 0.3606\n",
      "Epoch 15/20, Training Loss: 0.3604\n",
      "Epoch 16/20, Training Loss: 0.3600\n",
      "Epoch 17/20, Training Loss: 0.3598\n",
      "Epoch 18/20, Training Loss: 0.3596\n",
      "Epoch 19/20, Training Loss: 0.3625\n",
      "Epoch 20/20, Training Loss: 0.3623\n",
      "Epoch 1/20, Training Loss: 0.3740\n",
      "Epoch 2/20, Training Loss: 0.3660\n",
      "Epoch 3/20, Training Loss: 0.3668\n",
      "Epoch 4/20, Training Loss: 0.3647\n",
      "Epoch 5/20, Training Loss: 0.3605\n",
      "Epoch 6/20, Training Loss: 0.3624\n",
      "Epoch 7/20, Training Loss: 0.3590\n",
      "Epoch 8/20, Training Loss: 0.3675\n",
      "Epoch 9/20, Training Loss: 0.3618\n",
      "Epoch 10/20, Training Loss: 0.3583\n",
      "Epoch 11/20, Training Loss: 0.3574\n",
      "Epoch 12/20, Training Loss: 0.3571\n",
      "Epoch 13/20, Training Loss: 0.3578\n",
      "Epoch 14/20, Training Loss: 0.3597\n",
      "Epoch 15/20, Training Loss: 0.3593\n",
      "Epoch 16/20, Training Loss: 0.3599\n",
      "Epoch 17/20, Training Loss: 0.3594\n",
      "Epoch 18/20, Training Loss: 0.3590\n",
      "Epoch 19/20, Training Loss: 0.3559\n",
      "Epoch 20/20, Training Loss: 0.3588\n",
      "Epoch 1/20, Training Loss: 0.4002\n",
      "Epoch 2/20, Training Loss: 0.3898\n",
      "Epoch 3/20, Training Loss: 0.3886\n",
      "Epoch 4/20, Training Loss: 0.3896\n",
      "Epoch 5/20, Training Loss: 0.3898\n",
      "Epoch 6/20, Training Loss: 0.3879\n",
      "Epoch 7/20, Training Loss: 0.3882\n",
      "Epoch 8/20, Training Loss: 0.3867\n",
      "Epoch 9/20, Training Loss: 0.3873\n",
      "Epoch 10/20, Training Loss: 0.3881\n",
      "Epoch 11/20, Training Loss: 0.3880\n",
      "Epoch 12/20, Training Loss: 0.3882\n",
      "Epoch 13/20, Training Loss: 0.3906\n",
      "Epoch 14/20, Training Loss: 0.3893\n",
      "Epoch 15/20, Training Loss: 0.3890\n",
      "Epoch 16/20, Training Loss: 0.3887\n",
      "Epoch 17/20, Training Loss: 0.4533\n",
      "Epoch 18/20, Training Loss: 0.4041\n",
      "Epoch 19/20, Training Loss: 0.4005\n",
      "Epoch 20/20, Training Loss: 0.3891\n",
      "Epoch 1/20, Training Loss: 0.4136\n",
      "Epoch 2/20, Training Loss: 0.3659\n",
      "Epoch 3/20, Training Loss: 0.3645\n",
      "Epoch 4/20, Training Loss: 0.3638\n",
      "Epoch 5/20, Training Loss: 0.3632\n",
      "Epoch 6/20, Training Loss: 0.3627\n",
      "Epoch 7/20, Training Loss: 0.3622\n",
      "Epoch 8/20, Training Loss: 0.3619\n",
      "Epoch 9/20, Training Loss: 0.3613\n",
      "Epoch 10/20, Training Loss: 0.3639\n",
      "Epoch 11/20, Training Loss: 0.3607\n",
      "Epoch 12/20, Training Loss: 0.3632\n",
      "Epoch 13/20, Training Loss: 0.3628\n",
      "Epoch 14/20, Training Loss: 0.3626\n",
      "Epoch 15/20, Training Loss: 0.3624\n",
      "Epoch 16/20, Training Loss: 0.3619\n",
      "Epoch 17/20, Training Loss: 0.3615\n",
      "Epoch 18/20, Training Loss: 0.3616\n",
      "Epoch 19/20, Training Loss: 0.3611\n",
      "Epoch 20/20, Training Loss: 0.3611\n",
      "Epoch 1/20, Training Loss: 0.3749\n",
      "Epoch 2/20, Training Loss: 0.3709\n",
      "Epoch 3/20, Training Loss: 0.3745\n",
      "Epoch 4/20, Training Loss: 0.3761\n",
      "Epoch 5/20, Training Loss: 0.3779\n",
      "Epoch 6/20, Training Loss: 0.3775\n",
      "Epoch 7/20, Training Loss: 0.3777\n",
      "Epoch 8/20, Training Loss: 0.3775\n",
      "Epoch 9/20, Training Loss: 0.3763\n",
      "Epoch 10/20, Training Loss: 0.3758\n",
      "Epoch 11/20, Training Loss: 0.3728\n",
      "Epoch 12/20, Training Loss: 0.3729\n",
      "Epoch 13/20, Training Loss: 0.3735\n",
      "Epoch 14/20, Training Loss: 0.3724\n",
      "Epoch 15/20, Training Loss: 0.3753\n",
      "Epoch 16/20, Training Loss: 0.3723\n",
      "Epoch 17/20, Training Loss: 0.3723\n",
      "Epoch 18/20, Training Loss: 0.3698\n",
      "Epoch 19/20, Training Loss: 0.3697\n",
      "Epoch 20/20, Training Loss: 0.3722\n",
      "Epoch 1/20, Training Loss: 0.3985\n",
      "Epoch 2/20, Training Loss: 0.3890\n",
      "Epoch 3/20, Training Loss: 0.3888\n",
      "Epoch 4/20, Training Loss: 0.3895\n",
      "Epoch 5/20, Training Loss: 0.3907\n",
      "Epoch 6/20, Training Loss: 0.3882\n",
      "Epoch 7/20, Training Loss: 0.3886\n",
      "Epoch 8/20, Training Loss: 0.4088\n",
      "Epoch 9/20, Training Loss: 0.3940\n",
      "Epoch 10/20, Training Loss: 0.3888\n",
      "Epoch 11/20, Training Loss: 0.3889\n",
      "Epoch 12/20, Training Loss: 0.3915\n",
      "Epoch 13/20, Training Loss: 0.3886\n",
      "Epoch 14/20, Training Loss: 0.3881\n",
      "Epoch 15/20, Training Loss: 0.3908\n",
      "Epoch 16/20, Training Loss: 0.3908\n",
      "Epoch 17/20, Training Loss: 0.3909\n",
      "Epoch 18/20, Training Loss: 0.3902\n",
      "Epoch 19/20, Training Loss: 0.3895\n",
      "Epoch 20/20, Training Loss: 0.3876\n"
     ]
    }
   ],
   "source": [
    "# 定义参数网格\n",
    "hidden_sizes = [32, 64, 128]\n",
    "learning_rates = [0.001, 0.01, 0.1]\n",
    "num_epochs = 20\n",
    "\n",
    "results = {'hidden_size': [], 'learning_rate': [], 'accuracy': [], 'auc_score': []}\n",
    "\n",
    "for hidden_size in hidden_sizes:\n",
    "    for learning_rate in learning_rates:\n",
    "        model = MLP(input_size=X_train.shape[1], hidden_size=hidden_size, output_size=1)\n",
    "        criterion = nn.BCELoss()\n",
    "        optimizer = optim.Adam(model.parameters(), lr=learning_rate)\n",
    "        \n",
    "\n",
    "        train_loss_history = train(model, train_loader, criterion, optimizer, num_epochs)\n",
    "        \n",
    "        accuracy, auc_score = evaluate(model, X_test, y_test)\n",
    "\n",
    "        results['hidden_size'].append(hidden_size)\n",
    "        results['learning_rate'].append(learning_rate)\n",
    "        results['accuracy'].append(accuracy)\n",
    "        results['auc_score'].append(auc_score)"
   ]
  },
  {
   "cell_type": "code",
   "execution_count": 9,
   "metadata": {},
   "outputs": [
    {
     "data": {
      "application/vnd.plotly.v1+json": {
       "config": {
        "plotlyServerURL": "https://plot.ly"
       },
       "data": [
        {
         "mode": "lines",
         "name": "Hidden Size: 32, Learning Rate: 0.001",
         "type": "scatter",
         "x": [
          0
         ],
         "y": [
          0.8338482202820685
         ]
        },
        {
         "mode": "lines",
         "name": "Hidden Size: 32, Learning Rate: 0.01",
         "type": "scatter",
         "x": [
          1
         ],
         "y": [
          0.8353257219610477
         ]
        },
        {
         "mode": "lines",
         "name": "Hidden Size: 32, Learning Rate: 0.1",
         "type": "scatter",
         "x": [
          2
         ],
         "y": [
          0.831900604432505
         ]
        },
        {
         "mode": "lines",
         "name": "Hidden Size: 64, Learning Rate: 0.001",
         "type": "scatter",
         "x": [
          3
         ],
         "y": [
          0.8325721961047683
         ]
        },
        {
         "mode": "lines",
         "name": "Hidden Size: 64, Learning Rate: 0.01",
         "type": "scatter",
         "x": [
          4
         ],
         "y": [
          0.8336467427803895
         ]
        },
        {
         "mode": "lines",
         "name": "Hidden Size: 64, Learning Rate: 0.1",
         "type": "scatter",
         "x": [
          5
         ],
         "y": [
          0.831900604432505
         ]
        },
        {
         "mode": "lines",
         "name": "Hidden Size: 128, Learning Rate: 0.001",
         "type": "scatter",
         "x": [
          6
         ],
         "y": [
          0.8351242444593687
         ]
        },
        {
         "mode": "lines",
         "name": "Hidden Size: 128, Learning Rate: 0.01",
         "type": "scatter",
         "x": [
          7
         ],
         "y": [
          0.8354600402955004
         ]
        },
        {
         "mode": "lines",
         "name": "Hidden Size: 128, Learning Rate: 0.1",
         "type": "scatter",
         "x": [
          8
         ],
         "y": [
          0.8348556077904634
         ]
        }
       ],
       "layout": {
        "font": {
         "family": "Times New Roman",
         "size": 18
        },
        "legend": {
         "title": {
          "text": "Parameters"
         }
        },
        "template": {
         "data": {
          "bar": [
           {
            "error_x": {
             "color": "#2a3f5f"
            },
            "error_y": {
             "color": "#2a3f5f"
            },
            "marker": {
             "line": {
              "color": "#E5ECF6",
              "width": 0.5
             },
             "pattern": {
              "fillmode": "overlay",
              "size": 10,
              "solidity": 0.2
             }
            },
            "type": "bar"
           }
          ],
          "barpolar": [
           {
            "marker": {
             "line": {
              "color": "#E5ECF6",
              "width": 0.5
             },
             "pattern": {
              "fillmode": "overlay",
              "size": 10,
              "solidity": 0.2
             }
            },
            "type": "barpolar"
           }
          ],
          "carpet": [
           {
            "aaxis": {
             "endlinecolor": "#2a3f5f",
             "gridcolor": "white",
             "linecolor": "white",
             "minorgridcolor": "white",
             "startlinecolor": "#2a3f5f"
            },
            "baxis": {
             "endlinecolor": "#2a3f5f",
             "gridcolor": "white",
             "linecolor": "white",
             "minorgridcolor": "white",
             "startlinecolor": "#2a3f5f"
            },
            "type": "carpet"
           }
          ],
          "choropleth": [
           {
            "colorbar": {
             "outlinewidth": 0,
             "ticks": ""
            },
            "type": "choropleth"
           }
          ],
          "contour": [
           {
            "colorbar": {
             "outlinewidth": 0,
             "ticks": ""
            },
            "colorscale": [
             [
              0,
              "#0d0887"
             ],
             [
              0.1111111111111111,
              "#46039f"
             ],
             [
              0.2222222222222222,
              "#7201a8"
             ],
             [
              0.3333333333333333,
              "#9c179e"
             ],
             [
              0.4444444444444444,
              "#bd3786"
             ],
             [
              0.5555555555555556,
              "#d8576b"
             ],
             [
              0.6666666666666666,
              "#ed7953"
             ],
             [
              0.7777777777777778,
              "#fb9f3a"
             ],
             [
              0.8888888888888888,
              "#fdca26"
             ],
             [
              1,
              "#f0f921"
             ]
            ],
            "type": "contour"
           }
          ],
          "contourcarpet": [
           {
            "colorbar": {
             "outlinewidth": 0,
             "ticks": ""
            },
            "type": "contourcarpet"
           }
          ],
          "heatmap": [
           {
            "colorbar": {
             "outlinewidth": 0,
             "ticks": ""
            },
            "colorscale": [
             [
              0,
              "#0d0887"
             ],
             [
              0.1111111111111111,
              "#46039f"
             ],
             [
              0.2222222222222222,
              "#7201a8"
             ],
             [
              0.3333333333333333,
              "#9c179e"
             ],
             [
              0.4444444444444444,
              "#bd3786"
             ],
             [
              0.5555555555555556,
              "#d8576b"
             ],
             [
              0.6666666666666666,
              "#ed7953"
             ],
             [
              0.7777777777777778,
              "#fb9f3a"
             ],
             [
              0.8888888888888888,
              "#fdca26"
             ],
             [
              1,
              "#f0f921"
             ]
            ],
            "type": "heatmap"
           }
          ],
          "heatmapgl": [
           {
            "colorbar": {
             "outlinewidth": 0,
             "ticks": ""
            },
            "colorscale": [
             [
              0,
              "#0d0887"
             ],
             [
              0.1111111111111111,
              "#46039f"
             ],
             [
              0.2222222222222222,
              "#7201a8"
             ],
             [
              0.3333333333333333,
              "#9c179e"
             ],
             [
              0.4444444444444444,
              "#bd3786"
             ],
             [
              0.5555555555555556,
              "#d8576b"
             ],
             [
              0.6666666666666666,
              "#ed7953"
             ],
             [
              0.7777777777777778,
              "#fb9f3a"
             ],
             [
              0.8888888888888888,
              "#fdca26"
             ],
             [
              1,
              "#f0f921"
             ]
            ],
            "type": "heatmapgl"
           }
          ],
          "histogram": [
           {
            "marker": {
             "pattern": {
              "fillmode": "overlay",
              "size": 10,
              "solidity": 0.2
             }
            },
            "type": "histogram"
           }
          ],
          "histogram2d": [
           {
            "colorbar": {
             "outlinewidth": 0,
             "ticks": ""
            },
            "colorscale": [
             [
              0,
              "#0d0887"
             ],
             [
              0.1111111111111111,
              "#46039f"
             ],
             [
              0.2222222222222222,
              "#7201a8"
             ],
             [
              0.3333333333333333,
              "#9c179e"
             ],
             [
              0.4444444444444444,
              "#bd3786"
             ],
             [
              0.5555555555555556,
              "#d8576b"
             ],
             [
              0.6666666666666666,
              "#ed7953"
             ],
             [
              0.7777777777777778,
              "#fb9f3a"
             ],
             [
              0.8888888888888888,
              "#fdca26"
             ],
             [
              1,
              "#f0f921"
             ]
            ],
            "type": "histogram2d"
           }
          ],
          "histogram2dcontour": [
           {
            "colorbar": {
             "outlinewidth": 0,
             "ticks": ""
            },
            "colorscale": [
             [
              0,
              "#0d0887"
             ],
             [
              0.1111111111111111,
              "#46039f"
             ],
             [
              0.2222222222222222,
              "#7201a8"
             ],
             [
              0.3333333333333333,
              "#9c179e"
             ],
             [
              0.4444444444444444,
              "#bd3786"
             ],
             [
              0.5555555555555556,
              "#d8576b"
             ],
             [
              0.6666666666666666,
              "#ed7953"
             ],
             [
              0.7777777777777778,
              "#fb9f3a"
             ],
             [
              0.8888888888888888,
              "#fdca26"
             ],
             [
              1,
              "#f0f921"
             ]
            ],
            "type": "histogram2dcontour"
           }
          ],
          "mesh3d": [
           {
            "colorbar": {
             "outlinewidth": 0,
             "ticks": ""
            },
            "type": "mesh3d"
           }
          ],
          "parcoords": [
           {
            "line": {
             "colorbar": {
              "outlinewidth": 0,
              "ticks": ""
             }
            },
            "type": "parcoords"
           }
          ],
          "pie": [
           {
            "automargin": true,
            "type": "pie"
           }
          ],
          "scatter": [
           {
            "fillpattern": {
             "fillmode": "overlay",
             "size": 10,
             "solidity": 0.2
            },
            "type": "scatter"
           }
          ],
          "scatter3d": [
           {
            "line": {
             "colorbar": {
              "outlinewidth": 0,
              "ticks": ""
             }
            },
            "marker": {
             "colorbar": {
              "outlinewidth": 0,
              "ticks": ""
             }
            },
            "type": "scatter3d"
           }
          ],
          "scattercarpet": [
           {
            "marker": {
             "colorbar": {
              "outlinewidth": 0,
              "ticks": ""
             }
            },
            "type": "scattercarpet"
           }
          ],
          "scattergeo": [
           {
            "marker": {
             "colorbar": {
              "outlinewidth": 0,
              "ticks": ""
             }
            },
            "type": "scattergeo"
           }
          ],
          "scattergl": [
           {
            "marker": {
             "colorbar": {
              "outlinewidth": 0,
              "ticks": ""
             }
            },
            "type": "scattergl"
           }
          ],
          "scattermapbox": [
           {
            "marker": {
             "colorbar": {
              "outlinewidth": 0,
              "ticks": ""
             }
            },
            "type": "scattermapbox"
           }
          ],
          "scatterpolar": [
           {
            "marker": {
             "colorbar": {
              "outlinewidth": 0,
              "ticks": ""
             }
            },
            "type": "scatterpolar"
           }
          ],
          "scatterpolargl": [
           {
            "marker": {
             "colorbar": {
              "outlinewidth": 0,
              "ticks": ""
             }
            },
            "type": "scatterpolargl"
           }
          ],
          "scatterternary": [
           {
            "marker": {
             "colorbar": {
              "outlinewidth": 0,
              "ticks": ""
             }
            },
            "type": "scatterternary"
           }
          ],
          "surface": [
           {
            "colorbar": {
             "outlinewidth": 0,
             "ticks": ""
            },
            "colorscale": [
             [
              0,
              "#0d0887"
             ],
             [
              0.1111111111111111,
              "#46039f"
             ],
             [
              0.2222222222222222,
              "#7201a8"
             ],
             [
              0.3333333333333333,
              "#9c179e"
             ],
             [
              0.4444444444444444,
              "#bd3786"
             ],
             [
              0.5555555555555556,
              "#d8576b"
             ],
             [
              0.6666666666666666,
              "#ed7953"
             ],
             [
              0.7777777777777778,
              "#fb9f3a"
             ],
             [
              0.8888888888888888,
              "#fdca26"
             ],
             [
              1,
              "#f0f921"
             ]
            ],
            "type": "surface"
           }
          ],
          "table": [
           {
            "cells": {
             "fill": {
              "color": "#EBF0F8"
             },
             "line": {
              "color": "white"
             }
            },
            "header": {
             "fill": {
              "color": "#C8D4E3"
             },
             "line": {
              "color": "white"
             }
            },
            "type": "table"
           }
          ]
         },
         "layout": {
          "annotationdefaults": {
           "arrowcolor": "#2a3f5f",
           "arrowhead": 0,
           "arrowwidth": 1
          },
          "autotypenumbers": "strict",
          "coloraxis": {
           "colorbar": {
            "outlinewidth": 0,
            "ticks": ""
           }
          },
          "colorscale": {
           "diverging": [
            [
             0,
             "#8e0152"
            ],
            [
             0.1,
             "#c51b7d"
            ],
            [
             0.2,
             "#de77ae"
            ],
            [
             0.3,
             "#f1b6da"
            ],
            [
             0.4,
             "#fde0ef"
            ],
            [
             0.5,
             "#f7f7f7"
            ],
            [
             0.6,
             "#e6f5d0"
            ],
            [
             0.7,
             "#b8e186"
            ],
            [
             0.8,
             "#7fbc41"
            ],
            [
             0.9,
             "#4d9221"
            ],
            [
             1,
             "#276419"
            ]
           ],
           "sequential": [
            [
             0,
             "#0d0887"
            ],
            [
             0.1111111111111111,
             "#46039f"
            ],
            [
             0.2222222222222222,
             "#7201a8"
            ],
            [
             0.3333333333333333,
             "#9c179e"
            ],
            [
             0.4444444444444444,
             "#bd3786"
            ],
            [
             0.5555555555555556,
             "#d8576b"
            ],
            [
             0.6666666666666666,
             "#ed7953"
            ],
            [
             0.7777777777777778,
             "#fb9f3a"
            ],
            [
             0.8888888888888888,
             "#fdca26"
            ],
            [
             1,
             "#f0f921"
            ]
           ],
           "sequentialminus": [
            [
             0,
             "#0d0887"
            ],
            [
             0.1111111111111111,
             "#46039f"
            ],
            [
             0.2222222222222222,
             "#7201a8"
            ],
            [
             0.3333333333333333,
             "#9c179e"
            ],
            [
             0.4444444444444444,
             "#bd3786"
            ],
            [
             0.5555555555555556,
             "#d8576b"
            ],
            [
             0.6666666666666666,
             "#ed7953"
            ],
            [
             0.7777777777777778,
             "#fb9f3a"
            ],
            [
             0.8888888888888888,
             "#fdca26"
            ],
            [
             1,
             "#f0f921"
            ]
           ]
          },
          "colorway": [
           "#636efa",
           "#EF553B",
           "#00cc96",
           "#ab63fa",
           "#FFA15A",
           "#19d3f3",
           "#FF6692",
           "#B6E880",
           "#FF97FF",
           "#FECB52"
          ],
          "font": {
           "color": "#2a3f5f"
          },
          "geo": {
           "bgcolor": "white",
           "lakecolor": "white",
           "landcolor": "#E5ECF6",
           "showlakes": true,
           "showland": true,
           "subunitcolor": "white"
          },
          "hoverlabel": {
           "align": "left"
          },
          "hovermode": "closest",
          "mapbox": {
           "style": "light"
          },
          "paper_bgcolor": "white",
          "plot_bgcolor": "#E5ECF6",
          "polar": {
           "angularaxis": {
            "gridcolor": "white",
            "linecolor": "white",
            "ticks": ""
           },
           "bgcolor": "#E5ECF6",
           "radialaxis": {
            "gridcolor": "white",
            "linecolor": "white",
            "ticks": ""
           }
          },
          "scene": {
           "xaxis": {
            "backgroundcolor": "#E5ECF6",
            "gridcolor": "white",
            "gridwidth": 2,
            "linecolor": "white",
            "showbackground": true,
            "ticks": "",
            "zerolinecolor": "white"
           },
           "yaxis": {
            "backgroundcolor": "#E5ECF6",
            "gridcolor": "white",
            "gridwidth": 2,
            "linecolor": "white",
            "showbackground": true,
            "ticks": "",
            "zerolinecolor": "white"
           },
           "zaxis": {
            "backgroundcolor": "#E5ECF6",
            "gridcolor": "white",
            "gridwidth": 2,
            "linecolor": "white",
            "showbackground": true,
            "ticks": "",
            "zerolinecolor": "white"
           }
          },
          "shapedefaults": {
           "line": {
            "color": "#2a3f5f"
           }
          },
          "ternary": {
           "aaxis": {
            "gridcolor": "white",
            "linecolor": "white",
            "ticks": ""
           },
           "baxis": {
            "gridcolor": "white",
            "linecolor": "white",
            "ticks": ""
           },
           "bgcolor": "#E5ECF6",
           "caxis": {
            "gridcolor": "white",
            "linecolor": "white",
            "ticks": ""
           }
          },
          "title": {
           "x": 0.05
          },
          "xaxis": {
           "automargin": true,
           "gridcolor": "white",
           "linecolor": "white",
           "ticks": "",
           "title": {
            "standoff": 15
           },
           "zerolinecolor": "white",
           "zerolinewidth": 2
          },
          "yaxis": {
           "automargin": true,
           "gridcolor": "white",
           "linecolor": "white",
           "ticks": "",
           "title": {
            "standoff": 15
           },
           "zerolinecolor": "white",
           "zerolinewidth": 2
          }
         }
        },
        "title": {
         "text": "Parameter Tuning - Accuracy"
        },
        "xaxis": {
         "title": {
          "text": "Iteration"
         }
        },
        "yaxis": {
         "title": {
          "text": "Accuracy"
         }
        }
       }
      }
     },
     "metadata": {},
     "output_type": "display_data"
    },
    {
     "data": {
      "text/html": [
       "<div>\n",
       "<style scoped>\n",
       "    .dataframe tbody tr th:only-of-type {\n",
       "        vertical-align: middle;\n",
       "    }\n",
       "\n",
       "    .dataframe tbody tr th {\n",
       "        vertical-align: top;\n",
       "    }\n",
       "\n",
       "    .dataframe thead th {\n",
       "        text-align: right;\n",
       "    }\n",
       "</style>\n",
       "<table border=\"1\" class=\"dataframe\">\n",
       "  <thead>\n",
       "    <tr style=\"text-align: right;\">\n",
       "      <th></th>\n",
       "      <th>hidden_size</th>\n",
       "      <th>learning_rate</th>\n",
       "      <th>accuracy</th>\n",
       "      <th>auc_score</th>\n",
       "    </tr>\n",
       "  </thead>\n",
       "  <tbody>\n",
       "    <tr>\n",
       "      <th>0</th>\n",
       "      <td>32</td>\n",
       "      <td>0.001</td>\n",
       "      <td>0.833848</td>\n",
       "      <td>0.879492</td>\n",
       "    </tr>\n",
       "    <tr>\n",
       "      <th>1</th>\n",
       "      <td>32</td>\n",
       "      <td>0.010</td>\n",
       "      <td>0.835326</td>\n",
       "      <td>0.880518</td>\n",
       "    </tr>\n",
       "    <tr>\n",
       "      <th>2</th>\n",
       "      <td>32</td>\n",
       "      <td>0.100</td>\n",
       "      <td>0.831901</td>\n",
       "      <td>0.875141</td>\n",
       "    </tr>\n",
       "    <tr>\n",
       "      <th>3</th>\n",
       "      <td>64</td>\n",
       "      <td>0.001</td>\n",
       "      <td>0.832572</td>\n",
       "      <td>0.880238</td>\n",
       "    </tr>\n",
       "    <tr>\n",
       "      <th>4</th>\n",
       "      <td>64</td>\n",
       "      <td>0.010</td>\n",
       "      <td>0.833647</td>\n",
       "      <td>0.880529</td>\n",
       "    </tr>\n",
       "  </tbody>\n",
       "</table>\n",
       "</div>"
      ],
      "text/plain": [
       "   hidden_size  learning_rate  accuracy  auc_score\n",
       "0           32          0.001  0.833848   0.879492\n",
       "1           32          0.010  0.835326   0.880518\n",
       "2           32          0.100  0.831901   0.875141\n",
       "3           64          0.001  0.832572   0.880238\n",
       "4           64          0.010  0.833647   0.880529"
      ]
     },
     "execution_count": 9,
     "metadata": {},
     "output_type": "execute_result"
    }
   ],
   "source": [
    "# 将结果转换为DataFrame\n",
    "results_df = pd.DataFrame(results)\n",
    "\n",
    "# 绘制参数调优图像\n",
    "fig = go.Figure()\n",
    "\n",
    "for hidden_size in hidden_sizes:\n",
    "    for learning_rate in learning_rates:\n",
    "        subset = results_df[(results_df['hidden_size'] == hidden_size) & (results_df['learning_rate'] == learning_rate)]\n",
    "        accuracy_trace = go.Scatter(\n",
    "            x = subset.index,\n",
    "            y = subset['accuracy'],\n",
    "            mode = 'lines',\n",
    "            name = f'Hidden Size: {hidden_size}, Learning Rate: {learning_rate}',\n",
    "        )\n",
    "        fig.add_trace(accuracy_trace)\n",
    "\n",
    "fig.update_layout(\n",
    "    title='Parameter Tuning - Accuracy',\n",
    "    xaxis_title='Iteration',\n",
    "    yaxis_title='Accuracy',\n",
    "    legend_title='Parameters',\n",
    "    font=dict(family='Times New Roman', size=18)\n",
    ")\n",
    "\n",
    "fig.write_html('Image/4_10_1.html')\n",
    "fig.show()\n",
    "\n",
    "results_df.head()"
   ]
  },
  {
   "cell_type": "code",
   "execution_count": 10,
   "metadata": {},
   "outputs": [
    {
     "name": "stdout",
     "output_type": "stream",
     "text": [
      "5 128.0\n",
      "Epoch 1/20, Training Loss: 0.4113\n",
      "Epoch 2/20, Training Loss: 0.3655\n",
      "Epoch 3/20, Training Loss: 0.3646\n",
      "Epoch 4/20, Training Loss: 0.3641\n",
      "Epoch 5/20, Training Loss: 0.3636\n",
      "Epoch 6/20, Training Loss: 0.3630\n",
      "Epoch 7/20, Training Loss: 0.3623\n",
      "Epoch 8/20, Training Loss: 0.3617\n",
      "Epoch 9/20, Training Loss: 0.3613\n",
      "Epoch 10/20, Training Loss: 0.3610\n",
      "Epoch 11/20, Training Loss: 0.3607\n",
      "Epoch 12/20, Training Loss: 0.3607\n",
      "Epoch 13/20, Training Loss: 0.3628\n",
      "Epoch 14/20, Training Loss: 0.3625\n",
      "Epoch 15/20, Training Loss: 0.3626\n",
      "Epoch 16/20, Training Loss: 0.3620\n",
      "Epoch 17/20, Training Loss: 0.3618\n",
      "Epoch 18/20, Training Loss: 0.3619\n",
      "Epoch 19/20, Training Loss: 0.3614\n",
      "Epoch 20/20, Training Loss: 0.3613\n"
     ]
    },
    {
     "data": {
      "application/vnd.plotly.v1+json": {
       "config": {
        "plotlyServerURL": "https://plot.ly"
       },
       "data": [
        {
         "line": {
          "color": "blue",
          "width": 2
         },
         "mode": "lines",
         "name": "AUC: 0.8807",
         "type": "scatter",
         "x": [
          0,
          0.00008936550491510277,
          0.00008936550491510277,
          0.00008936550491510277,
          0.00008936550491510277,
          0.00008936550491510277,
          0.00008936550491510277,
          0.00017873100983020553,
          0.00017873100983020553,
          0.00017873100983020553,
          0.00017873100983020553,
          0.00017873100983020553,
          0.00017873100983020553,
          0.00017873100983020553,
          0.00017873100983020553,
          0.00017873100983020553,
          0.00017873100983020553,
          0.00017873100983020553,
          0.00017873100983020553,
          0.00017873100983020553,
          0.00017873100983020553,
          0.00017873100983020553,
          0.00017873100983020553,
          0.00017873100983020553,
          0.00017873100983020553,
          0.00017873100983020553,
          0.00017873100983020553,
          0.00017873100983020553,
          0.00017873100983020553,
          0.00017873100983020553,
          0.00017873100983020553,
          0.00017873100983020553,
          0.00017873100983020553,
          0.00017873100983020553,
          0.00017873100983020553,
          0.00017873100983020553,
          0.00017873100983020553,
          0.00017873100983020553,
          0.00017873100983020553,
          0.00017873100983020553,
          0.00017873100983020553,
          0.00017873100983020553,
          0.00017873100983020553,
          0.00017873100983020553,
          0.00017873100983020553,
          0.00017873100983020553,
          0.00017873100983020553,
          0.00017873100983020553,
          0.00017873100983020553,
          0.00017873100983020553,
          0.00017873100983020553,
          0.00017873100983020553,
          0.00017873100983020553,
          0.00026809651474530834,
          0.00026809651474530834,
          0.00026809651474530834,
          0.00026809651474530834,
          0.00035746201966041106,
          0.00035746201966041106,
          0.00044682752457551384,
          0.00044682752457551384,
          0.0005361930294906167,
          0.0005361930294906167,
          0.0005361930294906167,
          0.0005361930294906167,
          0.0005361930294906167,
          0.0005361930294906167,
          0.0005361930294906167,
          0.0005361930294906167,
          0.0005361930294906167,
          0.0005361930294906167,
          0.0005361930294906167,
          0.0005361930294906167,
          0.0005361930294906167,
          0.0005361930294906167,
          0.0005361930294906167,
          0.0005361930294906167,
          0.0005361930294906167,
          0.0005361930294906167,
          0.0005361930294906167,
          0.0005361930294906167,
          0.0005361930294906167,
          0.0006255585344057193,
          0.0006255585344057193,
          0.0007149240393208221,
          0.0007149240393208221,
          0.0008042895442359249,
          0.0008042895442359249,
          0.0008042895442359249,
          0.0008936550491510277,
          0.0008936550491510277,
          0.0008936550491510277,
          0.0008936550491510277,
          0.0008936550491510277,
          0.0008936550491510277,
          0.0008936550491510277,
          0.0009830205540661305,
          0.0009830205540661305,
          0.0009830205540661305,
          0.0009830205540661305,
          0.0009830205540661305,
          0.0009830205540661305,
          0.0009830205540661305,
          0.0009830205540661305,
          0.0009830205540661305,
          0.0009830205540661305,
          0.0009830205540661305,
          0.0009830205540661305,
          0.0009830205540661305,
          0.0009830205540661305,
          0.0009830205540661305,
          0.0009830205540661305,
          0.0009830205540661305,
          0.0009830205540661305,
          0.0009830205540661305,
          0.0009830205540661305,
          0.0010723860589812334,
          0.0010723860589812334,
          0.0010723860589812334,
          0.0010723860589812334,
          0.0010723860589812334,
          0.0010723860589812334,
          0.0010723860589812334,
          0.0010723860589812334,
          0.0010723860589812334,
          0.0010723860589812334,
          0.0010723860589812334,
          0.0010723860589812334,
          0.0010723860589812334,
          0.0010723860589812334,
          0.001161751563896336,
          0.001161751563896336,
          0.001161751563896336,
          0.001161751563896336,
          0.0012511170688114387,
          0.0012511170688114387,
          0.0012511170688114387,
          0.0012511170688114387,
          0.0012511170688114387,
          0.0012511170688114387,
          0.0012511170688114387,
          0.0012511170688114387,
          0.0012511170688114387,
          0.0012511170688114387,
          0.0012511170688114387,
          0.0012511170688114387,
          0.0012511170688114387,
          0.0012511170688114387,
          0.0012511170688114387,
          0.0012511170688114387,
          0.0012511170688114387,
          0.0012511170688114387,
          0.0012511170688114387,
          0.0012511170688114387,
          0.0012511170688114387,
          0.0014298480786416443,
          0.0014298480786416443,
          0.0014298480786416443,
          0.0014298480786416443,
          0.0014298480786416443,
          0.0014298480786416443,
          0.0014298480786416443,
          0.0014298480786416443,
          0.0014298480786416443,
          0.0016085790884718498,
          0.0016085790884718498,
          0.0016979445933869527,
          0.0016979445933869527,
          0.0016979445933869527,
          0.0017873100983020554,
          0.0017873100983020554,
          0.0017873100983020554,
          0.0018766756032171583,
          0.0018766756032171583,
          0.0018766756032171583,
          0.0018766756032171583,
          0.0018766756032171583,
          0.0018766756032171583,
          0.0018766756032171583,
          0.0018766756032171583,
          0.0018766756032171583,
          0.001966041108132261,
          0.001966041108132261,
          0.001966041108132261,
          0.001966041108132261,
          0.002055406613047364,
          0.002055406613047364,
          0.002055406613047364,
          0.002055406613047364,
          0.0021447721179624667,
          0.0021447721179624667,
          0.002234137622877569,
          0.002234137622877569,
          0.002234137622877569,
          0.002412868632707775,
          0.002412868632707775,
          0.002412868632707775,
          0.002412868632707775,
          0.002412868632707775,
          0.0025915996425379803,
          0.0025915996425379803,
          0.002680965147453083,
          0.002680965147453083,
          0.002680965147453083,
          0.002680965147453083,
          0.002770330652368186,
          0.002770330652368186,
          0.0028596961572832885,
          0.0028596961572832885,
          0.0029490616621983914,
          0.0029490616621983914,
          0.0029490616621983914,
          0.0030384271671134943,
          0.003127792672028597,
          0.0032171581769436996,
          0.0033065236818588025,
          0.0033065236818588025,
          0.003485254691689008,
          0.003485254691689008,
          0.0035746201966041107,
          0.0035746201966041107,
          0.0035746201966041107,
          0.0035746201966041107,
          0.0036639857015192136,
          0.0036639857015192136,
          0.0037533512064343165,
          0.0037533512064343165,
          0.0037533512064343165,
          0.0037533512064343165,
          0.0037533512064343165,
          0.0037533512064343165,
          0.003842716711349419,
          0.003842716711349419,
          0.003842716711349419,
          0.003842716711349419,
          0.003842716711349419,
          0.003932082216264522,
          0.003932082216264522,
          0.003932082216264522,
          0.003932082216264522,
          0.004021447721179625,
          0.004021447721179625,
          0.004021447721179625,
          0.004110813226094728,
          0.004110813226094728,
          0.004110813226094728,
          0.004110813226094728,
          0.0042001787310098305,
          0.0042001787310098305,
          0.004289544235924933,
          0.004289544235924933,
          0.004468275245755138,
          0.004468275245755138,
          0.004468275245755138,
          0.004468275245755138,
          0.004647006255585344,
          0.004647006255585344,
          0.004736371760500447,
          0.004736371760500447,
          0.00482573726541555,
          0.00482573726541555,
          0.005004468275245755,
          0.005004468275245755,
          0.005093833780160858,
          0.005093833780160858,
          0.005093833780160858,
          0.0052725647899910634,
          0.0052725647899910634,
          0.0052725647899910634,
          0.0052725647899910634,
          0.005361930294906166,
          0.005361930294906166,
          0.005451295799821269,
          0.005451295799821269,
          0.005451295799821269,
          0.005451295799821269,
          0.005451295799821269,
          0.005451295799821269,
          0.005451295799821269,
          0.005540661304736372,
          0.005540661304736372,
          0.005630026809651474,
          0.005630026809651474,
          0.005719392314566577,
          0.005719392314566577,
          0.005898123324396783,
          0.005898123324396783,
          0.005898123324396783,
          0.0060768543342269886,
          0.0061662198391420914,
          0.0061662198391420914,
          0.0061662198391420914,
          0.0061662198391420914,
          0.0061662198391420914,
          0.006255585344057194,
          0.006255585344057194,
          0.006434316353887399,
          0.006434316353887399,
          0.006523681858802502,
          0.006523681858802502,
          0.006613047363717605,
          0.006702412868632708,
          0.006791778373547811,
          0.007327971403038427,
          0.007327971403038427,
          0.007596067917783735,
          0.007596067917783735,
          0.007774798927613941,
          0.007774798927613941,
          0.007774798927613941,
          0.007774798927613941,
          0.007774798927613941,
          0.008132260947274352,
          0.008310991957104557,
          0.008310991957104557,
          0.008310991957104557,
          0.008310991957104557,
          0.008310991957104557,
          0.008579088471849867,
          0.008579088471849867,
          0.00875781948168007,
          0.00875781948168007,
          0.00875781948168007,
          0.009204647006255586,
          0.009204647006255586,
          0.009472743521000894,
          0.009472743521000894,
          0.009472743521000894,
          0.0096514745308311,
          0.0096514745308311,
          0.0096514745308311,
          0.0096514745308311,
          0.009830205540661306,
          0.01000893655049151,
          0.010098302055406613,
          0.010187667560321715,
          0.010187667560321715,
          0.010277033065236819,
          0.010277033065236819,
          0.010455764075067025,
          0.010455764075067025,
          0.010813226094727435,
          0.01099195710455764,
          0.01099195710455764,
          0.01099195710455764,
          0.01188561215370867,
          0.01188561215370867,
          0.012064343163538873,
          0.012064343163538873,
          0.012153708668453977,
          0.01224307417336908,
          0.01260053619302949,
          0.012689901697944593,
          0.012689901697944593,
          0.012779267202859696,
          0.012779267202859696,
          0.01322609472743521,
          0.01322609472743521,
          0.013315460232350312,
          0.013315460232350312,
          0.013404825737265416,
          0.013404825737265416,
          0.013494191242180518,
          0.013494191242180518,
          0.013494191242180518,
          0.013583556747095622,
          0.013583556747095622,
          0.013762287756925827,
          0.013762287756925827,
          0.013941018766756031,
          0.013941018766756031,
          0.014209115281501341,
          0.014477211796246649,
          0.01456657730116175,
          0.01456657730116175,
          0.01456657730116175,
          0.01456657730116175,
          0.01456657730116175,
          0.01456657730116175,
          0.014924039320822162,
          0.01519213583556747,
          0.01519213583556747,
          0.015370866845397676,
          0.015638963360142984,
          0.0160857908847185,
          0.0160857908847185,
          0.016175156389633603,
          0.016264521894548703,
          0.016264521894548703,
          0.01644325290437891,
          0.016890080428954422,
          0.01751563896336014,
          0.017605004468275245,
          0.01805183199285076,
          0.01805183199285076,
          0.01903485254691689,
          0.01966041108132261,
          0.01966041108132261,
          0.01966041108132261,
          0.01966041108132261,
          0.02001787310098302,
          0.02001787310098302,
          0.02091152815013405,
          0.02091152815013405,
          0.021179624664879357,
          0.021179624664879357,
          0.021447721179624665,
          0.021894548704200177,
          0.02198391420911528,
          0.022966934763181412,
          0.022966934763181412,
          0.02323503127792672,
          0.023324396782841823,
          0.023324396782841823,
          0.023503127792672027,
          0.023503127792672027,
          0.023681858802502235,
          0.02421805183199285,
          0.02421805183199285,
          0.024307417336907954,
          0.024932975871313674,
          0.024932975871313674,
          0.025111706881143878,
          0.025111706881143878,
          0.025290437890974085,
          0.025290437890974085,
          0.02546916890080429,
          0.025647899910634497,
          0.025647899910634497,
          0.026362823949955316,
          0.026362823949955316,
          0.02645218945487042,
          0.02645218945487042,
          0.026541554959785524,
          0.026541554959785524,
          0.02680965147453083,
          0.028150134048257374,
          0.028239499553172474,
          0.028239499553172474,
          0.028328865058087578,
          0.028328865058087578,
          0.028418230563002682,
          0.028954423592493297,
          0.029401251117068813,
          0.029579982126899017,
          0.030026809651474532,
          0.030026809651474532,
          0.03029490616621984,
          0.030473637176050044,
          0.030473637176050044,
          0.03127792672028597,
          0.03163538873994638,
          0.03181411974977658,
          0.03199285075960679,
          0.033154602323503125,
          0.03324396782841823,
          0.03333333333333333,
          0.03333333333333333,
          0.03333333333333333,
          0.033780160857908845,
          0.033780160857908845,
          0.033780160857908845,
          0.03413762287756926,
          0.0354781054512958,
          0.0354781054512958,
          0.035567470956210906,
          0.035567470956210906,
          0.035656836461126,
          0.035656836461126,
          0.03583556747095621,
          0.03663985701519214,
          0.03672922252010724,
          0.03672922252010724,
          0.03672922252010724,
          0.036818588025022345,
          0.036818588025022345,
          0.036997319034852545,
          0.036997319034852545,
          0.03753351206434316,
          0.03753351206434316,
          0.03753351206434316,
          0.03753351206434316,
          0.038516532618409295,
          0.0386058981233244,
          0.0386058981233244,
          0.0386952636282395,
          0.0386952636282395,
          0.0386952636282395,
          0.0388739946380697,
          0.0388739946380697,
          0.03905272564789991,
          0.03905272564789991,
          0.03923145665773012,
          0.03923145665773012,
          0.03932082216264522,
          0.03932082216264522,
          0.03967828418230563,
          0.039767649687220734,
          0.03985701519213584,
          0.03994638069705094,
          0.03994638069705094,
          0.03994638069705094,
          0.04164432529043789,
          0.04164432529043789,
          0.04164432529043789,
          0.041733690795352996,
          0.041912421805183196,
          0.041912421805183196,
          0.042091152815013404,
          0.04244861483467382,
          0.04244861483467382,
          0.042537980339588916,
          0.042537980339588916,
          0.04271671134941912,
          0.04271671134941912,
          0.04289544235924933,
          0.04325290437890974,
          0.04325290437890974,
          0.04325290437890974,
          0.043431635388739946,
          0.04432529043789098,
          0.044414655942806074,
          0.044682752457551385,
          0.04486148346738159,
          0.045308310991957104,
          0.04548704200178731,
          0.04548704200178731,
          0.04566577301161751,
          0.04566577301161751,
          0.045755138516532616,
          0.045755138516532616,
          0.04584450402144772,
          0.04611260053619303,
          0.046201966041108135,
          0.046201966041108135,
          0.046380697050938335,
          0.046380697050938335,
          0.04647006255585344,
          0.04647006255585344,
          0.04655942806076854,
          0.04691689008042895,
          0.04691689008042895,
          0.0484361036639857,
          0.0484361036639857,
          0.04861483467381591,
          0.048793565683646116,
          0.04888293118856121,
          0.04888293118856121,
          0.04897229669347632,
          0.049151027703306524,
          0.04924039320822163,
          0.04924039320822163,
          0.04932975871313673,
          0.04932975871313673,
          0.049419124218051835,
          0.049419124218051835,
          0.04977658623771224,
          0.05013404825737265,
          0.05031277926720286,
          0.050491510277033066,
          0.050491510277033066,
          0.05058087578194817,
          0.05075960679177837,
          0.05075960679177837,
          0.05075960679177837,
          0.05093833780160858,
          0.05120643431635389,
          0.05120643431635389,
          0.05227882037533512,
          0.05272564789991063,
          0.05308310991957105,
          0.05308310991957105,
          0.053440571939231456,
          0.05352993744414656,
          0.05370866845397677,
          0.05397676496872207,
          0.05451295799821269,
          0.05460232350312779,
          0.05460232350312779,
          0.054691689008042894,
          0.054691689008042894,
          0.054781054512958,
          0.05540661304736372,
          0.055585344057193925,
          0.055585344057193925,
          0.055764075067024126,
          0.05603217158176944,
          0.056210902591599644,
          0.056210902591599644,
          0.056210902591599644,
          0.056389633601429845,
          0.056836461126005364,
          0.056836461126005364,
          0.05710455764075067,
          0.057283288650580876,
          0.057283288650580876,
          0.058266309204647,
          0.058534405719392314,
          0.05871313672922252,
          0.058802502234137626,
          0.05907059874888293,
          0.059159964253798034,
          0.05933869526362824,
          0.059428060768543345,
          0.05969615728328865,
          0.05978552278820375,
          0.05996425379803396,
          0.05996425379803396,
          0.060232350312779265,
          0.060232350312779265,
          0.06032171581769437,
          0.06058981233243968,
          0.0612153708668454,
          0.06139410187667561,
          0.06139410187667561,
          0.0614834673815907,
          0.06166219839142091,
          0.06184092940125112,
          0.06184092940125112,
          0.06193029490616622,
          0.06210902591599642,
          0.06219839142091153,
          0.06228775692582663,
          0.06228775692582663,
          0.06273458445040214,
          0.06273458445040214,
          0.06300268096514745,
          0.06300268096514745,
          0.064343163538874,
          0.0648793565683646,
          0.0648793565683646,
          0.06496872207327971,
          0.06496872207327971,
          0.06595174262734585,
          0.06666666666666667,
          0.06666666666666667,
          0.06684539767649687,
          0.06684539767649687,
          0.06693476318141198,
          0.0679177837354781,
          0.06809651474530831,
          0.06881143878462913,
          0.06881143878462913,
          0.06890080428954423,
          0.06890080428954423,
          0.06899016979445934,
          0.06952636282394996,
          0.06979445933869527,
          0.07059874888293119,
          0.07167113494191242,
          0.07176050044682752,
          0.07176050044682752,
          0.07229669347631815,
          0.07256478999106344,
          0.07256478999106344,
          0.07265415549597855,
          0.07265415549597855,
          0.07274352100089365,
          0.07283288650580876,
          0.07283288650580876,
          0.07292225201072386,
          0.07301161751563896,
          0.07301161751563896,
          0.07310098302055407,
          0.07399463806970509,
          0.07399463806970509,
          0.07497765862377122,
          0.07497765862377122,
          0.07613941018766757,
          0.07640750670241286,
          0.07649687220732797,
          0.07658623771224307,
          0.07694369973190349,
          0.07694369973190349,
          0.0772117962466488,
          0.0772117962466488,
          0.077390527256479,
          0.077390527256479,
          0.0774798927613941,
          0.07882037533512064,
          0.07882037533512064,
          0.07890974084003574,
          0.07980339588918678,
          0.07998212689901697,
          0.08007149240393208,
          0.08007149240393208,
          0.08016085790884718,
          0.08016085790884718,
          0.08016085790884718,
          0.08025022341376228,
          0.08025022341376228,
          0.0805183199285076,
          0.0806970509383378,
          0.0807864164432529,
          0.0807864164432529,
          0.08087578194816801,
          0.08087578194816801,
          0.08248436103663986,
          0.08257372654155495,
          0.08302055406613047,
          0.08310991957104558,
          0.0839142091152815,
          0.0840035746201966,
          0.08445040214477212,
          0.08445040214477212,
          0.08453976764968722,
          0.08453976764968722,
          0.08471849865951743,
          0.08471849865951743,
          0.08552278820375335,
          0.08570151921358356,
          0.08588025022341376,
          0.08588025022341376,
          0.08596961572832887,
          0.08596961572832887,
          0.08793565683646112,
          0.08793565683646112,
          0.08793565683646112,
          0.08856121537086685,
          0.08856121537086685,
          0.08909740840035746,
          0.08927613941018767,
          0.08927613941018767,
          0.08963360142984808,
          0.08981233243967829,
          0.09008042895442359,
          0.09008042895442359,
          0.0902591599642538,
          0.09231456657730117,
          0.09249329758713137,
          0.09258266309204646,
          0.09258266309204646,
          0.09267202859696157,
          0.09285075960679177,
          0.09285075960679177,
          0.0935656836461126,
          0.09374441465594281,
          0.09374441465594281,
          0.0938337801608579,
          0.09401251117068811,
          0.09410187667560321,
          0.09419124218051832,
          0.09660411081322609,
          0.09660411081322609,
          0.0966934763181412,
          0.0966934763181412,
          0.09714030384271671,
          0.09714030384271671,
          0.09937444146559428,
          0.09946380697050938,
          0.10196604110813226,
          0.10196604110813226,
          0.10393208221626452,
          0.10402144772117962,
          0.10402144772117962,
          0.10411081322609472,
          0.10411081322609472,
          0.10437890974084003,
          0.10455764075067024,
          0.1063449508489723,
          0.10723860589812333,
          0.10723860589812333,
          0.10920464700625558,
          0.10938337801608579,
          0.10938337801608579,
          0.11090259159964254,
          0.11090259159964254,
          0.11117068811438785,
          0.11117068811438785,
          0.11126005361930295,
          0.11224307417336908,
          0.11233243967828418,
          0.11429848078641644,
          0.11635388739946381,
          0.11644325290437892,
          0.11644325290437892,
          0.116532618409294,
          0.116532618409294,
          0.11689008042895442,
          0.11697944593386952,
          0.11715817694369973,
          0.11715817694369973,
          0.11858802502234138,
          0.1189454870420018,
          0.12153708668453976,
          0.12189454870420018,
          0.12207327971403038,
          0.12403932082216265,
          0.12412868632707774,
          0.12412868632707774,
          0.12421805183199285,
          0.12421805183199285,
          0.12430741733690795,
          0.12430741733690795,
          0.12439678284182305,
          0.12457551385165326,
          0.12466487935656836,
          0.12672028596961574,
          0.12689901697944594,
          0.12716711349419124,
          0.12734584450402145,
          0.12957998212689903,
          0.12966934763181412,
          0.13145665773011617,
          0.13154602323503128,
          0.13163538873994637,
          0.13181411974977658,
          0.1319034852546917,
          0.1325290437890974,
          0.1326184092940125,
          0.13297587131367292,
          0.13315460232350312,
          0.13315460232350312,
          0.13369079535299375,
          0.13386952636282395,
          0.13592493297587133,
          0.13592493297587133,
          0.13780160857908846,
          0.13780160857908846,
          0.13789097408400358,
          0.13789097408400358,
          0.1388739946380697,
          0.139142091152815,
          0.1393208221626452,
          0.1393208221626452,
          0.1393208221626452,
          0.1393208221626452,
          0.13941018766756033,
          0.13958891867739054,
          0.13967828418230563,
          0.13967828418230563,
          0.13976764968722075,
          0.14012511170688113,
          0.14039320822162646,
          0.14271671134941913,
          0.14343163538873996,
          0.14352100089365505,
          0.14352100089365505,
          0.14405719392314567,
          0.14602323503127793,
          0.14611260053619302,
          0.14611260053619302,
          0.1480786416443253,
          0.1480786416443253,
          0.1481680071492404,
          0.1481680071492404,
          0.1481680071492404,
          0.1485254691689008,
          0.1485254691689008,
          0.15058087578194818,
          0.15067024128686327,
          0.15210008936550493,
          0.15218945487042002,
          0.15227882037533513,
          0.15227882037533513,
          0.15236818588025022,
          0.15236818588025022,
          0.15272564789991064,
          0.15299374441465594,
          0.15299374441465594,
          0.15317247542448614,
          0.15370866845397677,
          0.15540661304736372,
          0.1581769436997319,
          0.1581769436997319,
          0.15844504021447722,
          0.15844504021447722,
          0.15996425379803395,
          0.16023235031277927,
          0.16023235031277927,
          0.16032171581769436,
          0.16032171581769436,
          0.16041108132260948,
          0.16041108132260948,
          0.1609472743521001,
          0.16371760500446828,
          0.16380697050938337,
          0.16380697050938337,
          0.1640750670241287,
          0.1642537980339589,
          0.164343163538874,
          0.1646112600536193,
          0.1646112600536193,
          0.16523681858802503,
          0.16675603217158178,
          0.16684539767649686,
          0.16693476318141198,
          0.16720285969615728,
          0.1707774798927614,
          0.1708668453976765,
          0.1708668453976765,
          0.17113494191242182,
          0.17158176943699732,
          0.17265415549597854,
          0.17283288650580875,
          0.17310098302055407,
          0.17319034852546916,
          0.17336907953529937,
          0.1734584450402145,
          0.17354781054512958,
          0.17399463806970508,
          0.1740840035746202,
          0.1740840035746202,
          0.1741733690795353,
          0.1743521000893655,
          0.17444146559428061,
          0.17444146559428061,
          0.17462019660411082,
          0.1777479892761394,
          0.17864164432529045,
          0.17873100983020554,
          0.18007149240393208,
          0.18016085790884717,
          0.1802502234137623,
          0.1807864164432529,
          0.1807864164432529,
          0.18123324396782842,
          0.18123324396782842,
          0.18141197497765862,
          0.18141197497765862,
          0.18150134048257371,
          0.18248436103663987,
          0.18257372654155496,
          0.1839142091152815,
          0.1841823056300268,
          0.18507596067917784,
          0.18534405719392313,
          0.18534405719392313,
          0.18543342269883825,
          0.1896336014298481,
          0.18990169794459338,
          0.18990169794459338,
          0.19115281501340484,
          0.19124218051831993,
          0.19177837354781055,
          0.19177837354781055,
          0.19195710455764076,
          0.19231456657730117,
          0.19231456657730117,
          0.19240393208221626,
          0.19258266309204647,
          0.193923145665773,
          0.19410187667560322,
          0.19410187667560322,
          0.1941912421805183,
          0.19517426273458446,
          0.19517426273458446,
          0.19517426273458446,
          0.19535299374441464,
          0.19535299374441464,
          0.19562109025915997,
          0.19579982126899018,
          0.1967828418230563,
          0.1968722073279714,
          0.19767649687220734,
          0.19776586237712243,
          0.20134048257372655,
          0.20134048257372655,
          0.20142984807864164,
          0.20160857908847185,
          0.20169794459338694,
          0.20241286863270777,
          0.2025022341376229,
          0.2025022341376229,
          0.2026809651474531,
          0.20285969615728328,
          0.2029490616621984,
          0.20509383378016086,
          0.20580875781948169,
          0.20580875781948169,
          0.20589812332439678,
          0.20589812332439678,
          0.20589812332439678,
          0.20589812332439678,
          0.2062555853440572,
          0.2062555853440572,
          0.2063449508489723,
          0.2066130473637176,
          0.20697050938337802,
          0.21108132260947274,
          0.21126005361930295,
          0.21179624664879357,
          0.2131367292225201,
          0.21331546023235032,
          0.21331546023235032,
          0.2134048257372654,
          0.21358355674709562,
          0.21367292225201073,
          0.21420911528150133,
          0.21456657730116174,
          0.21554959785522787,
          0.2158176943699732,
          0.2158176943699732,
          0.21590705987488829,
          0.21635388739946382,
          0.21635388739946382,
          0.22100089365504916,
          0.22117962466487937,
          0.22153708668453978,
          0.2223413762287757,
          0.2225201072386059,
          0.2225201072386059,
          0.2227882037533512,
          0.2227882037533512,
          0.22332439678284183,
          0.22332439678284183,
          0.22350312779267204,
          0.22350312779267204,
          0.22394995531724754,
          0.22421805183199284,
          0.22430741733690795,
          0.22430741733690795,
          0.22439678284182304,
          0.22448614834673816,
          0.22761394101876675,
          0.22770330652368187,
          0.22797140303842717,
          0.228686327077748,
          0.2288650580875782,
          0.2290437890974084,
          0.2290437890974084,
          0.2293118856121537,
          0.23002680965147454,
          0.23029490616621984,
          0.23029490616621984,
          0.23038427167113495,
          0.23047363717605004,
          0.23065236818588025,
          0.23065236818588025,
          0.23109919571045576,
          0.23208221626452188,
          0.232171581769437,
          0.2324396782841823,
          0.23279714030384271,
          0.23315460232350313,
          0.23315460232350313,
          0.23324396782841822,
          0.23378016085790884,
          0.23386952636282396,
          0.23512064343163538,
          0.2352100089365505,
          0.2352100089365505,
          0.2357462019660411,
          0.24039320822162646,
          0.24048257372654155,
          0.2419124218051832,
          0.2420017873100983,
          0.2422698838248436,
          0.24298480786416443,
          0.24316353887399464,
          0.2451295799821269,
          0.2459338695263628,
          0.24602323503127793,
          0.24629133154602323,
          0.24691689008042894,
          0.24763181411974977,
          0.24781054512957998,
          0.24950848972296694,
          0.24977658623771223,
          0.24986595174262735,
          0.25004468275245756,
          0.2501340482573727,
          0.2501340482573727,
          0.250402144772118,
          0.2522788203753351,
          0.25299374441465594,
          0.25299374441465594,
          0.25326184092940124,
          0.2549597855227882,
          0.2550491510277033,
          0.25915996425379806,
          0.25969615728328865,
          0.25969615728328865,
          0.25978552278820377,
          0.2604110813226095,
          0.2604110813226095,
          0.2609472743521001,
          0.2610366398570152,
          0.2612153708668454,
          0.2612153708668454,
          0.26300268096514745,
          0.26300268096514745,
          0.2637176050044683,
          0.2637176050044683,
          0.2638069705093834,
          0.26389633601429846,
          0.2642537980339589,
          0.2642537980339589,
          0.264343163538874,
          0.26514745308310994,
          0.2653261840929401,
          0.2655942806076854,
          0.26568364611260054,
          0.2670241286863271,
          0.26916890080428957,
          0.26943699731903487,
          0.26997319034852546,
          0.270420017873101,
          0.270420017873101,
          0.2737265415549598,
          0.2738159070598749,
          0.2761394101876676,
          0.276496872207328,
          0.2766756032171582,
          0.2770330652368186,
          0.277390527256479,
          0.2775692582663092,
          0.2780160857908847,
          0.27819481680071495,
          0.27846291331546025,
          0.28025022341376227,
          0.2806076854334227,
          0.2807864164432529,
          0.2809651474530831,
          0.2812332439678284,
          0.2813226094727435,
          0.28176943699731904,
          0.28355674709562106,
          0.2836461126005362,
          0.2836461126005362,
          0.2839142091152815,
          0.2839142091152815,
          0.2840929401251117,
          0.284361036639857,
          0.284361036639857,
          0.28445040214477213,
          0.2865058087578195,
          0.2898123324396783,
          0.2899910634495085,
          0.29052725647899913,
          0.2906166219839142,
          0.2906166219839142,
          0.2909740840035746,
          0.2912421805183199,
          0.291331546023235,
          0.29168900804289544,
          0.29204647006255585,
          0.29240393208221627,
          0.29481680071492405,
          0.29499553172475423,
          0.29535299374441465,
          0.2955317247542449,
          0.2955317247542449,
          0.29571045576407506,
          0.2957998212689902,
          0.2960679177837355,
          0.29785522788203755,
          0.2979445933869526,
          0.3003574620196604,
          0.3004468275245755,
          0.3007149240393208,
          0.3012511170688114,
          0.30142984807864165,
          0.30160857908847183,
          0.30205540661304736,
          0.3022341376228776,
          0.3025022341376229,
          0.3027703306523682,
          0.30294906166219837,
          0.30294906166219837,
          0.3032171581769437,
          0.3033958891867739,
          0.30384271671134944,
          0.30563002680965146,
          0.3058087578194817,
          0.3058981233243968,
          0.3061662198391421,
          0.3063449508489723,
          0.3063449508489723,
          0.3067024128686327,
          0.3067917783735478,
          0.30714924039320823,
          0.30777479892761395,
          0.30813226094727436,
          0.30840035746201966,
          0.3087578194816801,
          0.30893655049151025,
          0.30929401251117067,
          0.3096514745308311,
          0.3100089365504915,
          0.3100983020554066,
          0.3100983020554066,
          0.31072386058981233,
          0.313047363717605,
          0.3134048257372654,
          0.31349419124218053,
          0.3159964253798034,
          0.3160857908847185,
          0.3162645218945487,
          0.3162645218945487,
          0.3167113494191242,
          0.31689008042895445,
          0.31751563896336016,
          0.31769436997319034,
          0.31805183199285075,
          0.31814119749776587,
          0.31840929401251117,
          0.31840929401251117,
          0.3185880250223414,
          0.3193029490616622,
          0.3193923145665773,
          0.32055406613047366,
          0.3209115281501341,
          0.32135835567470955,
          0.32144772117962467,
          0.32162645218945485,
          0.3218945487042002,
          0.3220732797140304,
          0.3221626452189455,
          0.3223413762287757,
          0.3225201072386059,
          0.322609472743521,
          0.3231456657730116,
          0.3233243967828418,
          0.3239499553172475,
          0.3239499553172475,
          0.32403932082216264,
          0.32403932082216264,
          0.32421805183199287,
          0.32680965147453084,
          0.32680965147453084,
          0.3278820375335121,
          0.32806076854334226,
          0.3282394995531725,
          0.3285969615728329,
          0.328686327077748,
          0.3290437890974084,
          0.3291331546023235,
          0.3296693476318141,
          0.32984807864164434,
          0.32984807864164434,
          0.32993744414655946,
          0.3302949061662198,
          0.33065236818588023,
          0.3309204647006256,
          0.33100983020554064,
          0.3311885612153709,
          0.3314566577301162,
          0.3315460232350313,
          0.33163538873994636,
          0.3318141197497766,
          0.3325290437890974,
          0.33288650580875784,
          0.33288650580875784,
          0.33315460232350314,
          0.3333333333333333,
          0.33360142984807867,
          0.33378016085790885,
          0.3344950848972297,
          0.3350312779267203,
          0.3372654155495979,
          0.33771224307417336,
          0.33771224307417336,
          0.3378016085790885,
          0.33798033958891865,
          0.33806970509383377,
          0.338248436103664,
          0.3386952636282395,
          0.3387846291331546,
          0.3396782841823056,
          0.3423592493297587,
          0.342627345844504,
          0.34280607685433423,
          0.34289544235924935,
          0.3430741733690795,
          0.34405719392314565,
          0.34414655942806077,
          0.34441465594280607,
          0.3453083109919571,
          0.3453976764968722,
          0.346112600536193,
          0.346112600536193,
          0.34629133154602326,
          0.34647006255585344,
          0.34647006255585344,
          0.34655942806076856,
          0.34673815907059874,
          0.34718498659517427,
          0.3475424486148347,
          0.34781054512958,
          0.3480786416443253,
          0.3484361036639857,
          0.34861483467381593,
          0.34924039320822164,
          0.3494191242180518,
          0.34977658623771224,
          0.3499553172475425,
          0.35022341376228777,
          0.35040214477211795,
          0.35049151027703307,
          0.35102770330652366,
          0.3511170688114388,
          0.3512064343163539,
          0.3513851653261841,
          0.3520107238605898,
          0.35218945487042,
          0.35308310991957104,
          0.35326184092940127,
          0.35344057193923145,
          0.35370866845397675,
          0.35379803395889187,
          0.35397676496872205,
          0.3544235924932976,
          0.354781054512958,
          0.35495978552278823,
          0.3552278820375335,
          0.355674709562109,
          0.35647899910634495,
          0.35656836461126007,
          0.35656836461126007,
          0.3569258266309205,
          0.35701519213583555,
          0.3577301161751564,
          0.3581769436997319,
          0.3605898123324397,
          0.3607685433422699,
          0.3609472743521001,
          0.3610366398570152,
          0.3612153708668454,
          0.3613941018766756,
          0.36496872207327974,
          0.3651474530831099,
          0.3653261840929401,
          0.36550491510277033,
          0.36604110813226093,
          0.36613047363717605,
          0.3663092046470063,
          0.3665773011617516,
          0.3668453976764969,
          0.366934763181412,
          0.36738159070598747,
          0.3675603217158177,
          0.3680071492403932,
          0.3681858802502234,
          0.36854334226988383,
          0.36899016979445937,
          0.36899016979445937,
          0.36916890080428955,
          0.3698838248436104,
          0.3701519213583557,
          0.37033065236818585,
          0.3705987488829312,
          0.3707774798927614,
          0.3707774798927614,
          0.3712243074173369,
          0.3717605004468275,
          0.37193923145665775,
          0.37256478999106346,
          0.3726541554959786,
          0.37336907953529935,
          0.3735478105451296,
          0.3736371760500447,
          0.37372654155495977,
          0.3744414655942806,
          0.37462019660411083,
          0.374798927613941,
          0.37605004468275244,
          0.3765862377122431,
          0.3769436997319035,
          0.3777479892761394,
          0.3780160857908847,
          0.3784629133154602,
          0.37864164432529046,
          0.3787310098302055,
          0.37890974084003576,
          0.3789991063449509,
          0.37935656836461124,
          0.379982126899017,
          0.3804289544235925,
          0.3806076854334227,
          0.3807864164432529,
          0.38194816800714926,
          0.38257372654155497,
          0.38462913315460234,
          0.3848078641644325,
          0.3850759606791778,
          0.38543342269883824,
          0.38552278820375335,
          0.38561215370866847,
          0.3859696157283289,
          0.38605898123324395,
          0.3862377122430742,
          0.3868632707774799,
          0.386952636282395,
          0.38731009830205543,
          0.3875781948168007,
          0.3877569258266309,
          0.387846291331546,
          0.38820375335120644,
          0.38856121537086685,
          0.38882931188561215,
          0.38891867739052727,
          0.38909740840035745,
          0.39249329758713136,
          0.3944593386952636,
          0.3966934763181412,
          0.39883824843610366,
          0.40035746201966044,
          0.4004468275245755,
          0.4008042895442359,
          0.4010723860589812,
          0.4037533512064343,
          0.4044682752457551,
          0.4056300268096515,
          0.4056300268096515,
          0.4058981233243968,
          0.4058981233243968,
          0.40768543342269886,
          0.4080428954423593,
          0.4099195710455764,
          0.41179624664879355,
          0.41188561215370867,
          0.41215370866845397,
          0.4123324396782842,
          0.41483467381590705,
          0.4159964253798034,
          0.4171581769436997,
          0.41724754244861484,
          0.41751563896336014,
          0.4193029490616622,
          0.4194816800714924,
          0.4197497765862377,
          0.4199285075960679,
          0.42109025915996423,
          0.42117962466487935,
          0.42144772117962465,
          0.42171581769437,
          0.4246648793565684,
          0.42484361036639856,
          0.4252904378909741,
          0.4253798033958892,
          0.4254691689008043,
          0.4255585344057194,
          0.4264521894548704,
          0.42663092046470064,
          0.4268096514745308,
          0.42716711349419123,
          0.4280607685433423,
          0.4283288650580876,
          0.4288650580875782,
          0.4289544235924933,
          0.4291331546023235,
          0.4292225201072386,
          0.4293118856121537,
          0.43145665773011616,
          0.43181411974977657,
          0.4325290437890974,
          0.43324396782841823,
          0.4334226988382484,
          0.43386952636282394,
          0.4340482573726542,
          0.4350312779267203,
          0.4352993744414656,
          0.4355674709562109,
          0.4359249329758713,
          0.43601429848078643,
          0.43789097408400357,
          0.43842716711349417,
          0.4386058981233244,
          0.4386952636282395,
          0.4388739946380697,
          0.4389633601429848,
          0.4389633601429848,
          0.4395889186773905,
          0.4420911528150134,
          0.4422698838248436,
          0.4422698838248436,
          0.4425379803395889,
          0.4428954423592493,
          0.44307417336907956,
          0.44352100089365504,
          0.4446827524575514,
          0.44477211796246646,
          0.4451295799821269,
          0.44539767649687223,
          0.4455764075067024,
          0.4459338695263628,
          0.44629133154602324,
          0.45004468275245757,
          0.45058087578194816,
          0.4506702412868633,
          0.4509383378016086,
          0.4513851653261841,
          0.45218945487042,
          0.4522788203753351,
          0.4524575513851653,
          0.45272564789991065,
          0.45317247542448613,
          0.45326184092940125,
          0.45326184092940125,
          0.45344057193923143,
          0.45665773011617516,
          0.4576407506702413,
          0.45781948168007147,
          0.4616621983914209,
          0.46175156389633604,
          0.4647006255585344,
          0.46845397676496875,
          0.46863270777479893,
          0.4689008042895442,
          0.46907953529937446,
          0.47265415549597856,
          0.47613941018766753,
          0.4797140303842717,
          0.4802502234137623,
          0.4836461126005362,
          0.4867739052725648,
          0.487846291331546,
          0.48802502234137624,
          0.4909740840035746,
          0.49115281501340485,
          0.49410187667560324,
          0.49463806970509383,
          0.49499553172475425,
          0.49776586237712245,
          0.4978552278820375,
          0.500804289544236,
          0.5011617515638963,
          0.5013404825737265,
          0.5033958891867739,
          0.5036639857015193,
          0.5041108132260947,
          0.5070598748882931,
          0.5076854334226988,
          0.5114387846291332,
          0.5116175156389634,
          0.5143878462913315,
          0.5176050044682753,
          0.5176943699731903,
          0.5178731009830205,
          0.5198391420911528,
          0.5199285075960679,
          0.5215370866845398,
          0.5216264521894549,
          0.521805183199285,
          0.5219839142091153,
          0.5229669347631815,
          0.5230563002680965,
          0.5257372654155495,
          0.5258266309204647,
          0.531277926720286,
          0.5338695263628239,
          0.5340482573726542,
          0.5343163538873995,
          0.534763181411975,
          0.5350312779267203,
          0.5359249329758713,
          0.5361036639857015,
          0.5364611260053619,
          0.5367292225201072,
          0.5368185880250224,
          0.5369973190348526,
          0.5417336907953529,
          0.5433422698838248,
          0.5470956210902591,
          0.5472743521000893,
          0.5486148346738159,
          0.5491510277033065,
          0.549508489722967,
          0.5497765862377122,
          0.5540661304736372,
          0.5541554959785523,
          0.5543342269883825,
          0.55656836461126,
          0.5568364611260054,
          0.5571939231456657,
          0.5579088471849866,
          0.5579982126899017,
          0.5630026809651475,
          0.5631814119749776,
          0.5633601429848079,
          0.5636282394995532,
          0.5642537980339589,
          0.564343163538874,
          0.5655049151027703,
          0.5656836461126006,
          0.5656836461126006,
          0.5661304736371761,
          0.568722073279714,
          0.5690795352993745,
          0.5694369973190349,
          0.5694369973190349,
          0.5697944593386952,
          0.5700625558534406,
          0.5708668453976765,
          0.5709562109025916,
          0.5711349419124218,
          0.5757819481680071,
          0.5760500446827524,
          0.5761394101876676,
          0.5764968722073279,
          0.5767649687220733,
          0.5777479892761395,
          0.5778373547810545,
          0.5780160857908847,
          0.5831992850759606,
          0.5836461126005362,
          0.5838248436103664,
          0.5840929401251117,
          0.5841823056300268,
          0.5845397676496872,
          0.5847184986595174,
          0.5848972296693477,
          0.5865058087578194,
          0.5868632707774799,
          0.5868632707774799,
          0.586952636282395,
          0.5872207327971403,
          0.5884718498659517,
          0.5884718498659517,
          0.5885612153708668,
          0.5918677390527256,
          0.592135835567471,
          0.5924039320822163,
          0.5925826630920464,
          0.598212689901698,
          0.5983914209115282,
          0.5986595174262734,
          0.5987488829311886,
          0.6,
          0.6001787310098302,
          0.6002680965147453,
          0.6017873100983021,
          0.6020554066130474,
          0.6022341376228776,
          0.6024128686327078,
          0.602591599642538,
          0.6027703306523682,
          0.603485254691689,
          0.6038427167113494,
          0.6042001787310098,
          0.6043789097408401,
          0.6044682752457552,
          0.6054512957998213,
          0.6057193923145666,
          0.6059874888293119,
          0.6062555853440572,
          0.6128686327077748,
          0.613047363717605,
          0.616443252904379,
          0.6167113494191242,
          0.6169794459338696,
          0.6171581769436997,
          0.6173369079535299,
          0.6175156389633601,
          0.618230563002681,
          0.6185880250223413,
          0.6188561215370867,
          0.6196604110813226,
          0.6197497765862378,
          0.6199285075960679,
          0.620017873100983,
          0.6202859696157283,
          0.6209115281501341,
          0.6213583556747095,
          0.6214477211796247,
          0.6271671134941913,
          0.6273458445040214,
          0.6276139410187668,
          0.6283288650580876,
          0.6285075960679177,
          0.6287756925826631,
          0.630384271671135,
          0.6375335120643432,
          0.6376228775692583,
          0.6390527256478999,
          0.6392314566577301,
          0.6393208221626452,
          0.6394995531724754,
          0.6396782841823057,
          0.644325290437891,
          0.6445933869526362,
          0.6447721179624665,
          0.6448614834673816,
          0.6451295799821269,
          0.645218945487042,
          0.6454870420017873,
          0.6455764075067024,
          0.6460232350312779,
          0.6462019660411081,
          0.6467381590705987,
          0.6477211796246649,
          0.6479892761394102,
          0.6481680071492404,
          0.6488829311885612,
          0.6489722966934763,
          0.6491510277033066,
          0.6493297587131367,
          0.649597855227882,
          0.6496872207327972,
          0.6504915102770331,
          0.6504915102770331,
          0.6506702412868632,
          0.6571045576407507,
          0.657372654155496,
          0.6575513851653262,
          0.6579088471849865,
          0.6580875781948168,
          0.658266309204647,
          0.6584450402144773,
          0.6589812332439678,
          0.6593386952636282,
          0.6595174262734584,
          0.6597855227882038,
          0.6599642537980339,
          0.6604110813226095,
          0.6605898123324396,
          0.6606791778373547,
          0.661751563896336,
          0.6618409294012512,
          0.6621090259159964,
          0.6621983914209115,
          0.6624664879356569,
          0.6625558534405719,
          0.6663092046470063,
          0.6666666666666666,
          0.6667560321715817,
          0.6670241286863271,
          0.6670241286863271,
          0.6671134941912422,
          0.6674709562109026,
          0.6680071492403932,
          0.6680965147453083,
          0.6682752457551385,
          0.6683646112600536,
          0.6686327077747989,
          0.6699731903485254,
          0.6761394101876675,
          0.6768543342269884,
          0.6769436997319035,
          0.6770330652368186,
          0.6771224307417337,
          0.677390527256479,
          0.6776586237712243,
          0.6840929401251117,
          0.6841823056300268,
          0.6845397676496873,
          0.6850759606791779,
          0.685254691689008,
          0.6853440571939231,
          0.6857015192135836,
          0.6858802502234138,
          0.6865058087578195,
          0.6868632707774799,
          0.6870420017873101,
          0.6872207327971404,
          0.6874888293118856,
          0.6876675603217158,
          0.6878462913315461,
          0.6925826630920465,
          0.6926720285969615,
          0.6928507596067918,
          0.6932975871313672,
          0.6934763181411975,
          0.693833780160858,
          0.6941018766756032,
          0.6942806076854334,
          0.6943699731903485,
          0.7018766756032172,
          0.7020554066130473,
          0.7021447721179624,
          0.7023235031277927,
          0.7027703306523682,
          0.7028596961572833,
          0.7033958891867739,
          0.7035746201966041,
          0.7036639857015192,
          0.7040214477211796,
          0.7042895442359249,
          0.7044682752457552,
          0.7050938337801609,
          0.7053619302949061,
          0.7057193923145666,
          0.7064343163538874,
          0.7067024128686327,
          0.7067024128686327,
          0.706970509383378,
          0.7071492403932083,
          0.7075067024128686,
          0.7082216264521894,
          0.7084897229669348,
          0.7086684539767649,
          0.7090259159964254,
          0.7094727435210009,
          0.7100089365504915,
          0.7161751563896336,
          0.7163538873994638,
          0.716532618409294,
          0.72171581769437,
          0.7218051831992851,
          0.7220732797140303,
          0.7224307417336908,
          0.7226988382484361,
          0.7228775692582663,
          0.7229669347631814,
          0.7233243967828418,
          0.7238605898123325,
          0.7239499553172476,
          0.7310098302055407,
          0.7314566577301161,
          0.7318141197497766,
          0.7319034852546917,
          0.7325290437890974,
          0.7327077747989276,
          0.7329758713136729,
          0.7331546023235032,
          0.7333333333333333,
          0.7333333333333333,
          0.7334226988382484,
          0.7336907953529938,
          0.733869526362824,
          0.7340482573726541,
          0.7342269883824843,
          0.7350312779267203,
          0.7355674709562109,
          0.735656836461126,
          0.7359249329758714,
          0.7361930294906166,
          0.7428954423592493,
          0.7429848078641644,
          0.7432529043789098,
          0.7433422698838248,
          0.743521000893655,
          0.7437890974084004,
          0.7441465594280607,
          0.7445040214477212,
          0.7446827524575513,
          0.7448614834673816,
          0.7457551385165326,
          0.7459338695263629,
          0.746112600536193,
          0.7465594280607686,
          0.7517426273458445,
          0.7519213583556748,
          0.75218945487042,
          0.7523681858802502,
          0.7524575513851653,
          0.7529043789097408,
          0.7535299374441465,
          0.753887399463807,
          0.7548704200178731,
          0.7549597855227882,
          0.7552278820375335,
          0.7558534405719393,
          0.7560321715817694,
          0.7563002680965147,
          0.756478999106345,
          0.7566577301161752,
          0.7568364611260053,
          0.7571045576407507,
          0.7573726541554959,
          0.7575513851653262,
          0.7577301161751564,
          0.7579088471849866,
          0.7579982126899018,
          0.7647899910634495,
          0.7655049151027703,
          0.7729222520107238,
          0.7732797140303843,
          0.7733690795352993,
          0.7737265415549598,
          0.77390527256479,
          0.7741733690795353,
          0.7742627345844504,
          0.7744414655942806,
          0.7747095621090259,
          0.7754244861483467,
          0.7759606791778374,
          0.7761394101876675,
          0.7763181411974978,
          0.7764075067024129,
          0.7768543342269884,
          0.7769436997319035,
          0.7771224307417337,
          0.7773011617515639,
          0.7775692582663092,
          0.7776586237712243,
          0.7784629133154602,
          0.7786416443252905,
          0.7829311885612154,
          0.7831099195710456,
          0.7833780160857908,
          0.783467381590706,
          0.7836461126005362,
          0.7840035746201967,
          0.7905272564789991,
          0.7907059874888294,
          0.7915996425379803,
          0.7917783735478106,
          0.7925826630920465,
          0.7932082216264522,
          0.7935656836461126,
          0.793923145665773,
          0.7941018766756032,
          0.7941018766756032,
          0.7942806076854334,
          0.7947274352100089,
          0.7986595174262735,
          0.7989276139410187,
          0.7991957104557641,
          0.7994638069705093,
          0.7998212689901698,
          0.8003574620196604,
          0.8004468275245755,
          0.8016085790884718,
          0.801697944593387,
          0.8024128686327078,
          0.8026809651474531,
          0.8100089365504916,
          0.8103663985701519,
          0.8118856121537087,
          0.8119749776586238,
          0.8167113494191243,
          0.8168900804289544,
          0.8172475424486149,
          0.81733690795353,
          0.8175156389633601,
          0.8177837354781055,
          0.8195710455764075,
          0.8198391420911528,
          0.8202859696157283,
          0.8204647006255585,
          0.8206434316353888,
          0.820911528150134,
          0.8210008936550491,
          0.8215370866845397,
          0.8216264521894548,
          0.8219839142091153,
          0.8219839142091153,
          0.8223413762287757,
          0.8294012511170689,
          0.8294906166219839,
          0.8298480786416443,
          0.8303842716711349,
          0.8310991957104558,
          0.8319034852546917,
          0.8325290437890974,
          0.8379803395889187,
          0.8381590705987488,
          0.8383378016085791,
          0.8386058981233244,
          0.8394101876675604,
          0.8396782841823056,
          0.8398570151921358,
          0.8402144772117962,
          0.8403932082216264,
          0.8405719392314567,
          0.8407506702412869,
          0.8416443252904379,
          0.8419124218051832,
          0.8420017873100983,
          0.849597855227882,
          0.8503127792672028,
          0.850402144772118,
          0.8511170688114388,
          0.8514745308310991,
          0.8516532618409294,
          0.8620196604110814,
          0.8621983914209115,
          0.8622877569258266,
          0.8624664879356568,
          0.863449508489723,
          0.863538873994638,
          0.8642537980339589,
          0.864343163538874,
          0.8650580875781948,
          0.8655942806076854,
          0.8663092046470062,
          0.8750670241286863,
          0.8751563896336014,
          0.8754244861483468,
          0.8755138516532618,
          0.8757819481680071,
          0.8758713136729223,
          0.886952636282395,
          0.8882037533512064,
          0.8882931188561215,
          0.8884718498659517,
          0.8887399463806971,
          0.8894548704200179,
          0.8897229669347632,
          0.8899910634495085,
          0.8902591599642538,
          0.890437890974084,
          0.8906166219839142,
          0.8988382484361037,
          0.8989276139410187,
          0.8991957104557641,
          0.8993744414655943,
          0.8994638069705094,
          0.8996425379803396,
          0.8997319034852547,
          0.9007149240393209,
          0.913047363717605,
          0.9134048257372654,
          0.9140303842716712,
          0.9142091152815014,
          0.9149240393208221,
          0.9150134048257372,
          0.9248436103663986,
          0.9250223413762287,
          0.9251117068811439,
          0.9254691689008043,
          0.9267202859696158,
          0.9268096514745309,
          0.9394995531724755,
          0.9395889186773905,
          0.9398570151921358,
          0.9400357462019661,
          0.9402144772117963,
          0.9403932082216264,
          0.9411081322609472,
          0.9412868632707775,
          0.9413762287756926,
          0.9496872207327971,
          0.9498659517426273,
          0.9504021447721179,
          0.9507596067917784,
          0.9509383378016085,
          0.960857908847185,
          0.9610366398570152,
          0.9613941018766756,
          0.9615728328865059,
          0.9620196604110813,
          0.9621983914209116,
          0.9622877569258266,
          0.962645218945487,
          0.9627345844504022,
          0.971313672922252,
          0.9714924039320822,
          0.9725647899910634,
          0.9726541554959786,
          0.977390527256479,
          0.9775692582663092,
          0.9778373547810545,
          0.9779267202859696,
          0.9785522788203753,
          0.9786416443252904,
          0.9790884718498659,
          0.9859696157283289,
          0.9875781948168008,
          0.9877569258266309,
          0.9880250223413762,
          0.9882037533512065,
          0.9882931188561216,
          0.9888293118856122,
          0.9907059874888293,
          0.9908847184986596,
          0.9909740840035747,
          0.9914209115281502,
          0.9915102770330653,
          0.9979445933869526,
          0.9981233243967829,
          0.999195710455764,
          0.9992850759606792,
          0.9996425379803396,
          0.9998212689901698,
          1
         ],
         "y": [
          0,
          0.02189189189189189,
          0.023783783783783784,
          0.024324324324324326,
          0.024864864864864864,
          0.025405405405405406,
          0.02702702702702703,
          0.02702702702702703,
          0.03432432432432433,
          0.03486486486486486,
          0.03702702702702703,
          0.03810810810810811,
          0.03918918918918919,
          0.04,
          0.04027027027027027,
          0.04081081081081081,
          0.041891891891891894,
          0.04297297297297297,
          0.044054054054054055,
          0.04540540540540541,
          0.045675675675675674,
          0.046486486486486484,
          0.04675675675675676,
          0.04756756756756757,
          0.047837837837837835,
          0.04891891891891892,
          0.049189189189189186,
          0.05027027027027027,
          0.051351351351351354,
          0.052162162162162164,
          0.05324324324324324,
          0.05405405405405406,
          0.054324324324324325,
          0.054864864864864867,
          0.05783783783783784,
          0.05837837837837838,
          0.05891891891891892,
          0.05945945945945946,
          0.05972972972972973,
          0.06054054054054054,
          0.06108108108108108,
          0.06324324324324325,
          0.06378378378378378,
          0.06405405405405405,
          0.0645945945945946,
          0.06486486486486487,
          0.06594594594594595,
          0.06621621621621622,
          0.06675675675675675,
          0.07270270270270271,
          0.07324324324324324,
          0.08486486486486486,
          0.08540540540540541,
          0.08540540540540541,
          0.08567567567567567,
          0.08621621621621621,
          0.08675675675675676,
          0.08675675675675676,
          0.08702702702702703,
          0.08702702702702703,
          0.08945945945945946,
          0.08945945945945946,
          0.10027027027027027,
          0.10081081081081081,
          0.10108108108108108,
          0.10162162162162162,
          0.10189189189189189,
          0.10270270270270271,
          0.10324324324324324,
          0.10351351351351351,
          0.1045945945945946,
          0.10513513513513513,
          0.10621621621621621,
          0.10675675675675676,
          0.10810810810810811,
          0.10918918918918918,
          0.10972972972972973,
          0.11081081081081082,
          0.11189189189189189,
          0.11324324324324324,
          0.11378378378378379,
          0.11432432432432432,
          0.11432432432432432,
          0.11648648648648649,
          0.11648648648648649,
          0.11675675675675676,
          0.11675675675675676,
          0.11864864864864864,
          0.11918918918918919,
          0.11918918918918919,
          0.12,
          0.12054054054054054,
          0.12135135135135135,
          0.1218918918918919,
          0.12297297297297298,
          0.12432432432432433,
          0.12432432432432433,
          0.12486486486486487,
          0.12567567567567567,
          0.1264864864864865,
          0.12702702702702703,
          0.12783783783783784,
          0.1291891891891892,
          0.12972972972972974,
          0.13216216216216217,
          0.13324324324324324,
          0.1335135135135135,
          0.13405405405405404,
          0.1362162162162162,
          0.13675675675675675,
          0.1372972972972973,
          0.13783783783783785,
          0.1381081081081081,
          0.13891891891891892,
          0.14027027027027028,
          0.14081081081081082,
          0.14081081081081082,
          0.14216216216216215,
          0.14270270270270272,
          0.14405405405405405,
          0.1445945945945946,
          0.14513513513513512,
          0.14594594594594595,
          0.14702702702702702,
          0.14756756756756756,
          0.14810810810810812,
          0.14864864864864866,
          0.1491891891891892,
          0.14972972972972973,
          0.1518918918918919,
          0.1518918918918919,
          0.15216216216216216,
          0.15297297297297296,
          0.15486486486486487,
          0.15486486486486487,
          0.15513513513513513,
          0.15567567567567567,
          0.15675675675675677,
          0.1572972972972973,
          0.1581081081081081,
          0.15864864864864864,
          0.1589189189189189,
          0.15972972972972974,
          0.16027027027027027,
          0.1608108108108108,
          0.16297297297297297,
          0.1635135135135135,
          0.16405405405405404,
          0.1645945945945946,
          0.1654054054054054,
          0.16594594594594594,
          0.16675675675675675,
          0.1681081081081081,
          0.16891891891891891,
          0.16945945945945945,
          0.16945945945945945,
          0.17,
          0.17054054054054055,
          0.17108108108108108,
          0.17216216216216215,
          0.17270270270270272,
          0.17378378378378379,
          0.17432432432432432,
          0.17486486486486486,
          0.17486486486486486,
          0.17513513513513512,
          0.17513513513513512,
          0.17567567567567569,
          0.17675675675675676,
          0.17675675675675676,
          0.17702702702702702,
          0.17783783783783783,
          0.17783783783783783,
          0.17810810810810812,
          0.1791891891891892,
          0.18297297297297296,
          0.18351351351351353,
          0.18432432432432433,
          0.1845945945945946,
          0.1854054054054054,
          0.18567567567567567,
          0.18567567567567567,
          0.1881081081081081,
          0.1891891891891892,
          0.18945945945945947,
          0.18945945945945947,
          0.19,
          0.1918918918918919,
          0.19297297297297297,
          0.19297297297297297,
          0.19378378378378378,
          0.19378378378378378,
          0.19405405405405404,
          0.19513513513513514,
          0.19567567567567568,
          0.19648648648648648,
          0.19756756756756758,
          0.19783783783783784,
          0.19918918918918918,
          0.2,
          0.20189189189189188,
          0.20216216216216215,
          0.20243243243243242,
          0.20324324324324325,
          0.20405405405405405,
          0.20405405405405405,
          0.20432432432432432,
          0.2045945945945946,
          0.20540540540540542,
          0.20540540540540542,
          0.20594594594594595,
          0.20621621621621622,
          0.20621621621621622,
          0.20675675675675675,
          0.20675675675675675,
          0.2072972972972973,
          0.20864864864864865,
          0.20864864864864865,
          0.2091891891891892,
          0.2091891891891892,
          0.20945945945945946,
          0.21,
          0.21135135135135136,
          0.21135135135135136,
          0.21162162162162163,
          0.21243243243243243,
          0.21351351351351353,
          0.21405405405405406,
          0.21486486486486486,
          0.2154054054054054,
          0.21594594594594593,
          0.21594594594594593,
          0.2164864864864865,
          0.21675675675675676,
          0.2172972972972973,
          0.21864864864864864,
          0.21864864864864864,
          0.21891891891891893,
          0.21945945945945947,
          0.21972972972972973,
          0.21972972972972973,
          0.22054054054054054,
          0.22135135135135134,
          0.22135135135135134,
          0.2218918918918919,
          0.2227027027027027,
          0.22297297297297297,
          0.22297297297297297,
          0.22324324324324324,
          0.22405405405405404,
          0.22432432432432434,
          0.22432432432432434,
          0.2254054054054054,
          0.2262162162162162,
          0.22675675675675674,
          0.22675675675675674,
          0.22702702702702704,
          0.22702702702702704,
          0.2281081081081081,
          0.2289189189189189,
          0.23,
          0.2308108108108108,
          0.23162162162162162,
          0.23189189189189188,
          0.23243243243243245,
          0.23324324324324325,
          0.23324324324324325,
          0.23378378378378378,
          0.23459459459459459,
          0.23513513513513515,
          0.23540540540540542,
          0.23594594594594595,
          0.23594594594594595,
          0.23648648648648649,
          0.23783783783783785,
          0.23837837837837839,
          0.23891891891891892,
          0.24,
          0.24054054054054055,
          0.24054054054054055,
          0.24135135135135136,
          0.2418918918918919,
          0.24324324324324326,
          0.24351351351351352,
          0.2437837837837838,
          0.2437837837837838,
          0.24486486486486486,
          0.2454054054054054,
          0.24621621621621623,
          0.24621621621621623,
          0.2464864864864865,
          0.24756756756756756,
          0.24837837837837837,
          0.24891891891891893,
          0.24891891891891893,
          0.2491891891891892,
          0.2491891891891892,
          0.25054054054054054,
          0.25054054054054054,
          0.25108108108108107,
          0.2518918918918919,
          0.2518918918918919,
          0.2545945945945946,
          0.25972972972972974,
          0.2602702702702703,
          0.2627027027027027,
          0.26297297297297295,
          0.26513513513513515,
          0.2656756756756757,
          0.26594594594594595,
          0.267027027027027,
          0.2672972972972973,
          0.26972972972972975,
          0.2710810810810811,
          0.2716216216216216,
          0.2724324324324324,
          0.27297297297297296,
          0.27378378378378376,
          0.27702702702702703,
          0.2772972972972973,
          0.2781081081081081,
          0.27864864864864863,
          0.27945945945945944,
          0.28162162162162163,
          0.2818918918918919,
          0.2835135135135135,
          0.28405405405405404,
          0.2851351351351351,
          0.2872972972972973,
          0.2883783783783784,
          0.2889189189189189,
          0.2891891891891892,
          0.2891891891891892,
          0.29027027027027025,
          0.29324324324324325,
          0.29324324324324325,
          0.2937837837837838,
          0.2937837837837838,
          0.29405405405405405,
          0.29405405405405405,
          0.29486486486486485,
          0.2972972972972973,
          0.2972972972972973,
          0.29783783783783785,
          0.2983783783783784,
          0.2997297297297297,
          0.3,
          0.30243243243243245,
          0.302972972972973,
          0.302972972972973,
          0.30324324324324325,
          0.3043243243243243,
          0.3043243243243243,
          0.30486486486486486,
          0.30486486486486486,
          0.3051351351351351,
          0.307027027027027,
          0.30783783783783786,
          0.30783783783783786,
          0.3081081081081081,
          0.31,
          0.31054054054054053,
          0.3124324324324324,
          0.312972972972973,
          0.31351351351351353,
          0.31351351351351353,
          0.31432432432432433,
          0.31432432432432433,
          0.3145945945945946,
          0.3145945945945946,
          0.3154054054054054,
          0.3154054054054054,
          0.3172972972972973,
          0.3178378378378378,
          0.3183783783783784,
          0.32054054054054054,
          0.3218918918918919,
          0.3224324324324324,
          0.3227027027027027,
          0.3227027027027027,
          0.3227027027027027,
          0.32297297297297295,
          0.32297297297297295,
          0.32297297297297295,
          0.32432432432432434,
          0.3245945945945946,
          0.3245945945945946,
          0.3254054054054054,
          0.32594594594594595,
          0.32594594594594595,
          0.3310810810810811,
          0.33756756756756756,
          0.33756756756756756,
          0.33918918918918917,
          0.33945945945945943,
          0.34459459459459457,
          0.3491891891891892,
          0.34945945945945944,
          0.35,
          0.35027027027027025,
          0.352972972972973,
          0.35324324324324324,
          0.3583783783783784,
          0.35864864864864865,
          0.35864864864864865,
          0.3589189189189189,
          0.3589189189189189,
          0.36162162162162165,
          0.36162162162162165,
          0.3672972972972973,
          0.3675675675675676,
          0.36783783783783786,
          0.36783783783783786,
          0.3681081081081081,
          0.3681081081081081,
          0.3683783783783784,
          0.37027027027027026,
          0.3727027027027027,
          0.372972972972973,
          0.372972972972973,
          0.37783783783783786,
          0.37810810810810813,
          0.37810810810810813,
          0.3783783783783784,
          0.3783783783783784,
          0.37864864864864867,
          0.3808108108108108,
          0.3808108108108108,
          0.3810810810810811,
          0.38675675675675675,
          0.387027027027027,
          0.387027027027027,
          0.3872972972972973,
          0.3872972972972973,
          0.38756756756756755,
          0.38756756756756755,
          0.39513513513513515,
          0.39513513513513515,
          0.3954054054054054,
          0.3954054054054054,
          0.39594594594594595,
          0.39594594594594595,
          0.397027027027027,
          0.3978378378378378,
          0.3978378378378378,
          0.40324324324324323,
          0.4035135135135135,
          0.40378378378378377,
          0.40378378378378377,
          0.40459459459459457,
          0.41162162162162164,
          0.41162162162162164,
          0.4118918918918919,
          0.4118918918918919,
          0.4154054054054054,
          0.41702702702702704,
          0.41702702702702704,
          0.4172972972972973,
          0.41783783783783784,
          0.41783783783783784,
          0.4181081081081081,
          0.4191891891891892,
          0.42,
          0.4245945945945946,
          0.4251351351351351,
          0.4251351351351351,
          0.4254054054054054,
          0.4254054054054054,
          0.42567567567567566,
          0.42567567567567566,
          0.43135135135135133,
          0.43135135135135133,
          0.4337837837837838,
          0.43432432432432433,
          0.43432432432432433,
          0.4345945945945946,
          0.4345945945945946,
          0.4354054054054054,
          0.4354054054054054,
          0.43567567567567567,
          0.4362162162162162,
          0.43648648648648647,
          0.4416216216216216,
          0.4416216216216216,
          0.44216216216216214,
          0.44216216216216214,
          0.442972972972973,
          0.44324324324324327,
          0.44324324324324327,
          0.4437837837837838,
          0.4437837837837838,
          0.44405405405405407,
          0.44432432432432434,
          0.4445945945945946,
          0.4445945945945946,
          0.4448648648648649,
          0.4464864864864865,
          0.4472972972972973,
          0.4472972972972973,
          0.4478378378378378,
          0.4491891891891892,
          0.45,
          0.4545945945945946,
          0.45513513513513515,
          0.4554054054054054,
          0.4562162162162162,
          0.4562162162162162,
          0.4564864864864865,
          0.4564864864864865,
          0.457027027027027,
          0.4572972972972973,
          0.4581081081081081,
          0.45837837837837836,
          0.45837837837837836,
          0.4586486486486486,
          0.4594594594594595,
          0.4594594594594595,
          0.46,
          0.4602702702702703,
          0.46054054054054056,
          0.46594594594594596,
          0.46621621621621623,
          0.4672972972972973,
          0.4672972972972973,
          0.46783783783783783,
          0.46783783783783783,
          0.46837837837837837,
          0.46837837837837837,
          0.46864864864864864,
          0.46864864864864864,
          0.4689189189189189,
          0.47,
          0.47054054054054056,
          0.47135135135135137,
          0.47162162162162163,
          0.47162162162162163,
          0.47216216216216217,
          0.47216216216216217,
          0.4727027027027027,
          0.4727027027027027,
          0.47324324324324324,
          0.4735135135135135,
          0.47675675675675677,
          0.47702702702702704,
          0.47702702702702704,
          0.4791891891891892,
          0.4791891891891892,
          0.47945945945945945,
          0.47945945945945945,
          0.48027027027027025,
          0.4805405405405405,
          0.4808108108108108,
          0.4808108108108108,
          0.4810810810810811,
          0.4810810810810811,
          0.48162162162162164,
          0.482972972972973,
          0.48324324324324325,
          0.48324324324324325,
          0.4837837837837838,
          0.48405405405405405,
          0.48405405405405405,
          0.48486486486486485,
          0.4851351351351351,
          0.4859459459459459,
          0.4859459459459459,
          0.4875675675675676,
          0.48783783783783785,
          0.4927027027027027,
          0.4943243243243243,
          0.4943243243243243,
          0.49513513513513513,
          0.4962162162162162,
          0.4962162162162162,
          0.4962162162162162,
          0.4962162162162162,
          0.4975675675675676,
          0.49891891891891893,
          0.49945945945945946,
          0.49945945945945946,
          0.49972972972972973,
          0.49972972972972973,
          0.5010810810810811,
          0.5010810810810811,
          0.5016216216216216,
          0.5018918918918919,
          0.5024324324324324,
          0.5024324324324324,
          0.5027027027027027,
          0.5037837837837837,
          0.5037837837837837,
          0.5045945945945945,
          0.5048648648648648,
          0.5051351351351351,
          0.5051351351351351,
          0.5056756756756757,
          0.5097297297297297,
          0.5097297297297297,
          0.5097297297297297,
          0.5097297297297297,
          0.5097297297297297,
          0.5097297297297297,
          0.51,
          0.51,
          0.5108108108108108,
          0.5108108108108108,
          0.5116216216216216,
          0.5121621621621621,
          0.5121621621621621,
          0.5127027027027027,
          0.512972972972973,
          0.512972972972973,
          0.5145945945945946,
          0.5145945945945946,
          0.5148648648648648,
          0.5151351351351351,
          0.5151351351351351,
          0.5154054054054054,
          0.5162162162162162,
          0.5167567567567568,
          0.5167567567567568,
          0.5172972972972973,
          0.5172972972972973,
          0.5175675675675676,
          0.5175675675675676,
          0.5181081081081081,
          0.5181081081081081,
          0.5183783783783784,
          0.5221621621621622,
          0.5232432432432432,
          0.5235135135135135,
          0.5235135135135135,
          0.5237837837837838,
          0.5256756756756756,
          0.528918918918919,
          0.5291891891891892,
          0.5291891891891892,
          0.5294594594594595,
          0.5294594594594595,
          0.5318918918918919,
          0.5321621621621622,
          0.5343243243243243,
          0.5348648648648648,
          0.5348648648648648,
          0.5354054054054054,
          0.5354054054054054,
          0.5364864864864864,
          0.5364864864864864,
          0.5408108108108108,
          0.5443243243243243,
          0.5443243243243243,
          0.5445945945945946,
          0.5451351351351351,
          0.5451351351351351,
          0.5454054054054054,
          0.5454054054054054,
          0.5456756756756757,
          0.5464864864864865,
          0.5464864864864865,
          0.5467567567567567,
          0.5467567567567567,
          0.547027027027027,
          0.5472972972972973,
          0.5472972972972973,
          0.5513513513513514,
          0.5518918918918919,
          0.5540540540540541,
          0.5545945945945946,
          0.5586486486486486,
          0.5586486486486486,
          0.5589189189189189,
          0.5589189189189189,
          0.5597297297297297,
          0.5602702702702703,
          0.5613513513513514,
          0.5618918918918919,
          0.5618918918918919,
          0.5621621621621622,
          0.5621621621621622,
          0.5651351351351351,
          0.5654054054054054,
          0.5654054054054054,
          0.5672972972972973,
          0.5681081081081081,
          0.5681081081081081,
          0.5683783783783783,
          0.5683783783783783,
          0.5686486486486486,
          0.5691891891891891,
          0.5691891891891891,
          0.5694594594594594,
          0.5694594594594594,
          0.5702702702702702,
          0.5702702702702702,
          0.5708108108108109,
          0.5708108108108109,
          0.5710810810810811,
          0.5764864864864865,
          0.5764864864864865,
          0.5772972972972973,
          0.5772972972972973,
          0.5791891891891892,
          0.5791891891891892,
          0.5791891891891892,
          0.5797297297297297,
          0.5797297297297297,
          0.58,
          0.58,
          0.5802702702702702,
          0.5835135135135135,
          0.5835135135135135,
          0.5835135135135135,
          0.5837837837837838,
          0.5837837837837838,
          0.5840540540540541,
          0.59,
          0.5905405405405405,
          0.5916216216216216,
          0.5927027027027028,
          0.592972972972973,
          0.5937837837837838,
          0.5937837837837838,
          0.5940540540540541,
          0.5951351351351352,
          0.5951351351351352,
          0.595945945945946,
          0.5964864864864865,
          0.5964864864864865,
          0.5997297297297297,
          0.5997297297297297,
          0.5997297297297297,
          0.6,
          0.6002702702702702,
          0.6002702702702702,
          0.6005405405405405,
          0.6013513513513513,
          0.6016216216216216,
          0.6021621621621621,
          0.6027027027027027,
          0.6027027027027027,
          0.6029729729729729,
          0.6029729729729729,
          0.6083783783783784,
          0.6086486486486486,
          0.6086486486486486,
          0.6091891891891892,
          0.6094594594594595,
          0.61,
          0.6145945945945946,
          0.6145945945945946,
          0.6194594594594595,
          0.6197297297297297,
          0.6232432432432432,
          0.6232432432432432,
          0.6235135135135135,
          0.6235135135135135,
          0.6237837837837837,
          0.6251351351351352,
          0.6251351351351352,
          0.6305405405405405,
          0.6318918918918919,
          0.6324324324324324,
          0.6356756756756756,
          0.6356756756756756,
          0.635945945945946,
          0.6378378378378379,
          0.6381081081081081,
          0.6381081081081081,
          0.6383783783783784,
          0.6383783783783784,
          0.6410810810810811,
          0.6410810810810811,
          0.642972972972973,
          0.6462162162162162,
          0.6462162162162162,
          0.6464864864864864,
          0.6464864864864864,
          0.6470270270270271,
          0.6470270270270271,
          0.6472972972972973,
          0.6472972972972973,
          0.6475675675675676,
          0.6532432432432432,
          0.6537837837837838,
          0.6591891891891892,
          0.66,
          0.66,
          0.6624324324324324,
          0.6624324324324324,
          0.6627027027027027,
          0.6627027027027027,
          0.662972972972973,
          0.6635135135135135,
          0.6637837837837838,
          0.6637837837837838,
          0.664054054054054,
          0.664054054054054,
          0.6681081081081081,
          0.6681081081081081,
          0.6681081081081081,
          0.6681081081081081,
          0.6710810810810811,
          0.6710810810810811,
          0.6754054054054054,
          0.6762162162162162,
          0.6762162162162162,
          0.6762162162162162,
          0.6762162162162162,
          0.6775675675675675,
          0.6775675675675675,
          0.6778378378378378,
          0.6778378378378378,
          0.6781081081081081,
          0.6781081081081081,
          0.6781081081081081,
          0.6810810810810811,
          0.6813513513513514,
          0.6840540540540541,
          0.6843243243243243,
          0.6843243243243243,
          0.6845945945945946,
          0.6881081081081081,
          0.6881081081081081,
          0.6886486486486486,
          0.6889189189189189,
          0.6894594594594594,
          0.6897297297297297,
          0.6897297297297297,
          0.69,
          0.69,
          0.6902702702702703,
          0.6902702702702703,
          0.6913513513513514,
          0.6918918918918919,
          0.6945945945945946,
          0.6948648648648649,
          0.6948648648648649,
          0.6951351351351351,
          0.6956756756756757,
          0.6989189189189189,
          0.6989189189189189,
          0.6991891891891892,
          0.7037837837837838,
          0.7043243243243243,
          0.7043243243243243,
          0.7045945945945946,
          0.7054054054054054,
          0.7054054054054054,
          0.7056756756756757,
          0.7094594594594594,
          0.7094594594594594,
          0.712972972972973,
          0.712972972972973,
          0.7132432432432433,
          0.7135135135135136,
          0.7135135135135136,
          0.7143243243243244,
          0.7145945945945946,
          0.7145945945945946,
          0.7151351351351352,
          0.7151351351351352,
          0.7162162162162162,
          0.7197297297297297,
          0.7237837837837838,
          0.7240540540540541,
          0.7240540540540541,
          0.7245945945945946,
          0.7254054054054054,
          0.7254054054054054,
          0.7256756756756757,
          0.7256756756756757,
          0.725945945945946,
          0.7262162162162162,
          0.7264864864864865,
          0.727027027027027,
          0.7302702702702702,
          0.7302702702702702,
          0.7305405405405405,
          0.7305405405405405,
          0.7305405405405405,
          0.7305405405405405,
          0.7313513513513513,
          0.7316216216216216,
          0.7318918918918919,
          0.7337837837837838,
          0.7337837837837838,
          0.7343243243243244,
          0.7343243243243244,
          0.7375675675675676,
          0.7375675675675676,
          0.7378378378378379,
          0.7378378378378379,
          0.7389189189189189,
          0.7408108108108108,
          0.7408108108108108,
          0.7408108108108108,
          0.7418918918918919,
          0.7418918918918919,
          0.7421621621621621,
          0.7421621621621621,
          0.7429729729729729,
          0.7429729729729729,
          0.7432432432432432,
          0.7432432432432432,
          0.7432432432432432,
          0.7432432432432432,
          0.7435135135135135,
          0.7435135135135135,
          0.7502702702702703,
          0.7532432432432432,
          0.7537837837837837,
          0.754054054054054,
          0.754054054054054,
          0.7543243243243243,
          0.7564864864864865,
          0.7567567567567568,
          0.7575675675675676,
          0.7578378378378379,
          0.7583783783783784,
          0.7586486486486487,
          0.7586486486486487,
          0.7591891891891892,
          0.7591891891891892,
          0.7594594594594595,
          0.7594594594594595,
          0.76,
          0.76,
          0.7602702702702703,
          0.7602702702702703,
          0.7662162162162162,
          0.7662162162162162,
          0.7664864864864865,
          0.7672972972972973,
          0.7672972972972973,
          0.7681081081081081,
          0.7683783783783784,
          0.7683783783783784,
          0.7691891891891892,
          0.7694594594594595,
          0.7694594594594595,
          0.77,
          0.7724324324324324,
          0.7724324324324324,
          0.7727027027027027,
          0.7727027027027027,
          0.7732432432432432,
          0.7735135135135135,
          0.774054054054054,
          0.774054054054054,
          0.7743243243243243,
          0.7745945945945946,
          0.7745945945945946,
          0.7756756756756756,
          0.7756756756756756,
          0.7767567567567567,
          0.7767567567567567,
          0.7824324324324324,
          0.782972972972973,
          0.782972972972973,
          0.782972972972973,
          0.7832432432432432,
          0.7843243243243243,
          0.7843243243243243,
          0.7845945945945946,
          0.7845945945945946,
          0.7845945945945946,
          0.7845945945945946,
          0.7881081081081082,
          0.7881081081081082,
          0.7883783783783784,
          0.7883783783783784,
          0.7886486486486487,
          0.7891891891891892,
          0.7894594594594595,
          0.7918918918918919,
          0.7924324324324324,
          0.7927027027027027,
          0.7935135135135135,
          0.7935135135135135,
          0.798918918918919,
          0.798918918918919,
          0.8,
          0.8016216216216216,
          0.8016216216216216,
          0.8018918918918919,
          0.8018918918918919,
          0.8018918918918919,
          0.8018918918918919,
          0.8027027027027027,
          0.8027027027027027,
          0.8048648648648649,
          0.8048648648648649,
          0.8051351351351351,
          0.8051351351351351,
          0.8064864864864865,
          0.8067567567567567,
          0.8110810810810811,
          0.8110810810810811,
          0.8113513513513514,
          0.8116216216216217,
          0.8116216216216217,
          0.8118918918918919,
          0.8118918918918919,
          0.8121621621621622,
          0.812972972972973,
          0.8132432432432433,
          0.8132432432432433,
          0.8135135135135135,
          0.8135135135135135,
          0.8135135135135135,
          0.8140540540540541,
          0.8145945945945946,
          0.8148648648648649,
          0.8148648648648649,
          0.8186486486486486,
          0.8189189189189189,
          0.8189189189189189,
          0.8194594594594594,
          0.8194594594594594,
          0.8194594594594594,
          0.8197297297297297,
          0.8197297297297297,
          0.8210810810810811,
          0.8210810810810811,
          0.8213513513513514,
          0.8213513513513514,
          0.8218918918918919,
          0.8218918918918919,
          0.8221621621621622,
          0.8221621621621622,
          0.8227027027027027,
          0.822972972972973,
          0.8232432432432433,
          0.8232432432432433,
          0.8248648648648649,
          0.8251351351351351,
          0.8251351351351351,
          0.8254054054054054,
          0.8254054054054054,
          0.8272972972972973,
          0.8272972972972973,
          0.8275675675675676,
          0.8281081081081081,
          0.8316216216216217,
          0.8316216216216217,
          0.8327027027027027,
          0.8327027027027027,
          0.8327027027027027,
          0.8332432432432433,
          0.8332432432432433,
          0.8354054054054054,
          0.8354054054054054,
          0.8354054054054054,
          0.8354054054054054,
          0.835945945945946,
          0.8362162162162162,
          0.8362162162162162,
          0.837027027027027,
          0.837027027027027,
          0.837027027027027,
          0.8375675675675676,
          0.8375675675675676,
          0.8378378378378378,
          0.8378378378378378,
          0.8386486486486486,
          0.8391891891891892,
          0.8394594594594594,
          0.8394594594594594,
          0.8413513513513513,
          0.8413513513513513,
          0.845945945945946,
          0.845945945945946,
          0.8462162162162162,
          0.8462162162162162,
          0.8467567567567568,
          0.847027027027027,
          0.847027027027027,
          0.847027027027027,
          0.8472972972972973,
          0.8475675675675676,
          0.8486486486486486,
          0.8489189189189189,
          0.8494594594594594,
          0.8497297297297297,
          0.8497297297297297,
          0.85,
          0.85,
          0.8502702702702702,
          0.8505405405405405,
          0.8508108108108108,
          0.8508108108108108,
          0.851081081081081,
          0.851081081081081,
          0.8527027027027027,
          0.8548648648648649,
          0.8548648648648649,
          0.8548648648648649,
          0.8548648648648649,
          0.8551351351351352,
          0.8594594594594595,
          0.8594594594594595,
          0.8616216216216216,
          0.8616216216216216,
          0.8618918918918919,
          0.8618918918918919,
          0.8624324324324324,
          0.8624324324324324,
          0.8624324324324324,
          0.8624324324324324,
          0.8624324324324324,
          0.8645945945945946,
          0.8645945945945946,
          0.8648648648648649,
          0.8648648648648649,
          0.8648648648648649,
          0.8648648648648649,
          0.8664864864864865,
          0.8691891891891892,
          0.8691891891891892,
          0.8694594594594595,
          0.8694594594594595,
          0.87,
          0.87,
          0.8702702702702703,
          0.8705405405405405,
          0.8705405405405405,
          0.8727027027027027,
          0.8754054054054055,
          0.8754054054054055,
          0.8754054054054055,
          0.8754054054054055,
          0.875945945945946,
          0.8772972972972973,
          0.8772972972972973,
          0.8772972972972973,
          0.8772972972972973,
          0.8772972972972973,
          0.8786486486486487,
          0.8810810810810811,
          0.8810810810810811,
          0.8810810810810811,
          0.8810810810810811,
          0.8813513513513513,
          0.8813513513513513,
          0.8816216216216216,
          0.8818918918918919,
          0.8818918918918919,
          0.8818918918918919,
          0.8837837837837837,
          0.8837837837837837,
          0.8837837837837837,
          0.8837837837837837,
          0.8837837837837837,
          0.8837837837837837,
          0.884054054054054,
          0.884054054054054,
          0.8843243243243243,
          0.8843243243243243,
          0.8843243243243243,
          0.8845945945945946,
          0.8845945945945946,
          0.8845945945945946,
          0.8845945945945946,
          0.8867567567567568,
          0.8870270270270271,
          0.8870270270270271,
          0.8872972972972973,
          0.8872972972972973,
          0.8883783783783784,
          0.8883783783783784,
          0.8883783783783784,
          0.8883783783783784,
          0.8883783783783784,
          0.8883783783783784,
          0.8883783783783784,
          0.8886486486486487,
          0.8886486486486487,
          0.8886486486486487,
          0.8886486486486487,
          0.8886486486486487,
          0.8886486486486487,
          0.8889189189189189,
          0.8894594594594595,
          0.8910810810810811,
          0.8910810810810811,
          0.8910810810810811,
          0.8927027027027027,
          0.8927027027027027,
          0.8927027027027027,
          0.892972972972973,
          0.8935135135135135,
          0.8935135135135135,
          0.894054054054054,
          0.894054054054054,
          0.894054054054054,
          0.894054054054054,
          0.894054054054054,
          0.8943243243243243,
          0.8943243243243243,
          0.8945945945945946,
          0.8948648648648648,
          0.8956756756756756,
          0.8956756756756756,
          0.8959459459459459,
          0.8959459459459459,
          0.8959459459459459,
          0.8959459459459459,
          0.8959459459459459,
          0.8964864864864864,
          0.8964864864864864,
          0.8970270270270271,
          0.8970270270270271,
          0.8970270270270271,
          0.8970270270270271,
          0.8978378378378379,
          0.8981081081081081,
          0.8981081081081081,
          0.8983783783783784,
          0.8983783783783784,
          0.9,
          0.9005405405405406,
          0.9010810810810811,
          0.9010810810810811,
          0.9010810810810811,
          0.9010810810810811,
          0.9010810810810811,
          0.9013513513513514,
          0.9013513513513514,
          0.9013513513513514,
          0.9013513513513514,
          0.9016216216216216,
          0.9016216216216216,
          0.9016216216216216,
          0.9018918918918919,
          0.9018918918918919,
          0.9018918918918919,
          0.9018918918918919,
          0.9018918918918919,
          0.9024324324324324,
          0.9024324324324324,
          0.9024324324324324,
          0.9027027027027027,
          0.9027027027027027,
          0.902972972972973,
          0.902972972972973,
          0.902972972972973,
          0.902972972972973,
          0.9032432432432432,
          0.9032432432432432,
          0.9037837837837838,
          0.9056756756756756,
          0.9056756756756756,
          0.9059459459459459,
          0.9059459459459459,
          0.9059459459459459,
          0.9059459459459459,
          0.9059459459459459,
          0.9059459459459459,
          0.9062162162162162,
          0.9064864864864864,
          0.9078378378378379,
          0.9078378378378379,
          0.9078378378378379,
          0.9078378378378379,
          0.9083783783783784,
          0.9091891891891892,
          0.9091891891891892,
          0.9091891891891892,
          0.9097297297297298,
          0.9097297297297298,
          0.9097297297297298,
          0.91,
          0.91,
          0.91,
          0.9105405405405406,
          0.9105405405405406,
          0.9105405405405406,
          0.9105405405405406,
          0.9110810810810811,
          0.9110810810810811,
          0.9110810810810811,
          0.9113513513513514,
          0.9113513513513514,
          0.9116216216216216,
          0.9116216216216216,
          0.9116216216216216,
          0.9116216216216216,
          0.9116216216216216,
          0.9116216216216216,
          0.9116216216216216,
          0.9116216216216216,
          0.9116216216216216,
          0.9118918918918919,
          0.9118918918918919,
          0.9118918918918919,
          0.9118918918918919,
          0.9124324324324324,
          0.9124324324324324,
          0.9124324324324324,
          0.9127027027027027,
          0.9127027027027027,
          0.9127027027027027,
          0.9127027027027027,
          0.9132432432432432,
          0.9132432432432432,
          0.9135135135135135,
          0.9135135135135135,
          0.9137837837837838,
          0.9137837837837838,
          0.9143243243243243,
          0.9143243243243243,
          0.9143243243243243,
          0.9143243243243243,
          0.9143243243243243,
          0.9167567567567567,
          0.9167567567567567,
          0.9167567567567567,
          0.9172972972972973,
          0.9172972972972973,
          0.9172972972972973,
          0.918918918918919,
          0.9191891891891892,
          0.9191891891891892,
          0.9191891891891892,
          0.9191891891891892,
          0.9191891891891892,
          0.9191891891891892,
          0.9191891891891892,
          0.9191891891891892,
          0.9194594594594595,
          0.9194594594594595,
          0.9194594594594595,
          0.92,
          0.92,
          0.92,
          0.92,
          0.9202702702702703,
          0.9202702702702703,
          0.9202702702702703,
          0.9202702702702703,
          0.9202702702702703,
          0.9202702702702703,
          0.9202702702702703,
          0.9205405405405406,
          0.9205405405405406,
          0.9208108108108108,
          0.9208108108108108,
          0.9208108108108108,
          0.9208108108108108,
          0.9208108108108108,
          0.9208108108108108,
          0.9210810810810811,
          0.9210810810810811,
          0.9213513513513514,
          0.9213513513513514,
          0.9213513513513514,
          0.9213513513513514,
          0.9213513513513514,
          0.9213513513513514,
          0.9218918918918919,
          0.9218918918918919,
          0.9218918918918919,
          0.9221621621621622,
          0.9221621621621622,
          0.922972972972973,
          0.922972972972973,
          0.922972972972973,
          0.922972972972973,
          0.9232432432432433,
          0.9232432432432433,
          0.9237837837837838,
          0.9237837837837838,
          0.9237837837837838,
          0.9248648648648649,
          0.9248648648648649,
          0.9248648648648649,
          0.9251351351351351,
          0.9254054054054054,
          0.9254054054054054,
          0.9256756756756757,
          0.9256756756756757,
          0.9256756756756757,
          0.9259459459459459,
          0.9259459459459459,
          0.9259459459459459,
          0.9259459459459459,
          0.9262162162162162,
          0.9262162162162162,
          0.9262162162162162,
          0.9262162162162162,
          0.9262162162162162,
          0.9262162162162162,
          0.9264864864864865,
          0.9275675675675675,
          0.9281081081081081,
          0.9291891891891891,
          0.9302702702702703,
          0.9302702702702703,
          0.9302702702702703,
          0.9302702702702703,
          0.9302702702702703,
          0.9305405405405406,
          0.9308108108108109,
          0.9310810810810811,
          0.9313513513513514,
          0.9313513513513514,
          0.9316216216216217,
          0.9332432432432433,
          0.9332432432432433,
          0.9335135135135135,
          0.9335135135135135,
          0.9335135135135135,
          0.9335135135135135,
          0.9335135135135135,
          0.9340540540540541,
          0.9340540540540541,
          0.9348648648648649,
          0.9351351351351351,
          0.9351351351351351,
          0.9364864864864865,
          0.9364864864864865,
          0.9364864864864865,
          0.9364864864864865,
          0.937027027027027,
          0.937027027027027,
          0.937027027027027,
          0.937027027027027,
          0.9372972972972973,
          0.9372972972972973,
          0.9378378378378378,
          0.9378378378378378,
          0.9381081081081081,
          0.9381081081081081,
          0.9386486486486486,
          0.9386486486486486,
          0.9386486486486486,
          0.9386486486486486,
          0.9391891891891891,
          0.9391891891891891,
          0.9394594594594594,
          0.9394594594594594,
          0.9394594594594594,
          0.9397297297297297,
          0.9397297297297297,
          0.9405405405405406,
          0.9405405405405406,
          0.9408108108108109,
          0.9413513513513514,
          0.9413513513513514,
          0.9416216216216217,
          0.9416216216216217,
          0.9421621621621622,
          0.9421621621621622,
          0.9427027027027027,
          0.9427027027027027,
          0.9427027027027027,
          0.9432432432432433,
          0.9432432432432433,
          0.9432432432432433,
          0.9432432432432433,
          0.9432432432432433,
          0.9432432432432433,
          0.9435135135135135,
          0.9437837837837838,
          0.9454054054054054,
          0.9454054054054054,
          0.9456756756756757,
          0.9456756756756757,
          0.9456756756756757,
          0.9456756756756757,
          0.9456756756756757,
          0.9456756756756757,
          0.9456756756756757,
          0.9462162162162162,
          0.9462162162162162,
          0.9462162162162162,
          0.9462162162162162,
          0.9462162162162162,
          0.9472972972972973,
          0.9472972972972973,
          0.9475675675675675,
          0.9475675675675675,
          0.9478378378378378,
          0.9478378378378378,
          0.9478378378378378,
          0.9478378378378378,
          0.9478378378378378,
          0.9478378378378378,
          0.9481081081081081,
          0.9483783783783784,
          0.9483783783783784,
          0.9494594594594594,
          0.9497297297297297,
          0.9497297297297297,
          0.9516216216216217,
          0.9516216216216217,
          0.9527027027027027,
          0.9540540540540541,
          0.9540540540540541,
          0.9543243243243243,
          0.9543243243243243,
          0.9545945945945946,
          0.9554054054054054,
          0.955945945945946,
          0.9562162162162162,
          0.9564864864864865,
          0.9575675675675676,
          0.9575675675675676,
          0.9575675675675676,
          0.9583783783783784,
          0.9583783783783784,
          0.9597297297297297,
          0.9597297297297297,
          0.9597297297297297,
          0.9602702702702702,
          0.9602702702702702,
          0.961081081081081,
          0.961081081081081,
          0.961081081081081,
          0.9616216216216216,
          0.9616216216216216,
          0.9618918918918918,
          0.9624324324324325,
          0.9624324324324325,
          0.9635135135135136,
          0.9635135135135136,
          0.9643243243243244,
          0.9651351351351352,
          0.9651351351351352,
          0.9651351351351352,
          0.9656756756756757,
          0.9656756756756757,
          0.965945945945946,
          0.965945945945946,
          0.965945945945946,
          0.965945945945946,
          0.9662162162162162,
          0.9664864864864865,
          0.967027027027027,
          0.967027027027027,
          0.9678378378378378,
          0.9678378378378378,
          0.9678378378378378,
          0.9678378378378378,
          0.9683783783783784,
          0.9683783783783784,
          0.9683783783783784,
          0.9683783783783784,
          0.9683783783783784,
          0.9686486486486486,
          0.9686486486486486,
          0.9686486486486486,
          0.9691891891891892,
          0.9694594594594594,
          0.9705405405405405,
          0.9705405405405405,
          0.9705405405405405,
          0.9705405405405405,
          0.9705405405405405,
          0.9705405405405405,
          0.9713513513513513,
          0.9713513513513513,
          0.9713513513513513,
          0.9713513513513513,
          0.9713513513513513,
          0.9713513513513513,
          0.9713513513513513,
          0.9713513513513513,
          0.9716216216216216,
          0.9716216216216216,
          0.9716216216216216,
          0.9716216216216216,
          0.9718918918918918,
          0.9718918918918918,
          0.9718918918918918,
          0.9718918918918918,
          0.9721621621621621,
          0.9724324324324324,
          0.9745945945945946,
          0.9745945945945946,
          0.9745945945945946,
          0.9748648648648649,
          0.9748648648648649,
          0.9748648648648649,
          0.9751351351351352,
          0.9751351351351352,
          0.9751351351351352,
          0.9762162162162162,
          0.9762162162162162,
          0.9762162162162162,
          0.9762162162162162,
          0.9762162162162162,
          0.9762162162162162,
          0.9762162162162162,
          0.9762162162162162,
          0.9775675675675676,
          0.9775675675675676,
          0.9778378378378378,
          0.9778378378378378,
          0.9778378378378378,
          0.9778378378378378,
          0.9778378378378378,
          0.9778378378378378,
          0.9781081081081081,
          0.9781081081081081,
          0.9783783783783784,
          0.9783783783783784,
          0.9783783783783784,
          0.9789189189189189,
          0.9791891891891892,
          0.9791891891891892,
          0.9794594594594594,
          0.9794594594594594,
          0.9794594594594594,
          0.9794594594594594,
          0.98,
          0.98,
          0.98,
          0.98,
          0.9802702702702702,
          0.9802702702702702,
          0.9802702702702702,
          0.9805405405405405,
          0.9805405405405405,
          0.9805405405405405,
          0.9805405405405405,
          0.9808108108108108,
          0.9808108108108108,
          0.9808108108108108,
          0.9808108108108108,
          0.9808108108108108,
          0.9808108108108108,
          0.9808108108108108,
          0.981081081081081,
          0.981081081081081,
          0.981081081081081,
          0.981081081081081,
          0.9816216216216216,
          0.9816216216216216,
          0.9824324324324324,
          0.9824324324324324,
          0.9827027027027027,
          0.9827027027027027,
          0.9827027027027027,
          0.9827027027027027,
          0.9827027027027027,
          0.9827027027027027,
          0.9827027027027027,
          0.9829729729729729,
          0.9829729729729729,
          0.9829729729729729,
          0.9829729729729729,
          0.9829729729729729,
          0.9829729729729729,
          0.9829729729729729,
          0.9829729729729729,
          0.9837837837837838,
          0.9837837837837838,
          0.9837837837837838,
          0.9840540540540541,
          0.9843243243243244,
          0.9843243243243244,
          0.9843243243243244,
          0.9854054054054054,
          0.9854054054054054,
          0.9854054054054054,
          0.9854054054054054,
          0.9854054054054054,
          0.9854054054054054,
          0.9854054054054054,
          0.9864864864864865,
          0.9864864864864865,
          0.9864864864864865,
          0.9864864864864865,
          0.9864864864864865,
          0.9864864864864865,
          0.9864864864864865,
          0.9864864864864865,
          0.9864864864864865,
          0.9864864864864865,
          0.9864864864864865,
          0.9864864864864865,
          0.9864864864864865,
          0.9864864864864865,
          0.9864864864864865,
          0.9864864864864865,
          0.9864864864864865,
          0.9864864864864865,
          0.9864864864864865,
          0.9864864864864865,
          0.9864864864864865,
          0.9867567567567568,
          0.9867567567567568,
          0.987027027027027,
          0.987027027027027,
          0.987027027027027,
          0.987027027027027,
          0.987027027027027,
          0.987027027027027,
          0.9872972972972973,
          0.9872972972972973,
          0.9872972972972973,
          0.9872972972972973,
          0.9872972972972973,
          0.9872972972972973,
          0.9872972972972973,
          0.9872972972972973,
          0.9872972972972973,
          0.9872972972972973,
          0.9872972972972973,
          0.9872972972972973,
          0.9872972972972973,
          0.9875675675675676,
          0.9875675675675676,
          0.9886486486486487,
          0.9886486486486487,
          0.9886486486486487,
          0.9886486486486487,
          0.9891891891891892,
          0.9891891891891892,
          0.9891891891891892,
          0.9891891891891892,
          0.9891891891891892,
          0.9891891891891892,
          0.9891891891891892,
          0.9891891891891892,
          0.9897297297297297,
          0.99,
          0.99,
          0.99,
          0.9902702702702703,
          0.9902702702702703,
          0.9902702702702703,
          0.9902702702702703,
          0.9910810810810811,
          0.9910810810810811,
          0.9910810810810811,
          0.9910810810810811,
          0.9910810810810811,
          0.9910810810810811,
          0.9910810810810811,
          0.9910810810810811,
          0.9910810810810811,
          0.9910810810810811,
          0.9910810810810811,
          0.9910810810810811,
          0.9910810810810811,
          0.9913513513513513,
          0.9913513513513513,
          0.9918918918918919,
          0.9918918918918919,
          0.9918918918918919,
          0.9918918918918919,
          0.9918918918918919,
          0.9918918918918919,
          0.9918918918918919,
          0.9918918918918919,
          0.9918918918918919,
          0.9921621621621621,
          0.9921621621621621,
          0.9921621621621621,
          0.9921621621621621,
          0.9921621621621621,
          0.9921621621621621,
          0.9921621621621621,
          0.9921621621621621,
          0.9921621621621621,
          0.9921621621621621,
          0.9921621621621621,
          0.9921621621621621,
          0.9921621621621621,
          0.9921621621621621,
          0.9921621621621621,
          0.9927027027027027,
          0.9929729729729729,
          0.9932432432432432,
          0.9932432432432432,
          0.9932432432432432,
          0.9932432432432432,
          0.9932432432432432,
          0.9932432432432432,
          0.9932432432432432,
          0.9932432432432432,
          0.9935135135135135,
          0.9935135135135135,
          0.994054054054054,
          0.994054054054054,
          0.994054054054054,
          0.9943243243243243,
          0.9943243243243243,
          0.9943243243243243,
          0.9943243243243243,
          0.9943243243243243,
          0.9943243243243243,
          0.9943243243243243,
          0.9943243243243243,
          0.9943243243243243,
          0.9943243243243243,
          0.9948648648648649,
          0.9948648648648649,
          0.9948648648648649,
          0.9948648648648649,
          0.9948648648648649,
          0.9951351351351352,
          0.9951351351351352,
          0.9951351351351352,
          0.9951351351351352,
          0.9954054054054055,
          0.9954054054054055,
          0.9954054054054055,
          0.9954054054054055,
          0.9954054054054055,
          0.9954054054054055,
          0.9954054054054055,
          0.9954054054054055,
          0.9954054054054055,
          0.9954054054054055,
          0.9954054054054055,
          0.9956756756756757,
          0.9956756756756757,
          0.9956756756756757,
          0.9956756756756757,
          0.9956756756756757,
          0.9956756756756757,
          0.9956756756756757,
          0.9956756756756757,
          0.9956756756756757,
          0.9956756756756757,
          0.9956756756756757,
          0.9956756756756757,
          0.9956756756756757,
          0.9956756756756757,
          0.995945945945946,
          0.995945945945946,
          0.995945945945946,
          0.995945945945946,
          0.995945945945946,
          0.995945945945946,
          0.995945945945946,
          0.995945945945946,
          0.995945945945946,
          0.995945945945946,
          0.995945945945946,
          0.995945945945946,
          0.995945945945946,
          0.995945945945946,
          0.995945945945946,
          0.995945945945946,
          0.995945945945946,
          0.995945945945946,
          0.995945945945946,
          0.995945945945946,
          0.995945945945946,
          0.995945945945946,
          0.995945945945946,
          0.995945945945946,
          0.995945945945946,
          0.9964864864864865,
          0.9964864864864865,
          0.9964864864864865,
          0.9967567567567568,
          0.9967567567567568,
          0.9967567567567568,
          0.9967567567567568,
          0.9970270270270271,
          0.9970270270270271,
          0.9970270270270271,
          0.9970270270270271,
          0.9970270270270271,
          0.9970270270270271,
          0.9970270270270271,
          0.9970270270270271,
          0.9970270270270271,
          0.9970270270270271,
          0.9970270270270271,
          0.9970270270270271,
          0.9970270270270271,
          0.9970270270270271,
          0.9970270270270271,
          0.9972972972972973,
          0.9972972972972973,
          0.9972972972972973,
          0.9972972972972973,
          0.9972972972972973,
          0.9972972972972973,
          0.9972972972972973,
          0.9972972972972973,
          0.9975675675675676,
          0.9975675675675676,
          0.9975675675675676,
          0.9975675675675676,
          0.9975675675675676,
          0.9975675675675676,
          0.9975675675675676,
          0.9978378378378379,
          0.9978378378378379,
          0.9978378378378379,
          0.9978378378378379,
          0.9978378378378379,
          0.9978378378378379,
          0.9978378378378379,
          0.9978378378378379,
          0.9978378378378379,
          0.9978378378378379,
          0.9978378378378379,
          0.9978378378378379,
          0.9978378378378379,
          0.9978378378378379,
          0.9978378378378379,
          0.9978378378378379,
          0.9978378378378379,
          0.9978378378378379,
          0.9981081081081081,
          0.9981081081081081,
          0.9981081081081081,
          0.9981081081081081,
          0.9981081081081081,
          0.9981081081081081,
          0.9981081081081081,
          0.9981081081081081,
          0.9981081081081081,
          0.9981081081081081,
          0.9981081081081081,
          0.9983783783783784,
          0.9983783783783784,
          0.9983783783783784,
          0.9983783783783784,
          0.9983783783783784,
          0.9986486486486487,
          0.9986486486486487,
          0.9986486486486487,
          0.9986486486486487,
          0.9986486486486487,
          0.9986486486486487,
          0.9986486486486487,
          0.9986486486486487,
          0.9986486486486487,
          0.9986486486486487,
          0.9986486486486487,
          0.9986486486486487,
          0.9986486486486487,
          0.9986486486486487,
          0.9986486486486487,
          0.9986486486486487,
          0.9986486486486487,
          0.9986486486486487,
          0.9986486486486487,
          0.9986486486486487,
          0.9986486486486487,
          0.9986486486486487,
          0.9986486486486487,
          0.9986486486486487,
          0.9986486486486487,
          0.9986486486486487,
          0.9986486486486487,
          0.9986486486486487,
          0.9986486486486487,
          0.9986486486486487,
          0.9986486486486487,
          0.9986486486486487,
          0.9986486486486487,
          0.9986486486486487,
          0.9986486486486487,
          0.9986486486486487,
          0.9986486486486487,
          0.9989189189189189,
          0.9989189189189189,
          0.9989189189189189,
          0.9989189189189189,
          0.9989189189189189,
          0.9989189189189189,
          0.9989189189189189,
          0.9989189189189189,
          0.9989189189189189,
          0.9991891891891892,
          0.9994594594594595,
          0.9994594594594595,
          0.9994594594594595,
          0.9994594594594595,
          0.9994594594594595,
          0.9994594594594595,
          0.9994594594594595,
          0.9994594594594595,
          0.9994594594594595,
          0.9994594594594595,
          0.9994594594594595,
          0.9994594594594595,
          0.9994594594594595,
          0.9994594594594595,
          0.9994594594594595,
          0.9994594594594595,
          0.9994594594594595,
          0.9994594594594595,
          0.9994594594594595,
          0.9994594594594595,
          0.9994594594594595,
          0.9994594594594595,
          0.9994594594594595,
          0.9994594594594595,
          0.9997297297297297,
          0.9997297297297297,
          0.9997297297297297,
          0.9997297297297297,
          0.9997297297297297,
          0.9997297297297297,
          0.9997297297297297,
          0.9997297297297297,
          0.9997297297297297,
          0.9997297297297297,
          0.9997297297297297,
          0.9997297297297297,
          0.9997297297297297,
          0.9997297297297297,
          0.9997297297297297,
          0.9997297297297297,
          0.9997297297297297,
          0.9997297297297297,
          0.9997297297297297,
          0.9997297297297297,
          0.9997297297297297,
          0.9997297297297297,
          1,
          1,
          1,
          1,
          1,
          1,
          1,
          1,
          1,
          1,
          1,
          1,
          1,
          1,
          1,
          1,
          1,
          1,
          1,
          1,
          1,
          1,
          1,
          1,
          1,
          1,
          1,
          1,
          1,
          1,
          1,
          1,
          1,
          1,
          1,
          1,
          1
         ]
        },
        {
         "line": {
          "color": "red",
          "dash": "dash",
          "width": 2
         },
         "mode": "lines",
         "name": "Random",
         "type": "scatter",
         "x": [
          0,
          1
         ],
         "y": [
          0,
          1
         ]
        }
       ],
       "layout": {
        "font": {
         "family": "Times New Roman",
         "size": 18
        },
        "height": 600,
        "hovermode": "closest",
        "template": {
         "data": {
          "bar": [
           {
            "error_x": {
             "color": "#2a3f5f"
            },
            "error_y": {
             "color": "#2a3f5f"
            },
            "marker": {
             "line": {
              "color": "#E5ECF6",
              "width": 0.5
             },
             "pattern": {
              "fillmode": "overlay",
              "size": 10,
              "solidity": 0.2
             }
            },
            "type": "bar"
           }
          ],
          "barpolar": [
           {
            "marker": {
             "line": {
              "color": "#E5ECF6",
              "width": 0.5
             },
             "pattern": {
              "fillmode": "overlay",
              "size": 10,
              "solidity": 0.2
             }
            },
            "type": "barpolar"
           }
          ],
          "carpet": [
           {
            "aaxis": {
             "endlinecolor": "#2a3f5f",
             "gridcolor": "white",
             "linecolor": "white",
             "minorgridcolor": "white",
             "startlinecolor": "#2a3f5f"
            },
            "baxis": {
             "endlinecolor": "#2a3f5f",
             "gridcolor": "white",
             "linecolor": "white",
             "minorgridcolor": "white",
             "startlinecolor": "#2a3f5f"
            },
            "type": "carpet"
           }
          ],
          "choropleth": [
           {
            "colorbar": {
             "outlinewidth": 0,
             "ticks": ""
            },
            "type": "choropleth"
           }
          ],
          "contour": [
           {
            "colorbar": {
             "outlinewidth": 0,
             "ticks": ""
            },
            "colorscale": [
             [
              0,
              "#0d0887"
             ],
             [
              0.1111111111111111,
              "#46039f"
             ],
             [
              0.2222222222222222,
              "#7201a8"
             ],
             [
              0.3333333333333333,
              "#9c179e"
             ],
             [
              0.4444444444444444,
              "#bd3786"
             ],
             [
              0.5555555555555556,
              "#d8576b"
             ],
             [
              0.6666666666666666,
              "#ed7953"
             ],
             [
              0.7777777777777778,
              "#fb9f3a"
             ],
             [
              0.8888888888888888,
              "#fdca26"
             ],
             [
              1,
              "#f0f921"
             ]
            ],
            "type": "contour"
           }
          ],
          "contourcarpet": [
           {
            "colorbar": {
             "outlinewidth": 0,
             "ticks": ""
            },
            "type": "contourcarpet"
           }
          ],
          "heatmap": [
           {
            "colorbar": {
             "outlinewidth": 0,
             "ticks": ""
            },
            "colorscale": [
             [
              0,
              "#0d0887"
             ],
             [
              0.1111111111111111,
              "#46039f"
             ],
             [
              0.2222222222222222,
              "#7201a8"
             ],
             [
              0.3333333333333333,
              "#9c179e"
             ],
             [
              0.4444444444444444,
              "#bd3786"
             ],
             [
              0.5555555555555556,
              "#d8576b"
             ],
             [
              0.6666666666666666,
              "#ed7953"
             ],
             [
              0.7777777777777778,
              "#fb9f3a"
             ],
             [
              0.8888888888888888,
              "#fdca26"
             ],
             [
              1,
              "#f0f921"
             ]
            ],
            "type": "heatmap"
           }
          ],
          "heatmapgl": [
           {
            "colorbar": {
             "outlinewidth": 0,
             "ticks": ""
            },
            "colorscale": [
             [
              0,
              "#0d0887"
             ],
             [
              0.1111111111111111,
              "#46039f"
             ],
             [
              0.2222222222222222,
              "#7201a8"
             ],
             [
              0.3333333333333333,
              "#9c179e"
             ],
             [
              0.4444444444444444,
              "#bd3786"
             ],
             [
              0.5555555555555556,
              "#d8576b"
             ],
             [
              0.6666666666666666,
              "#ed7953"
             ],
             [
              0.7777777777777778,
              "#fb9f3a"
             ],
             [
              0.8888888888888888,
              "#fdca26"
             ],
             [
              1,
              "#f0f921"
             ]
            ],
            "type": "heatmapgl"
           }
          ],
          "histogram": [
           {
            "marker": {
             "pattern": {
              "fillmode": "overlay",
              "size": 10,
              "solidity": 0.2
             }
            },
            "type": "histogram"
           }
          ],
          "histogram2d": [
           {
            "colorbar": {
             "outlinewidth": 0,
             "ticks": ""
            },
            "colorscale": [
             [
              0,
              "#0d0887"
             ],
             [
              0.1111111111111111,
              "#46039f"
             ],
             [
              0.2222222222222222,
              "#7201a8"
             ],
             [
              0.3333333333333333,
              "#9c179e"
             ],
             [
              0.4444444444444444,
              "#bd3786"
             ],
             [
              0.5555555555555556,
              "#d8576b"
             ],
             [
              0.6666666666666666,
              "#ed7953"
             ],
             [
              0.7777777777777778,
              "#fb9f3a"
             ],
             [
              0.8888888888888888,
              "#fdca26"
             ],
             [
              1,
              "#f0f921"
             ]
            ],
            "type": "histogram2d"
           }
          ],
          "histogram2dcontour": [
           {
            "colorbar": {
             "outlinewidth": 0,
             "ticks": ""
            },
            "colorscale": [
             [
              0,
              "#0d0887"
             ],
             [
              0.1111111111111111,
              "#46039f"
             ],
             [
              0.2222222222222222,
              "#7201a8"
             ],
             [
              0.3333333333333333,
              "#9c179e"
             ],
             [
              0.4444444444444444,
              "#bd3786"
             ],
             [
              0.5555555555555556,
              "#d8576b"
             ],
             [
              0.6666666666666666,
              "#ed7953"
             ],
             [
              0.7777777777777778,
              "#fb9f3a"
             ],
             [
              0.8888888888888888,
              "#fdca26"
             ],
             [
              1,
              "#f0f921"
             ]
            ],
            "type": "histogram2dcontour"
           }
          ],
          "mesh3d": [
           {
            "colorbar": {
             "outlinewidth": 0,
             "ticks": ""
            },
            "type": "mesh3d"
           }
          ],
          "parcoords": [
           {
            "line": {
             "colorbar": {
              "outlinewidth": 0,
              "ticks": ""
             }
            },
            "type": "parcoords"
           }
          ],
          "pie": [
           {
            "automargin": true,
            "type": "pie"
           }
          ],
          "scatter": [
           {
            "fillpattern": {
             "fillmode": "overlay",
             "size": 10,
             "solidity": 0.2
            },
            "type": "scatter"
           }
          ],
          "scatter3d": [
           {
            "line": {
             "colorbar": {
              "outlinewidth": 0,
              "ticks": ""
             }
            },
            "marker": {
             "colorbar": {
              "outlinewidth": 0,
              "ticks": ""
             }
            },
            "type": "scatter3d"
           }
          ],
          "scattercarpet": [
           {
            "marker": {
             "colorbar": {
              "outlinewidth": 0,
              "ticks": ""
             }
            },
            "type": "scattercarpet"
           }
          ],
          "scattergeo": [
           {
            "marker": {
             "colorbar": {
              "outlinewidth": 0,
              "ticks": ""
             }
            },
            "type": "scattergeo"
           }
          ],
          "scattergl": [
           {
            "marker": {
             "colorbar": {
              "outlinewidth": 0,
              "ticks": ""
             }
            },
            "type": "scattergl"
           }
          ],
          "scattermapbox": [
           {
            "marker": {
             "colorbar": {
              "outlinewidth": 0,
              "ticks": ""
             }
            },
            "type": "scattermapbox"
           }
          ],
          "scatterpolar": [
           {
            "marker": {
             "colorbar": {
              "outlinewidth": 0,
              "ticks": ""
             }
            },
            "type": "scatterpolar"
           }
          ],
          "scatterpolargl": [
           {
            "marker": {
             "colorbar": {
              "outlinewidth": 0,
              "ticks": ""
             }
            },
            "type": "scatterpolargl"
           }
          ],
          "scatterternary": [
           {
            "marker": {
             "colorbar": {
              "outlinewidth": 0,
              "ticks": ""
             }
            },
            "type": "scatterternary"
           }
          ],
          "surface": [
           {
            "colorbar": {
             "outlinewidth": 0,
             "ticks": ""
            },
            "colorscale": [
             [
              0,
              "#0d0887"
             ],
             [
              0.1111111111111111,
              "#46039f"
             ],
             [
              0.2222222222222222,
              "#7201a8"
             ],
             [
              0.3333333333333333,
              "#9c179e"
             ],
             [
              0.4444444444444444,
              "#bd3786"
             ],
             [
              0.5555555555555556,
              "#d8576b"
             ],
             [
              0.6666666666666666,
              "#ed7953"
             ],
             [
              0.7777777777777778,
              "#fb9f3a"
             ],
             [
              0.8888888888888888,
              "#fdca26"
             ],
             [
              1,
              "#f0f921"
             ]
            ],
            "type": "surface"
           }
          ],
          "table": [
           {
            "cells": {
             "fill": {
              "color": "#EBF0F8"
             },
             "line": {
              "color": "white"
             }
            },
            "header": {
             "fill": {
              "color": "#C8D4E3"
             },
             "line": {
              "color": "white"
             }
            },
            "type": "table"
           }
          ]
         },
         "layout": {
          "annotationdefaults": {
           "arrowcolor": "#2a3f5f",
           "arrowhead": 0,
           "arrowwidth": 1
          },
          "autotypenumbers": "strict",
          "coloraxis": {
           "colorbar": {
            "outlinewidth": 0,
            "ticks": ""
           }
          },
          "colorscale": {
           "diverging": [
            [
             0,
             "#8e0152"
            ],
            [
             0.1,
             "#c51b7d"
            ],
            [
             0.2,
             "#de77ae"
            ],
            [
             0.3,
             "#f1b6da"
            ],
            [
             0.4,
             "#fde0ef"
            ],
            [
             0.5,
             "#f7f7f7"
            ],
            [
             0.6,
             "#e6f5d0"
            ],
            [
             0.7,
             "#b8e186"
            ],
            [
             0.8,
             "#7fbc41"
            ],
            [
             0.9,
             "#4d9221"
            ],
            [
             1,
             "#276419"
            ]
           ],
           "sequential": [
            [
             0,
             "#0d0887"
            ],
            [
             0.1111111111111111,
             "#46039f"
            ],
            [
             0.2222222222222222,
             "#7201a8"
            ],
            [
             0.3333333333333333,
             "#9c179e"
            ],
            [
             0.4444444444444444,
             "#bd3786"
            ],
            [
             0.5555555555555556,
             "#d8576b"
            ],
            [
             0.6666666666666666,
             "#ed7953"
            ],
            [
             0.7777777777777778,
             "#fb9f3a"
            ],
            [
             0.8888888888888888,
             "#fdca26"
            ],
            [
             1,
             "#f0f921"
            ]
           ],
           "sequentialminus": [
            [
             0,
             "#0d0887"
            ],
            [
             0.1111111111111111,
             "#46039f"
            ],
            [
             0.2222222222222222,
             "#7201a8"
            ],
            [
             0.3333333333333333,
             "#9c179e"
            ],
            [
             0.4444444444444444,
             "#bd3786"
            ],
            [
             0.5555555555555556,
             "#d8576b"
            ],
            [
             0.6666666666666666,
             "#ed7953"
            ],
            [
             0.7777777777777778,
             "#fb9f3a"
            ],
            [
             0.8888888888888888,
             "#fdca26"
            ],
            [
             1,
             "#f0f921"
            ]
           ]
          },
          "colorway": [
           "#636efa",
           "#EF553B",
           "#00cc96",
           "#ab63fa",
           "#FFA15A",
           "#19d3f3",
           "#FF6692",
           "#B6E880",
           "#FF97FF",
           "#FECB52"
          ],
          "font": {
           "color": "#2a3f5f"
          },
          "geo": {
           "bgcolor": "white",
           "lakecolor": "white",
           "landcolor": "#E5ECF6",
           "showlakes": true,
           "showland": true,
           "subunitcolor": "white"
          },
          "hoverlabel": {
           "align": "left"
          },
          "hovermode": "closest",
          "mapbox": {
           "style": "light"
          },
          "paper_bgcolor": "white",
          "plot_bgcolor": "#E5ECF6",
          "polar": {
           "angularaxis": {
            "gridcolor": "white",
            "linecolor": "white",
            "ticks": ""
           },
           "bgcolor": "#E5ECF6",
           "radialaxis": {
            "gridcolor": "white",
            "linecolor": "white",
            "ticks": ""
           }
          },
          "scene": {
           "xaxis": {
            "backgroundcolor": "#E5ECF6",
            "gridcolor": "white",
            "gridwidth": 2,
            "linecolor": "white",
            "showbackground": true,
            "ticks": "",
            "zerolinecolor": "white"
           },
           "yaxis": {
            "backgroundcolor": "#E5ECF6",
            "gridcolor": "white",
            "gridwidth": 2,
            "linecolor": "white",
            "showbackground": true,
            "ticks": "",
            "zerolinecolor": "white"
           },
           "zaxis": {
            "backgroundcolor": "#E5ECF6",
            "gridcolor": "white",
            "gridwidth": 2,
            "linecolor": "white",
            "showbackground": true,
            "ticks": "",
            "zerolinecolor": "white"
           }
          },
          "shapedefaults": {
           "line": {
            "color": "#2a3f5f"
           }
          },
          "ternary": {
           "aaxis": {
            "gridcolor": "white",
            "linecolor": "white",
            "ticks": ""
           },
           "baxis": {
            "gridcolor": "white",
            "linecolor": "white",
            "ticks": ""
           },
           "bgcolor": "#E5ECF6",
           "caxis": {
            "gridcolor": "white",
            "linecolor": "white",
            "ticks": ""
           }
          },
          "title": {
           "x": 0.05
          },
          "xaxis": {
           "automargin": true,
           "gridcolor": "white",
           "linecolor": "white",
           "ticks": "",
           "title": {
            "standoff": 15
           },
           "zerolinecolor": "white",
           "zerolinewidth": 2
          },
          "yaxis": {
           "automargin": true,
           "gridcolor": "white",
           "linecolor": "white",
           "ticks": "",
           "title": {
            "standoff": 15
           },
           "zerolinecolor": "white",
           "zerolinewidth": 2
          }
         }
        },
        "title": {
         "text": "Receiver Operating Characteristic"
        },
        "width": 900,
        "xaxis": {
         "title": {
          "text": "False Positive Rate"
         }
        },
        "yaxis": {
         "title": {
          "text": "True Positive Rate"
         }
        }
       }
      }
     },
     "metadata": {},
     "output_type": "display_data"
    }
   ],
   "source": [
    "# 绘制AUC曲线\n",
    "best_result = results_df.iloc[results_df['auc_score'].idxmax()]\n",
    "print(X_train.shape[1], best_result['hidden_size'])\n",
    "best_model = MLP(input_size=X_train.shape[1], hidden_size=int(best_result['hidden_size']), output_size=1)\n",
    "criterion = nn.BCELoss()\n",
    "optimizer = optim.Adam(best_model.parameters(), lr=best_result['learning_rate'])\n",
    "train(best_model, train_loader, criterion, optimizer, num_epochs)\n",
    "\n",
    "_, auc_score = evaluate(best_model, X_test, y_test)\n",
    "\n",
    "predicted_probs = best_model(X_test).detach().numpy()\n",
    "fpr, tpr, _ = roc_curve(y_test, predicted_probs)\n",
    "\n",
    "layout = go.Layout(\n",
    "    title='Receiver Operating Characteristic',\n",
    "    xaxis=dict(title='False Positive Rate'),\n",
    "    yaxis=dict(title='True Positive Rate'),\n",
    "    hovermode='closest',\n",
    "    width=900, height=600,\n",
    "    font=dict(family='Times New Roman', size=18)\n",
    ")\n",
    "\n",
    "auc_trace = go.Scatter(\n",
    "    x = fpr,\n",
    "    y = tpr,\n",
    "    mode = 'lines',\n",
    "    line=dict(color='blue', width=2),\n",
    "    name = f'AUC: {auc_score:.4f}',\n",
    ")\n",
    "\n",
    "# 创建对角线图形\n",
    "diagonal_trace = go.Scatter(\n",
    "    x=[0, 1],\n",
    "    y=[0, 1],\n",
    "    mode='lines',\n",
    "    line=dict(color='red', width=2, dash='dash'),\n",
    "    name='Random'\n",
    ")\n",
    "# 创建图表数据\n",
    "data = [auc_trace, diagonal_trace]\n",
    "\n",
    "# 创建图表\n",
    "fig = go.Figure(data=data, layout=layout)\n",
    "fig.write_html('Image/4_10_2.html')\n",
    "fig.show()"
   ]
  },
  {
   "cell_type": "code",
   "execution_count": 14,
   "metadata": {},
   "outputs": [
    {
     "data": {
      "application/vnd.plotly.v1+json": {
       "config": {
        "plotlyServerURL": "https://plot.ly"
       },
       "data": [
        {
         "marker": {
          "size": 25
         },
         "mode": "markers",
         "name": "Input 1",
         "type": "scatter",
         "x": [
          0
         ],
         "y": [
          1
         ]
        },
        {
         "marker": {
          "size": 25
         },
         "mode": "markers",
         "name": "Input 2",
         "type": "scatter",
         "x": [
          0
         ],
         "y": [
          1.5
         ]
        },
        {
         "marker": {
          "size": 25
         },
         "mode": "markers",
         "name": "Input 3",
         "type": "scatter",
         "x": [
          0
         ],
         "y": [
          2
         ]
        },
        {
         "marker": {
          "size": 25
         },
         "mode": "markers",
         "name": "Input 4",
         "type": "scatter",
         "x": [
          0
         ],
         "y": [
          2.5
         ]
        },
        {
         "marker": {
          "size": 25
         },
         "mode": "markers",
         "name": "Input 5",
         "type": "scatter",
         "x": [
          0
         ],
         "y": [
          3
         ]
        },
        {
         "marker": {
          "size": 25
         },
         "mode": "markers",
         "name": "Hidden 1",
         "type": "scatter",
         "x": [
          0.5
         ],
         "y": [
          0
         ]
        },
        {
         "marker": {
          "size": 25
         },
         "mode": "markers",
         "name": "Hidden 2",
         "type": "scatter",
         "x": [
          0.5
         ],
         "y": [
          0.06349206349206349
         ]
        },
        {
         "marker": {
          "size": 25
         },
         "mode": "markers",
         "name": "Hidden 3",
         "type": "scatter",
         "x": [
          0.5
         ],
         "y": [
          0.12698412698412698
         ]
        },
        {
         "marker": {
          "size": 25
         },
         "mode": "markers",
         "name": "Hidden 4",
         "type": "scatter",
         "x": [
          0.5
         ],
         "y": [
          0.19047619047619047
         ]
        },
        {
         "marker": {
          "size": 25
         },
         "mode": "markers",
         "name": "Hidden 5",
         "type": "scatter",
         "x": [
          0.5
         ],
         "y": [
          0.25396825396825395
         ]
        },
        {
         "marker": {
          "size": 25
         },
         "mode": "markers",
         "name": "Hidden 6",
         "type": "scatter",
         "x": [
          0.5
         ],
         "y": [
          0.31746031746031744
         ]
        },
        {
         "marker": {
          "size": 25
         },
         "mode": "markers",
         "name": "Hidden 7",
         "type": "scatter",
         "x": [
          0.5
         ],
         "y": [
          0.38095238095238093
         ]
        },
        {
         "marker": {
          "size": 25
         },
         "mode": "markers",
         "name": "Hidden 8",
         "type": "scatter",
         "x": [
          0.5
         ],
         "y": [
          0.4444444444444444
         ]
        },
        {
         "marker": {
          "size": 25
         },
         "mode": "markers",
         "name": "Hidden 9",
         "type": "scatter",
         "x": [
          0.5
         ],
         "y": [
          0.5079365079365079
         ]
        },
        {
         "marker": {
          "size": 25
         },
         "mode": "markers",
         "name": "Hidden 10",
         "type": "scatter",
         "x": [
          0.5
         ],
         "y": [
          0.5714285714285714
         ]
        },
        {
         "marker": {
          "size": 25
         },
         "mode": "markers",
         "name": "Hidden 11",
         "type": "scatter",
         "x": [
          0.5
         ],
         "y": [
          0.6349206349206349
         ]
        },
        {
         "marker": {
          "size": 25
         },
         "mode": "markers",
         "name": "Hidden 12",
         "type": "scatter",
         "x": [
          0.5
         ],
         "y": [
          0.6984126984126984
         ]
        },
        {
         "marker": {
          "size": 25
         },
         "mode": "markers",
         "name": "Hidden 13",
         "type": "scatter",
         "x": [
          0.5
         ],
         "y": [
          0.7619047619047619
         ]
        },
        {
         "marker": {
          "size": 25
         },
         "mode": "markers",
         "name": "Hidden 14",
         "type": "scatter",
         "x": [
          0.5
         ],
         "y": [
          0.8253968253968254
         ]
        },
        {
         "marker": {
          "size": 25
         },
         "mode": "markers",
         "name": "Hidden 15",
         "type": "scatter",
         "x": [
          0.5
         ],
         "y": [
          0.8888888888888888
         ]
        },
        {
         "marker": {
          "size": 25
         },
         "mode": "markers",
         "name": "Hidden 16",
         "type": "scatter",
         "x": [
          0.5
         ],
         "y": [
          0.9523809523809523
         ]
        },
        {
         "marker": {
          "size": 25
         },
         "mode": "markers",
         "name": "Hidden 17",
         "type": "scatter",
         "x": [
          0.5
         ],
         "y": [
          1.0158730158730158
         ]
        },
        {
         "marker": {
          "size": 25
         },
         "mode": "markers",
         "name": "Hidden 18",
         "type": "scatter",
         "x": [
          0.5
         ],
         "y": [
          1.0793650793650793
         ]
        },
        {
         "marker": {
          "size": 25
         },
         "mode": "markers",
         "name": "Hidden 19",
         "type": "scatter",
         "x": [
          0.5
         ],
         "y": [
          1.1428571428571428
         ]
        },
        {
         "marker": {
          "size": 25
         },
         "mode": "markers",
         "name": "Hidden 20",
         "type": "scatter",
         "x": [
          0.5
         ],
         "y": [
          1.2063492063492063
         ]
        },
        {
         "marker": {
          "size": 25
         },
         "mode": "markers",
         "name": "Hidden 21",
         "type": "scatter",
         "x": [
          0.5
         ],
         "y": [
          1.2698412698412698
         ]
        },
        {
         "marker": {
          "size": 25
         },
         "mode": "markers",
         "name": "Hidden 22",
         "type": "scatter",
         "x": [
          0.5
         ],
         "y": [
          1.3333333333333333
         ]
        },
        {
         "marker": {
          "size": 25
         },
         "mode": "markers",
         "name": "Hidden 23",
         "type": "scatter",
         "x": [
          0.5
         ],
         "y": [
          1.3968253968253967
         ]
        },
        {
         "marker": {
          "size": 25
         },
         "mode": "markers",
         "name": "Hidden 24",
         "type": "scatter",
         "x": [
          0.5
         ],
         "y": [
          1.4603174603174602
         ]
        },
        {
         "marker": {
          "size": 25
         },
         "mode": "markers",
         "name": "Hidden 25",
         "type": "scatter",
         "x": [
          0.5
         ],
         "y": [
          1.5238095238095237
         ]
        },
        {
         "marker": {
          "size": 25
         },
         "mode": "markers",
         "name": "Hidden 26",
         "type": "scatter",
         "x": [
          0.5
         ],
         "y": [
          1.5873015873015872
         ]
        },
        {
         "marker": {
          "size": 25
         },
         "mode": "markers",
         "name": "Hidden 27",
         "type": "scatter",
         "x": [
          0.5
         ],
         "y": [
          1.6507936507936507
         ]
        },
        {
         "marker": {
          "size": 25
         },
         "mode": "markers",
         "name": "Hidden 28",
         "type": "scatter",
         "x": [
          0.5
         ],
         "y": [
          1.7142857142857142
         ]
        },
        {
         "marker": {
          "size": 25
         },
         "mode": "markers",
         "name": "Hidden 29",
         "type": "scatter",
         "x": [
          0.5
         ],
         "y": [
          1.7777777777777777
         ]
        },
        {
         "marker": {
          "size": 25
         },
         "mode": "markers",
         "name": "Hidden 30",
         "type": "scatter",
         "x": [
          0.5
         ],
         "y": [
          1.8412698412698412
         ]
        },
        {
         "marker": {
          "size": 25
         },
         "mode": "markers",
         "name": "Hidden 31",
         "type": "scatter",
         "x": [
          0.5
         ],
         "y": [
          1.9047619047619047
         ]
        },
        {
         "marker": {
          "size": 25
         },
         "mode": "markers",
         "name": "Hidden 32",
         "type": "scatter",
         "x": [
          0.5
         ],
         "y": [
          1.9682539682539681
         ]
        },
        {
         "marker": {
          "size": 25
         },
         "mode": "markers",
         "name": "Hidden 33",
         "type": "scatter",
         "x": [
          0.5
         ],
         "y": [
          2.0317460317460316
         ]
        },
        {
         "marker": {
          "size": 25
         },
         "mode": "markers",
         "name": "Hidden 34",
         "type": "scatter",
         "x": [
          0.5
         ],
         "y": [
          2.095238095238095
         ]
        },
        {
         "marker": {
          "size": 25
         },
         "mode": "markers",
         "name": "Hidden 35",
         "type": "scatter",
         "x": [
          0.5
         ],
         "y": [
          2.1587301587301586
         ]
        },
        {
         "marker": {
          "size": 25
         },
         "mode": "markers",
         "name": "Hidden 36",
         "type": "scatter",
         "x": [
          0.5
         ],
         "y": [
          2.2222222222222223
         ]
        },
        {
         "marker": {
          "size": 25
         },
         "mode": "markers",
         "name": "Hidden 37",
         "type": "scatter",
         "x": [
          0.5
         ],
         "y": [
          2.2857142857142856
         ]
        },
        {
         "marker": {
          "size": 25
         },
         "mode": "markers",
         "name": "Hidden 38",
         "type": "scatter",
         "x": [
          0.5
         ],
         "y": [
          2.349206349206349
         ]
        },
        {
         "marker": {
          "size": 25
         },
         "mode": "markers",
         "name": "Hidden 39",
         "type": "scatter",
         "x": [
          0.5
         ],
         "y": [
          2.4126984126984126
         ]
        },
        {
         "marker": {
          "size": 25
         },
         "mode": "markers",
         "name": "Hidden 40",
         "type": "scatter",
         "x": [
          0.5
         ],
         "y": [
          2.4761904761904763
         ]
        },
        {
         "marker": {
          "size": 25
         },
         "mode": "markers",
         "name": "Hidden 41",
         "type": "scatter",
         "x": [
          0.5
         ],
         "y": [
          2.5396825396825395
         ]
        },
        {
         "marker": {
          "size": 25
         },
         "mode": "markers",
         "name": "Hidden 42",
         "type": "scatter",
         "x": [
          0.5
         ],
         "y": [
          2.603174603174603
         ]
        },
        {
         "marker": {
          "size": 25
         },
         "mode": "markers",
         "name": "Hidden 43",
         "type": "scatter",
         "x": [
          0.5
         ],
         "y": [
          2.6666666666666665
         ]
        },
        {
         "marker": {
          "size": 25
         },
         "mode": "markers",
         "name": "Hidden 44",
         "type": "scatter",
         "x": [
          0.5
         ],
         "y": [
          2.7301587301587302
         ]
        },
        {
         "marker": {
          "size": 25
         },
         "mode": "markers",
         "name": "Hidden 45",
         "type": "scatter",
         "x": [
          0.5
         ],
         "y": [
          2.7936507936507935
         ]
        },
        {
         "marker": {
          "size": 25
         },
         "mode": "markers",
         "name": "Hidden 46",
         "type": "scatter",
         "x": [
          0.5
         ],
         "y": [
          2.8571428571428568
         ]
        },
        {
         "marker": {
          "size": 25
         },
         "mode": "markers",
         "name": "Hidden 47",
         "type": "scatter",
         "x": [
          0.5
         ],
         "y": [
          2.9206349206349205
         ]
        },
        {
         "marker": {
          "size": 25
         },
         "mode": "markers",
         "name": "Hidden 48",
         "type": "scatter",
         "x": [
          0.5
         ],
         "y": [
          2.984126984126984
         ]
        },
        {
         "marker": {
          "size": 25
         },
         "mode": "markers",
         "name": "Hidden 49",
         "type": "scatter",
         "x": [
          0.5
         ],
         "y": [
          3.0476190476190474
         ]
        },
        {
         "marker": {
          "size": 25
         },
         "mode": "markers",
         "name": "Hidden 50",
         "type": "scatter",
         "x": [
          0.5
         ],
         "y": [
          3.1111111111111107
         ]
        },
        {
         "marker": {
          "size": 25
         },
         "mode": "markers",
         "name": "Hidden 51",
         "type": "scatter",
         "x": [
          0.5
         ],
         "y": [
          3.1746031746031744
         ]
        },
        {
         "marker": {
          "size": 25
         },
         "mode": "markers",
         "name": "Hidden 52",
         "type": "scatter",
         "x": [
          0.5
         ],
         "y": [
          3.238095238095238
         ]
        },
        {
         "marker": {
          "size": 25
         },
         "mode": "markers",
         "name": "Hidden 53",
         "type": "scatter",
         "x": [
          0.5
         ],
         "y": [
          3.3015873015873014
         ]
        },
        {
         "marker": {
          "size": 25
         },
         "mode": "markers",
         "name": "Hidden 54",
         "type": "scatter",
         "x": [
          0.5
         ],
         "y": [
          3.3650793650793647
         ]
        },
        {
         "marker": {
          "size": 25
         },
         "mode": "markers",
         "name": "Hidden 55",
         "type": "scatter",
         "x": [
          0.5
         ],
         "y": [
          3.4285714285714284
         ]
        },
        {
         "marker": {
          "size": 25
         },
         "mode": "markers",
         "name": "Hidden 56",
         "type": "scatter",
         "x": [
          0.5
         ],
         "y": [
          3.492063492063492
         ]
        },
        {
         "marker": {
          "size": 25
         },
         "mode": "markers",
         "name": "Hidden 57",
         "type": "scatter",
         "x": [
          0.5
         ],
         "y": [
          3.5555555555555554
         ]
        },
        {
         "marker": {
          "size": 25
         },
         "mode": "markers",
         "name": "Hidden 58",
         "type": "scatter",
         "x": [
          0.5
         ],
         "y": [
          3.6190476190476186
         ]
        },
        {
         "marker": {
          "size": 25
         },
         "mode": "markers",
         "name": "Hidden 59",
         "type": "scatter",
         "x": [
          0.5
         ],
         "y": [
          3.6825396825396823
         ]
        },
        {
         "marker": {
          "size": 25
         },
         "mode": "markers",
         "name": "Hidden 60",
         "type": "scatter",
         "x": [
          0.5
         ],
         "y": [
          3.746031746031746
         ]
        },
        {
         "marker": {
          "size": 25
         },
         "mode": "markers",
         "name": "Hidden 61",
         "type": "scatter",
         "x": [
          0.5
         ],
         "y": [
          3.8095238095238093
         ]
        },
        {
         "marker": {
          "size": 25
         },
         "mode": "markers",
         "name": "Hidden 62",
         "type": "scatter",
         "x": [
          0.5
         ],
         "y": [
          3.8730158730158726
         ]
        },
        {
         "marker": {
          "size": 25
         },
         "mode": "markers",
         "name": "Hidden 63",
         "type": "scatter",
         "x": [
          0.5
         ],
         "y": [
          3.9365079365079363
         ]
        },
        {
         "marker": {
          "size": 25
         },
         "mode": "markers",
         "name": "Hidden 64",
         "type": "scatter",
         "x": [
          0.5
         ],
         "y": [
          4
         ]
        },
        {
         "marker": {
          "size": 25
         },
         "mode": "markers",
         "name": "Output 1",
         "type": "scatter",
         "x": [
          1
         ],
         "y": [
          2
         ]
        },
        {
         "line": {
          "color": "blue",
          "width": 0.2
         },
         "mode": "lines",
         "type": "scatter",
         "x": [
          0,
          0.5
         ],
         "y": [
          1,
          0
         ]
        },
        {
         "line": {
          "color": "blue",
          "width": 0.2
         },
         "mode": "lines",
         "type": "scatter",
         "x": [
          0,
          0.5
         ],
         "y": [
          1,
          0.06349206349206349
         ]
        },
        {
         "line": {
          "color": "blue",
          "width": 0.2
         },
         "mode": "lines",
         "type": "scatter",
         "x": [
          0,
          0.5
         ],
         "y": [
          1,
          0.12698412698412698
         ]
        },
        {
         "line": {
          "color": "blue",
          "width": 0.2
         },
         "mode": "lines",
         "type": "scatter",
         "x": [
          0,
          0.5
         ],
         "y": [
          1,
          0.19047619047619047
         ]
        },
        {
         "line": {
          "color": "blue",
          "width": 0.2
         },
         "mode": "lines",
         "type": "scatter",
         "x": [
          0,
          0.5
         ],
         "y": [
          1,
          0.25396825396825395
         ]
        },
        {
         "line": {
          "color": "blue",
          "width": 0.2
         },
         "mode": "lines",
         "type": "scatter",
         "x": [
          0,
          0.5
         ],
         "y": [
          1,
          0.31746031746031744
         ]
        },
        {
         "line": {
          "color": "blue",
          "width": 0.2
         },
         "mode": "lines",
         "type": "scatter",
         "x": [
          0,
          0.5
         ],
         "y": [
          1,
          0.38095238095238093
         ]
        },
        {
         "line": {
          "color": "blue",
          "width": 0.2
         },
         "mode": "lines",
         "type": "scatter",
         "x": [
          0,
          0.5
         ],
         "y": [
          1,
          0.4444444444444444
         ]
        },
        {
         "line": {
          "color": "blue",
          "width": 0.2
         },
         "mode": "lines",
         "type": "scatter",
         "x": [
          0,
          0.5
         ],
         "y": [
          1,
          0.5079365079365079
         ]
        },
        {
         "line": {
          "color": "blue",
          "width": 0.2
         },
         "mode": "lines",
         "type": "scatter",
         "x": [
          0,
          0.5
         ],
         "y": [
          1,
          0.5714285714285714
         ]
        },
        {
         "line": {
          "color": "blue",
          "width": 0.2
         },
         "mode": "lines",
         "type": "scatter",
         "x": [
          0,
          0.5
         ],
         "y": [
          1,
          0.6349206349206349
         ]
        },
        {
         "line": {
          "color": "blue",
          "width": 0.2
         },
         "mode": "lines",
         "type": "scatter",
         "x": [
          0,
          0.5
         ],
         "y": [
          1,
          0.6984126984126984
         ]
        },
        {
         "line": {
          "color": "blue",
          "width": 0.2
         },
         "mode": "lines",
         "type": "scatter",
         "x": [
          0,
          0.5
         ],
         "y": [
          1,
          0.7619047619047619
         ]
        },
        {
         "line": {
          "color": "blue",
          "width": 0.2
         },
         "mode": "lines",
         "type": "scatter",
         "x": [
          0,
          0.5
         ],
         "y": [
          1,
          0.8253968253968254
         ]
        },
        {
         "line": {
          "color": "blue",
          "width": 0.2
         },
         "mode": "lines",
         "type": "scatter",
         "x": [
          0,
          0.5
         ],
         "y": [
          1,
          0.8888888888888888
         ]
        },
        {
         "line": {
          "color": "blue",
          "width": 0.2
         },
         "mode": "lines",
         "type": "scatter",
         "x": [
          0,
          0.5
         ],
         "y": [
          1,
          0.9523809523809523
         ]
        },
        {
         "line": {
          "color": "blue",
          "width": 0.2
         },
         "mode": "lines",
         "type": "scatter",
         "x": [
          0,
          0.5
         ],
         "y": [
          1,
          1.0158730158730158
         ]
        },
        {
         "line": {
          "color": "blue",
          "width": 0.2
         },
         "mode": "lines",
         "type": "scatter",
         "x": [
          0,
          0.5
         ],
         "y": [
          1,
          1.0793650793650793
         ]
        },
        {
         "line": {
          "color": "blue",
          "width": 0.2
         },
         "mode": "lines",
         "type": "scatter",
         "x": [
          0,
          0.5
         ],
         "y": [
          1,
          1.1428571428571428
         ]
        },
        {
         "line": {
          "color": "blue",
          "width": 0.2
         },
         "mode": "lines",
         "type": "scatter",
         "x": [
          0,
          0.5
         ],
         "y": [
          1,
          1.2063492063492063
         ]
        },
        {
         "line": {
          "color": "blue",
          "width": 0.2
         },
         "mode": "lines",
         "type": "scatter",
         "x": [
          0,
          0.5
         ],
         "y": [
          1,
          1.2698412698412698
         ]
        },
        {
         "line": {
          "color": "blue",
          "width": 0.2
         },
         "mode": "lines",
         "type": "scatter",
         "x": [
          0,
          0.5
         ],
         "y": [
          1,
          1.3333333333333333
         ]
        },
        {
         "line": {
          "color": "blue",
          "width": 0.2
         },
         "mode": "lines",
         "type": "scatter",
         "x": [
          0,
          0.5
         ],
         "y": [
          1,
          1.3968253968253967
         ]
        },
        {
         "line": {
          "color": "blue",
          "width": 0.2
         },
         "mode": "lines",
         "type": "scatter",
         "x": [
          0,
          0.5
         ],
         "y": [
          1,
          1.4603174603174602
         ]
        },
        {
         "line": {
          "color": "blue",
          "width": 0.2
         },
         "mode": "lines",
         "type": "scatter",
         "x": [
          0,
          0.5
         ],
         "y": [
          1,
          1.5238095238095237
         ]
        },
        {
         "line": {
          "color": "blue",
          "width": 0.2
         },
         "mode": "lines",
         "type": "scatter",
         "x": [
          0,
          0.5
         ],
         "y": [
          1,
          1.5873015873015872
         ]
        },
        {
         "line": {
          "color": "blue",
          "width": 0.2
         },
         "mode": "lines",
         "type": "scatter",
         "x": [
          0,
          0.5
         ],
         "y": [
          1,
          1.6507936507936507
         ]
        },
        {
         "line": {
          "color": "blue",
          "width": 0.2
         },
         "mode": "lines",
         "type": "scatter",
         "x": [
          0,
          0.5
         ],
         "y": [
          1,
          1.7142857142857142
         ]
        },
        {
         "line": {
          "color": "blue",
          "width": 0.2
         },
         "mode": "lines",
         "type": "scatter",
         "x": [
          0,
          0.5
         ],
         "y": [
          1,
          1.7777777777777777
         ]
        },
        {
         "line": {
          "color": "blue",
          "width": 0.2
         },
         "mode": "lines",
         "type": "scatter",
         "x": [
          0,
          0.5
         ],
         "y": [
          1,
          1.8412698412698412
         ]
        },
        {
         "line": {
          "color": "blue",
          "width": 0.2
         },
         "mode": "lines",
         "type": "scatter",
         "x": [
          0,
          0.5
         ],
         "y": [
          1,
          1.9047619047619047
         ]
        },
        {
         "line": {
          "color": "blue",
          "width": 0.2
         },
         "mode": "lines",
         "type": "scatter",
         "x": [
          0,
          0.5
         ],
         "y": [
          1,
          1.9682539682539681
         ]
        },
        {
         "line": {
          "color": "blue",
          "width": 0.2
         },
         "mode": "lines",
         "type": "scatter",
         "x": [
          0,
          0.5
         ],
         "y": [
          1,
          2.0317460317460316
         ]
        },
        {
         "line": {
          "color": "blue",
          "width": 0.2
         },
         "mode": "lines",
         "type": "scatter",
         "x": [
          0,
          0.5
         ],
         "y": [
          1,
          2.095238095238095
         ]
        },
        {
         "line": {
          "color": "blue",
          "width": 0.2
         },
         "mode": "lines",
         "type": "scatter",
         "x": [
          0,
          0.5
         ],
         "y": [
          1,
          2.1587301587301586
         ]
        },
        {
         "line": {
          "color": "blue",
          "width": 0.2
         },
         "mode": "lines",
         "type": "scatter",
         "x": [
          0,
          0.5
         ],
         "y": [
          1,
          2.2222222222222223
         ]
        },
        {
         "line": {
          "color": "blue",
          "width": 0.2
         },
         "mode": "lines",
         "type": "scatter",
         "x": [
          0,
          0.5
         ],
         "y": [
          1,
          2.2857142857142856
         ]
        },
        {
         "line": {
          "color": "blue",
          "width": 0.2
         },
         "mode": "lines",
         "type": "scatter",
         "x": [
          0,
          0.5
         ],
         "y": [
          1,
          2.349206349206349
         ]
        },
        {
         "line": {
          "color": "blue",
          "width": 0.2
         },
         "mode": "lines",
         "type": "scatter",
         "x": [
          0,
          0.5
         ],
         "y": [
          1,
          2.4126984126984126
         ]
        },
        {
         "line": {
          "color": "blue",
          "width": 0.2
         },
         "mode": "lines",
         "type": "scatter",
         "x": [
          0,
          0.5
         ],
         "y": [
          1,
          2.4761904761904763
         ]
        },
        {
         "line": {
          "color": "blue",
          "width": 0.2
         },
         "mode": "lines",
         "type": "scatter",
         "x": [
          0,
          0.5
         ],
         "y": [
          1,
          2.5396825396825395
         ]
        },
        {
         "line": {
          "color": "blue",
          "width": 0.2
         },
         "mode": "lines",
         "type": "scatter",
         "x": [
          0,
          0.5
         ],
         "y": [
          1,
          2.603174603174603
         ]
        },
        {
         "line": {
          "color": "blue",
          "width": 0.2
         },
         "mode": "lines",
         "type": "scatter",
         "x": [
          0,
          0.5
         ],
         "y": [
          1,
          2.6666666666666665
         ]
        },
        {
         "line": {
          "color": "blue",
          "width": 0.2
         },
         "mode": "lines",
         "type": "scatter",
         "x": [
          0,
          0.5
         ],
         "y": [
          1,
          2.7301587301587302
         ]
        },
        {
         "line": {
          "color": "blue",
          "width": 0.2
         },
         "mode": "lines",
         "type": "scatter",
         "x": [
          0,
          0.5
         ],
         "y": [
          1,
          2.7936507936507935
         ]
        },
        {
         "line": {
          "color": "blue",
          "width": 0.2
         },
         "mode": "lines",
         "type": "scatter",
         "x": [
          0,
          0.5
         ],
         "y": [
          1,
          2.8571428571428568
         ]
        },
        {
         "line": {
          "color": "blue",
          "width": 0.2
         },
         "mode": "lines",
         "type": "scatter",
         "x": [
          0,
          0.5
         ],
         "y": [
          1,
          2.9206349206349205
         ]
        },
        {
         "line": {
          "color": "blue",
          "width": 0.2
         },
         "mode": "lines",
         "type": "scatter",
         "x": [
          0,
          0.5
         ],
         "y": [
          1,
          2.984126984126984
         ]
        },
        {
         "line": {
          "color": "blue",
          "width": 0.2
         },
         "mode": "lines",
         "type": "scatter",
         "x": [
          0,
          0.5
         ],
         "y": [
          1,
          3.0476190476190474
         ]
        },
        {
         "line": {
          "color": "blue",
          "width": 0.2
         },
         "mode": "lines",
         "type": "scatter",
         "x": [
          0,
          0.5
         ],
         "y": [
          1,
          3.1111111111111107
         ]
        },
        {
         "line": {
          "color": "blue",
          "width": 0.2
         },
         "mode": "lines",
         "type": "scatter",
         "x": [
          0,
          0.5
         ],
         "y": [
          1,
          3.1746031746031744
         ]
        },
        {
         "line": {
          "color": "blue",
          "width": 0.2
         },
         "mode": "lines",
         "type": "scatter",
         "x": [
          0,
          0.5
         ],
         "y": [
          1,
          3.238095238095238
         ]
        },
        {
         "line": {
          "color": "blue",
          "width": 0.2
         },
         "mode": "lines",
         "type": "scatter",
         "x": [
          0,
          0.5
         ],
         "y": [
          1,
          3.3015873015873014
         ]
        },
        {
         "line": {
          "color": "blue",
          "width": 0.2
         },
         "mode": "lines",
         "type": "scatter",
         "x": [
          0,
          0.5
         ],
         "y": [
          1,
          3.3650793650793647
         ]
        },
        {
         "line": {
          "color": "blue",
          "width": 0.2
         },
         "mode": "lines",
         "type": "scatter",
         "x": [
          0,
          0.5
         ],
         "y": [
          1,
          3.4285714285714284
         ]
        },
        {
         "line": {
          "color": "blue",
          "width": 0.2
         },
         "mode": "lines",
         "type": "scatter",
         "x": [
          0,
          0.5
         ],
         "y": [
          1,
          3.492063492063492
         ]
        },
        {
         "line": {
          "color": "blue",
          "width": 0.2
         },
         "mode": "lines",
         "type": "scatter",
         "x": [
          0,
          0.5
         ],
         "y": [
          1,
          3.5555555555555554
         ]
        },
        {
         "line": {
          "color": "blue",
          "width": 0.2
         },
         "mode": "lines",
         "type": "scatter",
         "x": [
          0,
          0.5
         ],
         "y": [
          1,
          3.6190476190476186
         ]
        },
        {
         "line": {
          "color": "blue",
          "width": 0.2
         },
         "mode": "lines",
         "type": "scatter",
         "x": [
          0,
          0.5
         ],
         "y": [
          1,
          3.6825396825396823
         ]
        },
        {
         "line": {
          "color": "blue",
          "width": 0.2
         },
         "mode": "lines",
         "type": "scatter",
         "x": [
          0,
          0.5
         ],
         "y": [
          1,
          3.746031746031746
         ]
        },
        {
         "line": {
          "color": "blue",
          "width": 0.2
         },
         "mode": "lines",
         "type": "scatter",
         "x": [
          0,
          0.5
         ],
         "y": [
          1,
          3.8095238095238093
         ]
        },
        {
         "line": {
          "color": "blue",
          "width": 0.2
         },
         "mode": "lines",
         "type": "scatter",
         "x": [
          0,
          0.5
         ],
         "y": [
          1,
          3.8730158730158726
         ]
        },
        {
         "line": {
          "color": "blue",
          "width": 0.2
         },
         "mode": "lines",
         "type": "scatter",
         "x": [
          0,
          0.5
         ],
         "y": [
          1,
          3.9365079365079363
         ]
        },
        {
         "line": {
          "color": "blue",
          "width": 0.2
         },
         "mode": "lines",
         "type": "scatter",
         "x": [
          0,
          0.5
         ],
         "y": [
          1,
          4
         ]
        },
        {
         "line": {
          "color": "blue",
          "width": 0.2
         },
         "mode": "lines",
         "type": "scatter",
         "x": [
          0,
          0.5
         ],
         "y": [
          1.5,
          0
         ]
        },
        {
         "line": {
          "color": "blue",
          "width": 0.2
         },
         "mode": "lines",
         "type": "scatter",
         "x": [
          0,
          0.5
         ],
         "y": [
          1.5,
          0.06349206349206349
         ]
        },
        {
         "line": {
          "color": "blue",
          "width": 0.2
         },
         "mode": "lines",
         "type": "scatter",
         "x": [
          0,
          0.5
         ],
         "y": [
          1.5,
          0.12698412698412698
         ]
        },
        {
         "line": {
          "color": "blue",
          "width": 0.2
         },
         "mode": "lines",
         "type": "scatter",
         "x": [
          0,
          0.5
         ],
         "y": [
          1.5,
          0.19047619047619047
         ]
        },
        {
         "line": {
          "color": "blue",
          "width": 0.2
         },
         "mode": "lines",
         "type": "scatter",
         "x": [
          0,
          0.5
         ],
         "y": [
          1.5,
          0.25396825396825395
         ]
        },
        {
         "line": {
          "color": "blue",
          "width": 0.2
         },
         "mode": "lines",
         "type": "scatter",
         "x": [
          0,
          0.5
         ],
         "y": [
          1.5,
          0.31746031746031744
         ]
        },
        {
         "line": {
          "color": "blue",
          "width": 0.2
         },
         "mode": "lines",
         "type": "scatter",
         "x": [
          0,
          0.5
         ],
         "y": [
          1.5,
          0.38095238095238093
         ]
        },
        {
         "line": {
          "color": "blue",
          "width": 0.2
         },
         "mode": "lines",
         "type": "scatter",
         "x": [
          0,
          0.5
         ],
         "y": [
          1.5,
          0.4444444444444444
         ]
        },
        {
         "line": {
          "color": "blue",
          "width": 0.2
         },
         "mode": "lines",
         "type": "scatter",
         "x": [
          0,
          0.5
         ],
         "y": [
          1.5,
          0.5079365079365079
         ]
        },
        {
         "line": {
          "color": "blue",
          "width": 0.2
         },
         "mode": "lines",
         "type": "scatter",
         "x": [
          0,
          0.5
         ],
         "y": [
          1.5,
          0.5714285714285714
         ]
        },
        {
         "line": {
          "color": "blue",
          "width": 0.2
         },
         "mode": "lines",
         "type": "scatter",
         "x": [
          0,
          0.5
         ],
         "y": [
          1.5,
          0.6349206349206349
         ]
        },
        {
         "line": {
          "color": "blue",
          "width": 0.2
         },
         "mode": "lines",
         "type": "scatter",
         "x": [
          0,
          0.5
         ],
         "y": [
          1.5,
          0.6984126984126984
         ]
        },
        {
         "line": {
          "color": "blue",
          "width": 0.2
         },
         "mode": "lines",
         "type": "scatter",
         "x": [
          0,
          0.5
         ],
         "y": [
          1.5,
          0.7619047619047619
         ]
        },
        {
         "line": {
          "color": "blue",
          "width": 0.2
         },
         "mode": "lines",
         "type": "scatter",
         "x": [
          0,
          0.5
         ],
         "y": [
          1.5,
          0.8253968253968254
         ]
        },
        {
         "line": {
          "color": "blue",
          "width": 0.2
         },
         "mode": "lines",
         "type": "scatter",
         "x": [
          0,
          0.5
         ],
         "y": [
          1.5,
          0.8888888888888888
         ]
        },
        {
         "line": {
          "color": "blue",
          "width": 0.2
         },
         "mode": "lines",
         "type": "scatter",
         "x": [
          0,
          0.5
         ],
         "y": [
          1.5,
          0.9523809523809523
         ]
        },
        {
         "line": {
          "color": "blue",
          "width": 0.2
         },
         "mode": "lines",
         "type": "scatter",
         "x": [
          0,
          0.5
         ],
         "y": [
          1.5,
          1.0158730158730158
         ]
        },
        {
         "line": {
          "color": "blue",
          "width": 0.2
         },
         "mode": "lines",
         "type": "scatter",
         "x": [
          0,
          0.5
         ],
         "y": [
          1.5,
          1.0793650793650793
         ]
        },
        {
         "line": {
          "color": "blue",
          "width": 0.2
         },
         "mode": "lines",
         "type": "scatter",
         "x": [
          0,
          0.5
         ],
         "y": [
          1.5,
          1.1428571428571428
         ]
        },
        {
         "line": {
          "color": "blue",
          "width": 0.2
         },
         "mode": "lines",
         "type": "scatter",
         "x": [
          0,
          0.5
         ],
         "y": [
          1.5,
          1.2063492063492063
         ]
        },
        {
         "line": {
          "color": "blue",
          "width": 0.2
         },
         "mode": "lines",
         "type": "scatter",
         "x": [
          0,
          0.5
         ],
         "y": [
          1.5,
          1.2698412698412698
         ]
        },
        {
         "line": {
          "color": "blue",
          "width": 0.2
         },
         "mode": "lines",
         "type": "scatter",
         "x": [
          0,
          0.5
         ],
         "y": [
          1.5,
          1.3333333333333333
         ]
        },
        {
         "line": {
          "color": "blue",
          "width": 0.2
         },
         "mode": "lines",
         "type": "scatter",
         "x": [
          0,
          0.5
         ],
         "y": [
          1.5,
          1.3968253968253967
         ]
        },
        {
         "line": {
          "color": "blue",
          "width": 0.2
         },
         "mode": "lines",
         "type": "scatter",
         "x": [
          0,
          0.5
         ],
         "y": [
          1.5,
          1.4603174603174602
         ]
        },
        {
         "line": {
          "color": "blue",
          "width": 0.2
         },
         "mode": "lines",
         "type": "scatter",
         "x": [
          0,
          0.5
         ],
         "y": [
          1.5,
          1.5238095238095237
         ]
        },
        {
         "line": {
          "color": "blue",
          "width": 0.2
         },
         "mode": "lines",
         "type": "scatter",
         "x": [
          0,
          0.5
         ],
         "y": [
          1.5,
          1.5873015873015872
         ]
        },
        {
         "line": {
          "color": "blue",
          "width": 0.2
         },
         "mode": "lines",
         "type": "scatter",
         "x": [
          0,
          0.5
         ],
         "y": [
          1.5,
          1.6507936507936507
         ]
        },
        {
         "line": {
          "color": "blue",
          "width": 0.2
         },
         "mode": "lines",
         "type": "scatter",
         "x": [
          0,
          0.5
         ],
         "y": [
          1.5,
          1.7142857142857142
         ]
        },
        {
         "line": {
          "color": "blue",
          "width": 0.2
         },
         "mode": "lines",
         "type": "scatter",
         "x": [
          0,
          0.5
         ],
         "y": [
          1.5,
          1.7777777777777777
         ]
        },
        {
         "line": {
          "color": "blue",
          "width": 0.2
         },
         "mode": "lines",
         "type": "scatter",
         "x": [
          0,
          0.5
         ],
         "y": [
          1.5,
          1.8412698412698412
         ]
        },
        {
         "line": {
          "color": "blue",
          "width": 0.2
         },
         "mode": "lines",
         "type": "scatter",
         "x": [
          0,
          0.5
         ],
         "y": [
          1.5,
          1.9047619047619047
         ]
        },
        {
         "line": {
          "color": "blue",
          "width": 0.2
         },
         "mode": "lines",
         "type": "scatter",
         "x": [
          0,
          0.5
         ],
         "y": [
          1.5,
          1.9682539682539681
         ]
        },
        {
         "line": {
          "color": "blue",
          "width": 0.2
         },
         "mode": "lines",
         "type": "scatter",
         "x": [
          0,
          0.5
         ],
         "y": [
          1.5,
          2.0317460317460316
         ]
        },
        {
         "line": {
          "color": "blue",
          "width": 0.2
         },
         "mode": "lines",
         "type": "scatter",
         "x": [
          0,
          0.5
         ],
         "y": [
          1.5,
          2.095238095238095
         ]
        },
        {
         "line": {
          "color": "blue",
          "width": 0.2
         },
         "mode": "lines",
         "type": "scatter",
         "x": [
          0,
          0.5
         ],
         "y": [
          1.5,
          2.1587301587301586
         ]
        },
        {
         "line": {
          "color": "blue",
          "width": 0.2
         },
         "mode": "lines",
         "type": "scatter",
         "x": [
          0,
          0.5
         ],
         "y": [
          1.5,
          2.2222222222222223
         ]
        },
        {
         "line": {
          "color": "blue",
          "width": 0.2
         },
         "mode": "lines",
         "type": "scatter",
         "x": [
          0,
          0.5
         ],
         "y": [
          1.5,
          2.2857142857142856
         ]
        },
        {
         "line": {
          "color": "blue",
          "width": 0.2
         },
         "mode": "lines",
         "type": "scatter",
         "x": [
          0,
          0.5
         ],
         "y": [
          1.5,
          2.349206349206349
         ]
        },
        {
         "line": {
          "color": "blue",
          "width": 0.2
         },
         "mode": "lines",
         "type": "scatter",
         "x": [
          0,
          0.5
         ],
         "y": [
          1.5,
          2.4126984126984126
         ]
        },
        {
         "line": {
          "color": "blue",
          "width": 0.2
         },
         "mode": "lines",
         "type": "scatter",
         "x": [
          0,
          0.5
         ],
         "y": [
          1.5,
          2.4761904761904763
         ]
        },
        {
         "line": {
          "color": "blue",
          "width": 0.2
         },
         "mode": "lines",
         "type": "scatter",
         "x": [
          0,
          0.5
         ],
         "y": [
          1.5,
          2.5396825396825395
         ]
        },
        {
         "line": {
          "color": "blue",
          "width": 0.2
         },
         "mode": "lines",
         "type": "scatter",
         "x": [
          0,
          0.5
         ],
         "y": [
          1.5,
          2.603174603174603
         ]
        },
        {
         "line": {
          "color": "blue",
          "width": 0.2
         },
         "mode": "lines",
         "type": "scatter",
         "x": [
          0,
          0.5
         ],
         "y": [
          1.5,
          2.6666666666666665
         ]
        },
        {
         "line": {
          "color": "blue",
          "width": 0.2
         },
         "mode": "lines",
         "type": "scatter",
         "x": [
          0,
          0.5
         ],
         "y": [
          1.5,
          2.7301587301587302
         ]
        },
        {
         "line": {
          "color": "blue",
          "width": 0.2
         },
         "mode": "lines",
         "type": "scatter",
         "x": [
          0,
          0.5
         ],
         "y": [
          1.5,
          2.7936507936507935
         ]
        },
        {
         "line": {
          "color": "blue",
          "width": 0.2
         },
         "mode": "lines",
         "type": "scatter",
         "x": [
          0,
          0.5
         ],
         "y": [
          1.5,
          2.8571428571428568
         ]
        },
        {
         "line": {
          "color": "blue",
          "width": 0.2
         },
         "mode": "lines",
         "type": "scatter",
         "x": [
          0,
          0.5
         ],
         "y": [
          1.5,
          2.9206349206349205
         ]
        },
        {
         "line": {
          "color": "blue",
          "width": 0.2
         },
         "mode": "lines",
         "type": "scatter",
         "x": [
          0,
          0.5
         ],
         "y": [
          1.5,
          2.984126984126984
         ]
        },
        {
         "line": {
          "color": "blue",
          "width": 0.2
         },
         "mode": "lines",
         "type": "scatter",
         "x": [
          0,
          0.5
         ],
         "y": [
          1.5,
          3.0476190476190474
         ]
        },
        {
         "line": {
          "color": "blue",
          "width": 0.2
         },
         "mode": "lines",
         "type": "scatter",
         "x": [
          0,
          0.5
         ],
         "y": [
          1.5,
          3.1111111111111107
         ]
        },
        {
         "line": {
          "color": "blue",
          "width": 0.2
         },
         "mode": "lines",
         "type": "scatter",
         "x": [
          0,
          0.5
         ],
         "y": [
          1.5,
          3.1746031746031744
         ]
        },
        {
         "line": {
          "color": "blue",
          "width": 0.2
         },
         "mode": "lines",
         "type": "scatter",
         "x": [
          0,
          0.5
         ],
         "y": [
          1.5,
          3.238095238095238
         ]
        },
        {
         "line": {
          "color": "blue",
          "width": 0.2
         },
         "mode": "lines",
         "type": "scatter",
         "x": [
          0,
          0.5
         ],
         "y": [
          1.5,
          3.3015873015873014
         ]
        },
        {
         "line": {
          "color": "blue",
          "width": 0.2
         },
         "mode": "lines",
         "type": "scatter",
         "x": [
          0,
          0.5
         ],
         "y": [
          1.5,
          3.3650793650793647
         ]
        },
        {
         "line": {
          "color": "blue",
          "width": 0.2
         },
         "mode": "lines",
         "type": "scatter",
         "x": [
          0,
          0.5
         ],
         "y": [
          1.5,
          3.4285714285714284
         ]
        },
        {
         "line": {
          "color": "blue",
          "width": 0.2
         },
         "mode": "lines",
         "type": "scatter",
         "x": [
          0,
          0.5
         ],
         "y": [
          1.5,
          3.492063492063492
         ]
        },
        {
         "line": {
          "color": "blue",
          "width": 0.2
         },
         "mode": "lines",
         "type": "scatter",
         "x": [
          0,
          0.5
         ],
         "y": [
          1.5,
          3.5555555555555554
         ]
        },
        {
         "line": {
          "color": "blue",
          "width": 0.2
         },
         "mode": "lines",
         "type": "scatter",
         "x": [
          0,
          0.5
         ],
         "y": [
          1.5,
          3.6190476190476186
         ]
        },
        {
         "line": {
          "color": "blue",
          "width": 0.2
         },
         "mode": "lines",
         "type": "scatter",
         "x": [
          0,
          0.5
         ],
         "y": [
          1.5,
          3.6825396825396823
         ]
        },
        {
         "line": {
          "color": "blue",
          "width": 0.2
         },
         "mode": "lines",
         "type": "scatter",
         "x": [
          0,
          0.5
         ],
         "y": [
          1.5,
          3.746031746031746
         ]
        },
        {
         "line": {
          "color": "blue",
          "width": 0.2
         },
         "mode": "lines",
         "type": "scatter",
         "x": [
          0,
          0.5
         ],
         "y": [
          1.5,
          3.8095238095238093
         ]
        },
        {
         "line": {
          "color": "blue",
          "width": 0.2
         },
         "mode": "lines",
         "type": "scatter",
         "x": [
          0,
          0.5
         ],
         "y": [
          1.5,
          3.8730158730158726
         ]
        },
        {
         "line": {
          "color": "blue",
          "width": 0.2
         },
         "mode": "lines",
         "type": "scatter",
         "x": [
          0,
          0.5
         ],
         "y": [
          1.5,
          3.9365079365079363
         ]
        },
        {
         "line": {
          "color": "blue",
          "width": 0.2
         },
         "mode": "lines",
         "type": "scatter",
         "x": [
          0,
          0.5
         ],
         "y": [
          1.5,
          4
         ]
        },
        {
         "line": {
          "color": "blue",
          "width": 0.2
         },
         "mode": "lines",
         "type": "scatter",
         "x": [
          0,
          0.5
         ],
         "y": [
          2,
          0
         ]
        },
        {
         "line": {
          "color": "blue",
          "width": 0.2
         },
         "mode": "lines",
         "type": "scatter",
         "x": [
          0,
          0.5
         ],
         "y": [
          2,
          0.06349206349206349
         ]
        },
        {
         "line": {
          "color": "blue",
          "width": 0.2
         },
         "mode": "lines",
         "type": "scatter",
         "x": [
          0,
          0.5
         ],
         "y": [
          2,
          0.12698412698412698
         ]
        },
        {
         "line": {
          "color": "blue",
          "width": 0.2
         },
         "mode": "lines",
         "type": "scatter",
         "x": [
          0,
          0.5
         ],
         "y": [
          2,
          0.19047619047619047
         ]
        },
        {
         "line": {
          "color": "blue",
          "width": 0.2
         },
         "mode": "lines",
         "type": "scatter",
         "x": [
          0,
          0.5
         ],
         "y": [
          2,
          0.25396825396825395
         ]
        },
        {
         "line": {
          "color": "blue",
          "width": 0.2
         },
         "mode": "lines",
         "type": "scatter",
         "x": [
          0,
          0.5
         ],
         "y": [
          2,
          0.31746031746031744
         ]
        },
        {
         "line": {
          "color": "blue",
          "width": 0.2
         },
         "mode": "lines",
         "type": "scatter",
         "x": [
          0,
          0.5
         ],
         "y": [
          2,
          0.38095238095238093
         ]
        },
        {
         "line": {
          "color": "blue",
          "width": 0.2
         },
         "mode": "lines",
         "type": "scatter",
         "x": [
          0,
          0.5
         ],
         "y": [
          2,
          0.4444444444444444
         ]
        },
        {
         "line": {
          "color": "blue",
          "width": 0.2
         },
         "mode": "lines",
         "type": "scatter",
         "x": [
          0,
          0.5
         ],
         "y": [
          2,
          0.5079365079365079
         ]
        },
        {
         "line": {
          "color": "blue",
          "width": 0.2
         },
         "mode": "lines",
         "type": "scatter",
         "x": [
          0,
          0.5
         ],
         "y": [
          2,
          0.5714285714285714
         ]
        },
        {
         "line": {
          "color": "blue",
          "width": 0.2
         },
         "mode": "lines",
         "type": "scatter",
         "x": [
          0,
          0.5
         ],
         "y": [
          2,
          0.6349206349206349
         ]
        },
        {
         "line": {
          "color": "blue",
          "width": 0.2
         },
         "mode": "lines",
         "type": "scatter",
         "x": [
          0,
          0.5
         ],
         "y": [
          2,
          0.6984126984126984
         ]
        },
        {
         "line": {
          "color": "blue",
          "width": 0.2
         },
         "mode": "lines",
         "type": "scatter",
         "x": [
          0,
          0.5
         ],
         "y": [
          2,
          0.7619047619047619
         ]
        },
        {
         "line": {
          "color": "blue",
          "width": 0.2
         },
         "mode": "lines",
         "type": "scatter",
         "x": [
          0,
          0.5
         ],
         "y": [
          2,
          0.8253968253968254
         ]
        },
        {
         "line": {
          "color": "blue",
          "width": 0.2
         },
         "mode": "lines",
         "type": "scatter",
         "x": [
          0,
          0.5
         ],
         "y": [
          2,
          0.8888888888888888
         ]
        },
        {
         "line": {
          "color": "blue",
          "width": 0.2
         },
         "mode": "lines",
         "type": "scatter",
         "x": [
          0,
          0.5
         ],
         "y": [
          2,
          0.9523809523809523
         ]
        },
        {
         "line": {
          "color": "blue",
          "width": 0.2
         },
         "mode": "lines",
         "type": "scatter",
         "x": [
          0,
          0.5
         ],
         "y": [
          2,
          1.0158730158730158
         ]
        },
        {
         "line": {
          "color": "blue",
          "width": 0.2
         },
         "mode": "lines",
         "type": "scatter",
         "x": [
          0,
          0.5
         ],
         "y": [
          2,
          1.0793650793650793
         ]
        },
        {
         "line": {
          "color": "blue",
          "width": 0.2
         },
         "mode": "lines",
         "type": "scatter",
         "x": [
          0,
          0.5
         ],
         "y": [
          2,
          1.1428571428571428
         ]
        },
        {
         "line": {
          "color": "blue",
          "width": 0.2
         },
         "mode": "lines",
         "type": "scatter",
         "x": [
          0,
          0.5
         ],
         "y": [
          2,
          1.2063492063492063
         ]
        },
        {
         "line": {
          "color": "blue",
          "width": 0.2
         },
         "mode": "lines",
         "type": "scatter",
         "x": [
          0,
          0.5
         ],
         "y": [
          2,
          1.2698412698412698
         ]
        },
        {
         "line": {
          "color": "blue",
          "width": 0.2
         },
         "mode": "lines",
         "type": "scatter",
         "x": [
          0,
          0.5
         ],
         "y": [
          2,
          1.3333333333333333
         ]
        },
        {
         "line": {
          "color": "blue",
          "width": 0.2
         },
         "mode": "lines",
         "type": "scatter",
         "x": [
          0,
          0.5
         ],
         "y": [
          2,
          1.3968253968253967
         ]
        },
        {
         "line": {
          "color": "blue",
          "width": 0.2
         },
         "mode": "lines",
         "type": "scatter",
         "x": [
          0,
          0.5
         ],
         "y": [
          2,
          1.4603174603174602
         ]
        },
        {
         "line": {
          "color": "blue",
          "width": 0.2
         },
         "mode": "lines",
         "type": "scatter",
         "x": [
          0,
          0.5
         ],
         "y": [
          2,
          1.5238095238095237
         ]
        },
        {
         "line": {
          "color": "blue",
          "width": 0.2
         },
         "mode": "lines",
         "type": "scatter",
         "x": [
          0,
          0.5
         ],
         "y": [
          2,
          1.5873015873015872
         ]
        },
        {
         "line": {
          "color": "blue",
          "width": 0.2
         },
         "mode": "lines",
         "type": "scatter",
         "x": [
          0,
          0.5
         ],
         "y": [
          2,
          1.6507936507936507
         ]
        },
        {
         "line": {
          "color": "blue",
          "width": 0.2
         },
         "mode": "lines",
         "type": "scatter",
         "x": [
          0,
          0.5
         ],
         "y": [
          2,
          1.7142857142857142
         ]
        },
        {
         "line": {
          "color": "blue",
          "width": 0.2
         },
         "mode": "lines",
         "type": "scatter",
         "x": [
          0,
          0.5
         ],
         "y": [
          2,
          1.7777777777777777
         ]
        },
        {
         "line": {
          "color": "blue",
          "width": 0.2
         },
         "mode": "lines",
         "type": "scatter",
         "x": [
          0,
          0.5
         ],
         "y": [
          2,
          1.8412698412698412
         ]
        },
        {
         "line": {
          "color": "blue",
          "width": 0.2
         },
         "mode": "lines",
         "type": "scatter",
         "x": [
          0,
          0.5
         ],
         "y": [
          2,
          1.9047619047619047
         ]
        },
        {
         "line": {
          "color": "blue",
          "width": 0.2
         },
         "mode": "lines",
         "type": "scatter",
         "x": [
          0,
          0.5
         ],
         "y": [
          2,
          1.9682539682539681
         ]
        },
        {
         "line": {
          "color": "blue",
          "width": 0.2
         },
         "mode": "lines",
         "type": "scatter",
         "x": [
          0,
          0.5
         ],
         "y": [
          2,
          2.0317460317460316
         ]
        },
        {
         "line": {
          "color": "blue",
          "width": 0.2
         },
         "mode": "lines",
         "type": "scatter",
         "x": [
          0,
          0.5
         ],
         "y": [
          2,
          2.095238095238095
         ]
        },
        {
         "line": {
          "color": "blue",
          "width": 0.2
         },
         "mode": "lines",
         "type": "scatter",
         "x": [
          0,
          0.5
         ],
         "y": [
          2,
          2.1587301587301586
         ]
        },
        {
         "line": {
          "color": "blue",
          "width": 0.2
         },
         "mode": "lines",
         "type": "scatter",
         "x": [
          0,
          0.5
         ],
         "y": [
          2,
          2.2222222222222223
         ]
        },
        {
         "line": {
          "color": "blue",
          "width": 0.2
         },
         "mode": "lines",
         "type": "scatter",
         "x": [
          0,
          0.5
         ],
         "y": [
          2,
          2.2857142857142856
         ]
        },
        {
         "line": {
          "color": "blue",
          "width": 0.2
         },
         "mode": "lines",
         "type": "scatter",
         "x": [
          0,
          0.5
         ],
         "y": [
          2,
          2.349206349206349
         ]
        },
        {
         "line": {
          "color": "blue",
          "width": 0.2
         },
         "mode": "lines",
         "type": "scatter",
         "x": [
          0,
          0.5
         ],
         "y": [
          2,
          2.4126984126984126
         ]
        },
        {
         "line": {
          "color": "blue",
          "width": 0.2
         },
         "mode": "lines",
         "type": "scatter",
         "x": [
          0,
          0.5
         ],
         "y": [
          2,
          2.4761904761904763
         ]
        },
        {
         "line": {
          "color": "blue",
          "width": 0.2
         },
         "mode": "lines",
         "type": "scatter",
         "x": [
          0,
          0.5
         ],
         "y": [
          2,
          2.5396825396825395
         ]
        },
        {
         "line": {
          "color": "blue",
          "width": 0.2
         },
         "mode": "lines",
         "type": "scatter",
         "x": [
          0,
          0.5
         ],
         "y": [
          2,
          2.603174603174603
         ]
        },
        {
         "line": {
          "color": "blue",
          "width": 0.2
         },
         "mode": "lines",
         "type": "scatter",
         "x": [
          0,
          0.5
         ],
         "y": [
          2,
          2.6666666666666665
         ]
        },
        {
         "line": {
          "color": "blue",
          "width": 0.2
         },
         "mode": "lines",
         "type": "scatter",
         "x": [
          0,
          0.5
         ],
         "y": [
          2,
          2.7301587301587302
         ]
        },
        {
         "line": {
          "color": "blue",
          "width": 0.2
         },
         "mode": "lines",
         "type": "scatter",
         "x": [
          0,
          0.5
         ],
         "y": [
          2,
          2.7936507936507935
         ]
        },
        {
         "line": {
          "color": "blue",
          "width": 0.2
         },
         "mode": "lines",
         "type": "scatter",
         "x": [
          0,
          0.5
         ],
         "y": [
          2,
          2.8571428571428568
         ]
        },
        {
         "line": {
          "color": "blue",
          "width": 0.2
         },
         "mode": "lines",
         "type": "scatter",
         "x": [
          0,
          0.5
         ],
         "y": [
          2,
          2.9206349206349205
         ]
        },
        {
         "line": {
          "color": "blue",
          "width": 0.2
         },
         "mode": "lines",
         "type": "scatter",
         "x": [
          0,
          0.5
         ],
         "y": [
          2,
          2.984126984126984
         ]
        },
        {
         "line": {
          "color": "blue",
          "width": 0.2
         },
         "mode": "lines",
         "type": "scatter",
         "x": [
          0,
          0.5
         ],
         "y": [
          2,
          3.0476190476190474
         ]
        },
        {
         "line": {
          "color": "blue",
          "width": 0.2
         },
         "mode": "lines",
         "type": "scatter",
         "x": [
          0,
          0.5
         ],
         "y": [
          2,
          3.1111111111111107
         ]
        },
        {
         "line": {
          "color": "blue",
          "width": 0.2
         },
         "mode": "lines",
         "type": "scatter",
         "x": [
          0,
          0.5
         ],
         "y": [
          2,
          3.1746031746031744
         ]
        },
        {
         "line": {
          "color": "blue",
          "width": 0.2
         },
         "mode": "lines",
         "type": "scatter",
         "x": [
          0,
          0.5
         ],
         "y": [
          2,
          3.238095238095238
         ]
        },
        {
         "line": {
          "color": "blue",
          "width": 0.2
         },
         "mode": "lines",
         "type": "scatter",
         "x": [
          0,
          0.5
         ],
         "y": [
          2,
          3.3015873015873014
         ]
        },
        {
         "line": {
          "color": "blue",
          "width": 0.2
         },
         "mode": "lines",
         "type": "scatter",
         "x": [
          0,
          0.5
         ],
         "y": [
          2,
          3.3650793650793647
         ]
        },
        {
         "line": {
          "color": "blue",
          "width": 0.2
         },
         "mode": "lines",
         "type": "scatter",
         "x": [
          0,
          0.5
         ],
         "y": [
          2,
          3.4285714285714284
         ]
        },
        {
         "line": {
          "color": "blue",
          "width": 0.2
         },
         "mode": "lines",
         "type": "scatter",
         "x": [
          0,
          0.5
         ],
         "y": [
          2,
          3.492063492063492
         ]
        },
        {
         "line": {
          "color": "blue",
          "width": 0.2
         },
         "mode": "lines",
         "type": "scatter",
         "x": [
          0,
          0.5
         ],
         "y": [
          2,
          3.5555555555555554
         ]
        },
        {
         "line": {
          "color": "blue",
          "width": 0.2
         },
         "mode": "lines",
         "type": "scatter",
         "x": [
          0,
          0.5
         ],
         "y": [
          2,
          3.6190476190476186
         ]
        },
        {
         "line": {
          "color": "blue",
          "width": 0.2
         },
         "mode": "lines",
         "type": "scatter",
         "x": [
          0,
          0.5
         ],
         "y": [
          2,
          3.6825396825396823
         ]
        },
        {
         "line": {
          "color": "blue",
          "width": 0.2
         },
         "mode": "lines",
         "type": "scatter",
         "x": [
          0,
          0.5
         ],
         "y": [
          2,
          3.746031746031746
         ]
        },
        {
         "line": {
          "color": "blue",
          "width": 0.2
         },
         "mode": "lines",
         "type": "scatter",
         "x": [
          0,
          0.5
         ],
         "y": [
          2,
          3.8095238095238093
         ]
        },
        {
         "line": {
          "color": "blue",
          "width": 0.2
         },
         "mode": "lines",
         "type": "scatter",
         "x": [
          0,
          0.5
         ],
         "y": [
          2,
          3.8730158730158726
         ]
        },
        {
         "line": {
          "color": "blue",
          "width": 0.2
         },
         "mode": "lines",
         "type": "scatter",
         "x": [
          0,
          0.5
         ],
         "y": [
          2,
          3.9365079365079363
         ]
        },
        {
         "line": {
          "color": "blue",
          "width": 0.2
         },
         "mode": "lines",
         "type": "scatter",
         "x": [
          0,
          0.5
         ],
         "y": [
          2,
          4
         ]
        },
        {
         "line": {
          "color": "blue",
          "width": 0.2
         },
         "mode": "lines",
         "type": "scatter",
         "x": [
          0,
          0.5
         ],
         "y": [
          2.5,
          0
         ]
        },
        {
         "line": {
          "color": "blue",
          "width": 0.2
         },
         "mode": "lines",
         "type": "scatter",
         "x": [
          0,
          0.5
         ],
         "y": [
          2.5,
          0.06349206349206349
         ]
        },
        {
         "line": {
          "color": "blue",
          "width": 0.2
         },
         "mode": "lines",
         "type": "scatter",
         "x": [
          0,
          0.5
         ],
         "y": [
          2.5,
          0.12698412698412698
         ]
        },
        {
         "line": {
          "color": "blue",
          "width": 0.2
         },
         "mode": "lines",
         "type": "scatter",
         "x": [
          0,
          0.5
         ],
         "y": [
          2.5,
          0.19047619047619047
         ]
        },
        {
         "line": {
          "color": "blue",
          "width": 0.2
         },
         "mode": "lines",
         "type": "scatter",
         "x": [
          0,
          0.5
         ],
         "y": [
          2.5,
          0.25396825396825395
         ]
        },
        {
         "line": {
          "color": "blue",
          "width": 0.2
         },
         "mode": "lines",
         "type": "scatter",
         "x": [
          0,
          0.5
         ],
         "y": [
          2.5,
          0.31746031746031744
         ]
        },
        {
         "line": {
          "color": "blue",
          "width": 0.2
         },
         "mode": "lines",
         "type": "scatter",
         "x": [
          0,
          0.5
         ],
         "y": [
          2.5,
          0.38095238095238093
         ]
        },
        {
         "line": {
          "color": "blue",
          "width": 0.2
         },
         "mode": "lines",
         "type": "scatter",
         "x": [
          0,
          0.5
         ],
         "y": [
          2.5,
          0.4444444444444444
         ]
        },
        {
         "line": {
          "color": "blue",
          "width": 0.2
         },
         "mode": "lines",
         "type": "scatter",
         "x": [
          0,
          0.5
         ],
         "y": [
          2.5,
          0.5079365079365079
         ]
        },
        {
         "line": {
          "color": "blue",
          "width": 0.2
         },
         "mode": "lines",
         "type": "scatter",
         "x": [
          0,
          0.5
         ],
         "y": [
          2.5,
          0.5714285714285714
         ]
        },
        {
         "line": {
          "color": "blue",
          "width": 0.2
         },
         "mode": "lines",
         "type": "scatter",
         "x": [
          0,
          0.5
         ],
         "y": [
          2.5,
          0.6349206349206349
         ]
        },
        {
         "line": {
          "color": "blue",
          "width": 0.2
         },
         "mode": "lines",
         "type": "scatter",
         "x": [
          0,
          0.5
         ],
         "y": [
          2.5,
          0.6984126984126984
         ]
        },
        {
         "line": {
          "color": "blue",
          "width": 0.2
         },
         "mode": "lines",
         "type": "scatter",
         "x": [
          0,
          0.5
         ],
         "y": [
          2.5,
          0.7619047619047619
         ]
        },
        {
         "line": {
          "color": "blue",
          "width": 0.2
         },
         "mode": "lines",
         "type": "scatter",
         "x": [
          0,
          0.5
         ],
         "y": [
          2.5,
          0.8253968253968254
         ]
        },
        {
         "line": {
          "color": "blue",
          "width": 0.2
         },
         "mode": "lines",
         "type": "scatter",
         "x": [
          0,
          0.5
         ],
         "y": [
          2.5,
          0.8888888888888888
         ]
        },
        {
         "line": {
          "color": "blue",
          "width": 0.2
         },
         "mode": "lines",
         "type": "scatter",
         "x": [
          0,
          0.5
         ],
         "y": [
          2.5,
          0.9523809523809523
         ]
        },
        {
         "line": {
          "color": "blue",
          "width": 0.2
         },
         "mode": "lines",
         "type": "scatter",
         "x": [
          0,
          0.5
         ],
         "y": [
          2.5,
          1.0158730158730158
         ]
        },
        {
         "line": {
          "color": "blue",
          "width": 0.2
         },
         "mode": "lines",
         "type": "scatter",
         "x": [
          0,
          0.5
         ],
         "y": [
          2.5,
          1.0793650793650793
         ]
        },
        {
         "line": {
          "color": "blue",
          "width": 0.2
         },
         "mode": "lines",
         "type": "scatter",
         "x": [
          0,
          0.5
         ],
         "y": [
          2.5,
          1.1428571428571428
         ]
        },
        {
         "line": {
          "color": "blue",
          "width": 0.2
         },
         "mode": "lines",
         "type": "scatter",
         "x": [
          0,
          0.5
         ],
         "y": [
          2.5,
          1.2063492063492063
         ]
        },
        {
         "line": {
          "color": "blue",
          "width": 0.2
         },
         "mode": "lines",
         "type": "scatter",
         "x": [
          0,
          0.5
         ],
         "y": [
          2.5,
          1.2698412698412698
         ]
        },
        {
         "line": {
          "color": "blue",
          "width": 0.2
         },
         "mode": "lines",
         "type": "scatter",
         "x": [
          0,
          0.5
         ],
         "y": [
          2.5,
          1.3333333333333333
         ]
        },
        {
         "line": {
          "color": "blue",
          "width": 0.2
         },
         "mode": "lines",
         "type": "scatter",
         "x": [
          0,
          0.5
         ],
         "y": [
          2.5,
          1.3968253968253967
         ]
        },
        {
         "line": {
          "color": "blue",
          "width": 0.2
         },
         "mode": "lines",
         "type": "scatter",
         "x": [
          0,
          0.5
         ],
         "y": [
          2.5,
          1.4603174603174602
         ]
        },
        {
         "line": {
          "color": "blue",
          "width": 0.2
         },
         "mode": "lines",
         "type": "scatter",
         "x": [
          0,
          0.5
         ],
         "y": [
          2.5,
          1.5238095238095237
         ]
        },
        {
         "line": {
          "color": "blue",
          "width": 0.2
         },
         "mode": "lines",
         "type": "scatter",
         "x": [
          0,
          0.5
         ],
         "y": [
          2.5,
          1.5873015873015872
         ]
        },
        {
         "line": {
          "color": "blue",
          "width": 0.2
         },
         "mode": "lines",
         "type": "scatter",
         "x": [
          0,
          0.5
         ],
         "y": [
          2.5,
          1.6507936507936507
         ]
        },
        {
         "line": {
          "color": "blue",
          "width": 0.2
         },
         "mode": "lines",
         "type": "scatter",
         "x": [
          0,
          0.5
         ],
         "y": [
          2.5,
          1.7142857142857142
         ]
        },
        {
         "line": {
          "color": "blue",
          "width": 0.2
         },
         "mode": "lines",
         "type": "scatter",
         "x": [
          0,
          0.5
         ],
         "y": [
          2.5,
          1.7777777777777777
         ]
        },
        {
         "line": {
          "color": "blue",
          "width": 0.2
         },
         "mode": "lines",
         "type": "scatter",
         "x": [
          0,
          0.5
         ],
         "y": [
          2.5,
          1.8412698412698412
         ]
        },
        {
         "line": {
          "color": "blue",
          "width": 0.2
         },
         "mode": "lines",
         "type": "scatter",
         "x": [
          0,
          0.5
         ],
         "y": [
          2.5,
          1.9047619047619047
         ]
        },
        {
         "line": {
          "color": "blue",
          "width": 0.2
         },
         "mode": "lines",
         "type": "scatter",
         "x": [
          0,
          0.5
         ],
         "y": [
          2.5,
          1.9682539682539681
         ]
        },
        {
         "line": {
          "color": "blue",
          "width": 0.2
         },
         "mode": "lines",
         "type": "scatter",
         "x": [
          0,
          0.5
         ],
         "y": [
          2.5,
          2.0317460317460316
         ]
        },
        {
         "line": {
          "color": "blue",
          "width": 0.2
         },
         "mode": "lines",
         "type": "scatter",
         "x": [
          0,
          0.5
         ],
         "y": [
          2.5,
          2.095238095238095
         ]
        },
        {
         "line": {
          "color": "blue",
          "width": 0.2
         },
         "mode": "lines",
         "type": "scatter",
         "x": [
          0,
          0.5
         ],
         "y": [
          2.5,
          2.1587301587301586
         ]
        },
        {
         "line": {
          "color": "blue",
          "width": 0.2
         },
         "mode": "lines",
         "type": "scatter",
         "x": [
          0,
          0.5
         ],
         "y": [
          2.5,
          2.2222222222222223
         ]
        },
        {
         "line": {
          "color": "blue",
          "width": 0.2
         },
         "mode": "lines",
         "type": "scatter",
         "x": [
          0,
          0.5
         ],
         "y": [
          2.5,
          2.2857142857142856
         ]
        },
        {
         "line": {
          "color": "blue",
          "width": 0.2
         },
         "mode": "lines",
         "type": "scatter",
         "x": [
          0,
          0.5
         ],
         "y": [
          2.5,
          2.349206349206349
         ]
        },
        {
         "line": {
          "color": "blue",
          "width": 0.2
         },
         "mode": "lines",
         "type": "scatter",
         "x": [
          0,
          0.5
         ],
         "y": [
          2.5,
          2.4126984126984126
         ]
        },
        {
         "line": {
          "color": "blue",
          "width": 0.2
         },
         "mode": "lines",
         "type": "scatter",
         "x": [
          0,
          0.5
         ],
         "y": [
          2.5,
          2.4761904761904763
         ]
        },
        {
         "line": {
          "color": "blue",
          "width": 0.2
         },
         "mode": "lines",
         "type": "scatter",
         "x": [
          0,
          0.5
         ],
         "y": [
          2.5,
          2.5396825396825395
         ]
        },
        {
         "line": {
          "color": "blue",
          "width": 0.2
         },
         "mode": "lines",
         "type": "scatter",
         "x": [
          0,
          0.5
         ],
         "y": [
          2.5,
          2.603174603174603
         ]
        },
        {
         "line": {
          "color": "blue",
          "width": 0.2
         },
         "mode": "lines",
         "type": "scatter",
         "x": [
          0,
          0.5
         ],
         "y": [
          2.5,
          2.6666666666666665
         ]
        },
        {
         "line": {
          "color": "blue",
          "width": 0.2
         },
         "mode": "lines",
         "type": "scatter",
         "x": [
          0,
          0.5
         ],
         "y": [
          2.5,
          2.7301587301587302
         ]
        },
        {
         "line": {
          "color": "blue",
          "width": 0.2
         },
         "mode": "lines",
         "type": "scatter",
         "x": [
          0,
          0.5
         ],
         "y": [
          2.5,
          2.7936507936507935
         ]
        },
        {
         "line": {
          "color": "blue",
          "width": 0.2
         },
         "mode": "lines",
         "type": "scatter",
         "x": [
          0,
          0.5
         ],
         "y": [
          2.5,
          2.8571428571428568
         ]
        },
        {
         "line": {
          "color": "blue",
          "width": 0.2
         },
         "mode": "lines",
         "type": "scatter",
         "x": [
          0,
          0.5
         ],
         "y": [
          2.5,
          2.9206349206349205
         ]
        },
        {
         "line": {
          "color": "blue",
          "width": 0.2
         },
         "mode": "lines",
         "type": "scatter",
         "x": [
          0,
          0.5
         ],
         "y": [
          2.5,
          2.984126984126984
         ]
        },
        {
         "line": {
          "color": "blue",
          "width": 0.2
         },
         "mode": "lines",
         "type": "scatter",
         "x": [
          0,
          0.5
         ],
         "y": [
          2.5,
          3.0476190476190474
         ]
        },
        {
         "line": {
          "color": "blue",
          "width": 0.2
         },
         "mode": "lines",
         "type": "scatter",
         "x": [
          0,
          0.5
         ],
         "y": [
          2.5,
          3.1111111111111107
         ]
        },
        {
         "line": {
          "color": "blue",
          "width": 0.2
         },
         "mode": "lines",
         "type": "scatter",
         "x": [
          0,
          0.5
         ],
         "y": [
          2.5,
          3.1746031746031744
         ]
        },
        {
         "line": {
          "color": "blue",
          "width": 0.2
         },
         "mode": "lines",
         "type": "scatter",
         "x": [
          0,
          0.5
         ],
         "y": [
          2.5,
          3.238095238095238
         ]
        },
        {
         "line": {
          "color": "blue",
          "width": 0.2
         },
         "mode": "lines",
         "type": "scatter",
         "x": [
          0,
          0.5
         ],
         "y": [
          2.5,
          3.3015873015873014
         ]
        },
        {
         "line": {
          "color": "blue",
          "width": 0.2
         },
         "mode": "lines",
         "type": "scatter",
         "x": [
          0,
          0.5
         ],
         "y": [
          2.5,
          3.3650793650793647
         ]
        },
        {
         "line": {
          "color": "blue",
          "width": 0.2
         },
         "mode": "lines",
         "type": "scatter",
         "x": [
          0,
          0.5
         ],
         "y": [
          2.5,
          3.4285714285714284
         ]
        },
        {
         "line": {
          "color": "blue",
          "width": 0.2
         },
         "mode": "lines",
         "type": "scatter",
         "x": [
          0,
          0.5
         ],
         "y": [
          2.5,
          3.492063492063492
         ]
        },
        {
         "line": {
          "color": "blue",
          "width": 0.2
         },
         "mode": "lines",
         "type": "scatter",
         "x": [
          0,
          0.5
         ],
         "y": [
          2.5,
          3.5555555555555554
         ]
        },
        {
         "line": {
          "color": "blue",
          "width": 0.2
         },
         "mode": "lines",
         "type": "scatter",
         "x": [
          0,
          0.5
         ],
         "y": [
          2.5,
          3.6190476190476186
         ]
        },
        {
         "line": {
          "color": "blue",
          "width": 0.2
         },
         "mode": "lines",
         "type": "scatter",
         "x": [
          0,
          0.5
         ],
         "y": [
          2.5,
          3.6825396825396823
         ]
        },
        {
         "line": {
          "color": "blue",
          "width": 0.2
         },
         "mode": "lines",
         "type": "scatter",
         "x": [
          0,
          0.5
         ],
         "y": [
          2.5,
          3.746031746031746
         ]
        },
        {
         "line": {
          "color": "blue",
          "width": 0.2
         },
         "mode": "lines",
         "type": "scatter",
         "x": [
          0,
          0.5
         ],
         "y": [
          2.5,
          3.8095238095238093
         ]
        },
        {
         "line": {
          "color": "blue",
          "width": 0.2
         },
         "mode": "lines",
         "type": "scatter",
         "x": [
          0,
          0.5
         ],
         "y": [
          2.5,
          3.8730158730158726
         ]
        },
        {
         "line": {
          "color": "blue",
          "width": 0.2
         },
         "mode": "lines",
         "type": "scatter",
         "x": [
          0,
          0.5
         ],
         "y": [
          2.5,
          3.9365079365079363
         ]
        },
        {
         "line": {
          "color": "blue",
          "width": 0.2
         },
         "mode": "lines",
         "type": "scatter",
         "x": [
          0,
          0.5
         ],
         "y": [
          2.5,
          4
         ]
        },
        {
         "line": {
          "color": "blue",
          "width": 0.2
         },
         "mode": "lines",
         "type": "scatter",
         "x": [
          0,
          0.5
         ],
         "y": [
          3,
          0
         ]
        },
        {
         "line": {
          "color": "blue",
          "width": 0.2
         },
         "mode": "lines",
         "type": "scatter",
         "x": [
          0,
          0.5
         ],
         "y": [
          3,
          0.06349206349206349
         ]
        },
        {
         "line": {
          "color": "blue",
          "width": 0.2
         },
         "mode": "lines",
         "type": "scatter",
         "x": [
          0,
          0.5
         ],
         "y": [
          3,
          0.12698412698412698
         ]
        },
        {
         "line": {
          "color": "blue",
          "width": 0.2
         },
         "mode": "lines",
         "type": "scatter",
         "x": [
          0,
          0.5
         ],
         "y": [
          3,
          0.19047619047619047
         ]
        },
        {
         "line": {
          "color": "blue",
          "width": 0.2
         },
         "mode": "lines",
         "type": "scatter",
         "x": [
          0,
          0.5
         ],
         "y": [
          3,
          0.25396825396825395
         ]
        },
        {
         "line": {
          "color": "blue",
          "width": 0.2
         },
         "mode": "lines",
         "type": "scatter",
         "x": [
          0,
          0.5
         ],
         "y": [
          3,
          0.31746031746031744
         ]
        },
        {
         "line": {
          "color": "blue",
          "width": 0.2
         },
         "mode": "lines",
         "type": "scatter",
         "x": [
          0,
          0.5
         ],
         "y": [
          3,
          0.38095238095238093
         ]
        },
        {
         "line": {
          "color": "blue",
          "width": 0.2
         },
         "mode": "lines",
         "type": "scatter",
         "x": [
          0,
          0.5
         ],
         "y": [
          3,
          0.4444444444444444
         ]
        },
        {
         "line": {
          "color": "blue",
          "width": 0.2
         },
         "mode": "lines",
         "type": "scatter",
         "x": [
          0,
          0.5
         ],
         "y": [
          3,
          0.5079365079365079
         ]
        },
        {
         "line": {
          "color": "blue",
          "width": 0.2
         },
         "mode": "lines",
         "type": "scatter",
         "x": [
          0,
          0.5
         ],
         "y": [
          3,
          0.5714285714285714
         ]
        },
        {
         "line": {
          "color": "blue",
          "width": 0.2
         },
         "mode": "lines",
         "type": "scatter",
         "x": [
          0,
          0.5
         ],
         "y": [
          3,
          0.6349206349206349
         ]
        },
        {
         "line": {
          "color": "blue",
          "width": 0.2
         },
         "mode": "lines",
         "type": "scatter",
         "x": [
          0,
          0.5
         ],
         "y": [
          3,
          0.6984126984126984
         ]
        },
        {
         "line": {
          "color": "blue",
          "width": 0.2
         },
         "mode": "lines",
         "type": "scatter",
         "x": [
          0,
          0.5
         ],
         "y": [
          3,
          0.7619047619047619
         ]
        },
        {
         "line": {
          "color": "blue",
          "width": 0.2
         },
         "mode": "lines",
         "type": "scatter",
         "x": [
          0,
          0.5
         ],
         "y": [
          3,
          0.8253968253968254
         ]
        },
        {
         "line": {
          "color": "blue",
          "width": 0.2
         },
         "mode": "lines",
         "type": "scatter",
         "x": [
          0,
          0.5
         ],
         "y": [
          3,
          0.8888888888888888
         ]
        },
        {
         "line": {
          "color": "blue",
          "width": 0.2
         },
         "mode": "lines",
         "type": "scatter",
         "x": [
          0,
          0.5
         ],
         "y": [
          3,
          0.9523809523809523
         ]
        },
        {
         "line": {
          "color": "blue",
          "width": 0.2
         },
         "mode": "lines",
         "type": "scatter",
         "x": [
          0,
          0.5
         ],
         "y": [
          3,
          1.0158730158730158
         ]
        },
        {
         "line": {
          "color": "blue",
          "width": 0.2
         },
         "mode": "lines",
         "type": "scatter",
         "x": [
          0,
          0.5
         ],
         "y": [
          3,
          1.0793650793650793
         ]
        },
        {
         "line": {
          "color": "blue",
          "width": 0.2
         },
         "mode": "lines",
         "type": "scatter",
         "x": [
          0,
          0.5
         ],
         "y": [
          3,
          1.1428571428571428
         ]
        },
        {
         "line": {
          "color": "blue",
          "width": 0.2
         },
         "mode": "lines",
         "type": "scatter",
         "x": [
          0,
          0.5
         ],
         "y": [
          3,
          1.2063492063492063
         ]
        },
        {
         "line": {
          "color": "blue",
          "width": 0.2
         },
         "mode": "lines",
         "type": "scatter",
         "x": [
          0,
          0.5
         ],
         "y": [
          3,
          1.2698412698412698
         ]
        },
        {
         "line": {
          "color": "blue",
          "width": 0.2
         },
         "mode": "lines",
         "type": "scatter",
         "x": [
          0,
          0.5
         ],
         "y": [
          3,
          1.3333333333333333
         ]
        },
        {
         "line": {
          "color": "blue",
          "width": 0.2
         },
         "mode": "lines",
         "type": "scatter",
         "x": [
          0,
          0.5
         ],
         "y": [
          3,
          1.3968253968253967
         ]
        },
        {
         "line": {
          "color": "blue",
          "width": 0.2
         },
         "mode": "lines",
         "type": "scatter",
         "x": [
          0,
          0.5
         ],
         "y": [
          3,
          1.4603174603174602
         ]
        },
        {
         "line": {
          "color": "blue",
          "width": 0.2
         },
         "mode": "lines",
         "type": "scatter",
         "x": [
          0,
          0.5
         ],
         "y": [
          3,
          1.5238095238095237
         ]
        },
        {
         "line": {
          "color": "blue",
          "width": 0.2
         },
         "mode": "lines",
         "type": "scatter",
         "x": [
          0,
          0.5
         ],
         "y": [
          3,
          1.5873015873015872
         ]
        },
        {
         "line": {
          "color": "blue",
          "width": 0.2
         },
         "mode": "lines",
         "type": "scatter",
         "x": [
          0,
          0.5
         ],
         "y": [
          3,
          1.6507936507936507
         ]
        },
        {
         "line": {
          "color": "blue",
          "width": 0.2
         },
         "mode": "lines",
         "type": "scatter",
         "x": [
          0,
          0.5
         ],
         "y": [
          3,
          1.7142857142857142
         ]
        },
        {
         "line": {
          "color": "blue",
          "width": 0.2
         },
         "mode": "lines",
         "type": "scatter",
         "x": [
          0,
          0.5
         ],
         "y": [
          3,
          1.7777777777777777
         ]
        },
        {
         "line": {
          "color": "blue",
          "width": 0.2
         },
         "mode": "lines",
         "type": "scatter",
         "x": [
          0,
          0.5
         ],
         "y": [
          3,
          1.8412698412698412
         ]
        },
        {
         "line": {
          "color": "blue",
          "width": 0.2
         },
         "mode": "lines",
         "type": "scatter",
         "x": [
          0,
          0.5
         ],
         "y": [
          3,
          1.9047619047619047
         ]
        },
        {
         "line": {
          "color": "blue",
          "width": 0.2
         },
         "mode": "lines",
         "type": "scatter",
         "x": [
          0,
          0.5
         ],
         "y": [
          3,
          1.9682539682539681
         ]
        },
        {
         "line": {
          "color": "blue",
          "width": 0.2
         },
         "mode": "lines",
         "type": "scatter",
         "x": [
          0,
          0.5
         ],
         "y": [
          3,
          2.0317460317460316
         ]
        },
        {
         "line": {
          "color": "blue",
          "width": 0.2
         },
         "mode": "lines",
         "type": "scatter",
         "x": [
          0,
          0.5
         ],
         "y": [
          3,
          2.095238095238095
         ]
        },
        {
         "line": {
          "color": "blue",
          "width": 0.2
         },
         "mode": "lines",
         "type": "scatter",
         "x": [
          0,
          0.5
         ],
         "y": [
          3,
          2.1587301587301586
         ]
        },
        {
         "line": {
          "color": "blue",
          "width": 0.2
         },
         "mode": "lines",
         "type": "scatter",
         "x": [
          0,
          0.5
         ],
         "y": [
          3,
          2.2222222222222223
         ]
        },
        {
         "line": {
          "color": "blue",
          "width": 0.2
         },
         "mode": "lines",
         "type": "scatter",
         "x": [
          0,
          0.5
         ],
         "y": [
          3,
          2.2857142857142856
         ]
        },
        {
         "line": {
          "color": "blue",
          "width": 0.2
         },
         "mode": "lines",
         "type": "scatter",
         "x": [
          0,
          0.5
         ],
         "y": [
          3,
          2.349206349206349
         ]
        },
        {
         "line": {
          "color": "blue",
          "width": 0.2
         },
         "mode": "lines",
         "type": "scatter",
         "x": [
          0,
          0.5
         ],
         "y": [
          3,
          2.4126984126984126
         ]
        },
        {
         "line": {
          "color": "blue",
          "width": 0.2
         },
         "mode": "lines",
         "type": "scatter",
         "x": [
          0,
          0.5
         ],
         "y": [
          3,
          2.4761904761904763
         ]
        },
        {
         "line": {
          "color": "blue",
          "width": 0.2
         },
         "mode": "lines",
         "type": "scatter",
         "x": [
          0,
          0.5
         ],
         "y": [
          3,
          2.5396825396825395
         ]
        },
        {
         "line": {
          "color": "blue",
          "width": 0.2
         },
         "mode": "lines",
         "type": "scatter",
         "x": [
          0,
          0.5
         ],
         "y": [
          3,
          2.603174603174603
         ]
        },
        {
         "line": {
          "color": "blue",
          "width": 0.2
         },
         "mode": "lines",
         "type": "scatter",
         "x": [
          0,
          0.5
         ],
         "y": [
          3,
          2.6666666666666665
         ]
        },
        {
         "line": {
          "color": "blue",
          "width": 0.2
         },
         "mode": "lines",
         "type": "scatter",
         "x": [
          0,
          0.5
         ],
         "y": [
          3,
          2.7301587301587302
         ]
        },
        {
         "line": {
          "color": "blue",
          "width": 0.2
         },
         "mode": "lines",
         "type": "scatter",
         "x": [
          0,
          0.5
         ],
         "y": [
          3,
          2.7936507936507935
         ]
        },
        {
         "line": {
          "color": "blue",
          "width": 0.2
         },
         "mode": "lines",
         "type": "scatter",
         "x": [
          0,
          0.5
         ],
         "y": [
          3,
          2.8571428571428568
         ]
        },
        {
         "line": {
          "color": "blue",
          "width": 0.2
         },
         "mode": "lines",
         "type": "scatter",
         "x": [
          0,
          0.5
         ],
         "y": [
          3,
          2.9206349206349205
         ]
        },
        {
         "line": {
          "color": "blue",
          "width": 0.2
         },
         "mode": "lines",
         "type": "scatter",
         "x": [
          0,
          0.5
         ],
         "y": [
          3,
          2.984126984126984
         ]
        },
        {
         "line": {
          "color": "blue",
          "width": 0.2
         },
         "mode": "lines",
         "type": "scatter",
         "x": [
          0,
          0.5
         ],
         "y": [
          3,
          3.0476190476190474
         ]
        },
        {
         "line": {
          "color": "blue",
          "width": 0.2
         },
         "mode": "lines",
         "type": "scatter",
         "x": [
          0,
          0.5
         ],
         "y": [
          3,
          3.1111111111111107
         ]
        },
        {
         "line": {
          "color": "blue",
          "width": 0.2
         },
         "mode": "lines",
         "type": "scatter",
         "x": [
          0,
          0.5
         ],
         "y": [
          3,
          3.1746031746031744
         ]
        },
        {
         "line": {
          "color": "blue",
          "width": 0.2
         },
         "mode": "lines",
         "type": "scatter",
         "x": [
          0,
          0.5
         ],
         "y": [
          3,
          3.238095238095238
         ]
        },
        {
         "line": {
          "color": "blue",
          "width": 0.2
         },
         "mode": "lines",
         "type": "scatter",
         "x": [
          0,
          0.5
         ],
         "y": [
          3,
          3.3015873015873014
         ]
        },
        {
         "line": {
          "color": "blue",
          "width": 0.2
         },
         "mode": "lines",
         "type": "scatter",
         "x": [
          0,
          0.5
         ],
         "y": [
          3,
          3.3650793650793647
         ]
        },
        {
         "line": {
          "color": "blue",
          "width": 0.2
         },
         "mode": "lines",
         "type": "scatter",
         "x": [
          0,
          0.5
         ],
         "y": [
          3,
          3.4285714285714284
         ]
        },
        {
         "line": {
          "color": "blue",
          "width": 0.2
         },
         "mode": "lines",
         "type": "scatter",
         "x": [
          0,
          0.5
         ],
         "y": [
          3,
          3.492063492063492
         ]
        },
        {
         "line": {
          "color": "blue",
          "width": 0.2
         },
         "mode": "lines",
         "type": "scatter",
         "x": [
          0,
          0.5
         ],
         "y": [
          3,
          3.5555555555555554
         ]
        },
        {
         "line": {
          "color": "blue",
          "width": 0.2
         },
         "mode": "lines",
         "type": "scatter",
         "x": [
          0,
          0.5
         ],
         "y": [
          3,
          3.6190476190476186
         ]
        },
        {
         "line": {
          "color": "blue",
          "width": 0.2
         },
         "mode": "lines",
         "type": "scatter",
         "x": [
          0,
          0.5
         ],
         "y": [
          3,
          3.6825396825396823
         ]
        },
        {
         "line": {
          "color": "blue",
          "width": 0.2
         },
         "mode": "lines",
         "type": "scatter",
         "x": [
          0,
          0.5
         ],
         "y": [
          3,
          3.746031746031746
         ]
        },
        {
         "line": {
          "color": "blue",
          "width": 0.2
         },
         "mode": "lines",
         "type": "scatter",
         "x": [
          0,
          0.5
         ],
         "y": [
          3,
          3.8095238095238093
         ]
        },
        {
         "line": {
          "color": "blue",
          "width": 0.2
         },
         "mode": "lines",
         "type": "scatter",
         "x": [
          0,
          0.5
         ],
         "y": [
          3,
          3.8730158730158726
         ]
        },
        {
         "line": {
          "color": "blue",
          "width": 0.2
         },
         "mode": "lines",
         "type": "scatter",
         "x": [
          0,
          0.5
         ],
         "y": [
          3,
          3.9365079365079363
         ]
        },
        {
         "line": {
          "color": "blue",
          "width": 0.2
         },
         "mode": "lines",
         "type": "scatter",
         "x": [
          0,
          0.5
         ],
         "y": [
          3,
          4
         ]
        },
        {
         "line": {
          "color": "blue",
          "width": 0.2
         },
         "mode": "lines",
         "type": "scatter",
         "x": [
          0.5,
          1
         ],
         "y": [
          0,
          2
         ]
        },
        {
         "line": {
          "color": "blue",
          "width": 0.2
         },
         "mode": "lines",
         "type": "scatter",
         "x": [
          0.5,
          1
         ],
         "y": [
          0.06349206349206349,
          2
         ]
        },
        {
         "line": {
          "color": "blue",
          "width": 0.2
         },
         "mode": "lines",
         "type": "scatter",
         "x": [
          0.5,
          1
         ],
         "y": [
          0.12698412698412698,
          2
         ]
        },
        {
         "line": {
          "color": "blue",
          "width": 0.2
         },
         "mode": "lines",
         "type": "scatter",
         "x": [
          0.5,
          1
         ],
         "y": [
          0.19047619047619047,
          2
         ]
        },
        {
         "line": {
          "color": "blue",
          "width": 0.2
         },
         "mode": "lines",
         "type": "scatter",
         "x": [
          0.5,
          1
         ],
         "y": [
          0.25396825396825395,
          2
         ]
        },
        {
         "line": {
          "color": "blue",
          "width": 0.2
         },
         "mode": "lines",
         "type": "scatter",
         "x": [
          0.5,
          1
         ],
         "y": [
          0.31746031746031744,
          2
         ]
        },
        {
         "line": {
          "color": "blue",
          "width": 0.2
         },
         "mode": "lines",
         "type": "scatter",
         "x": [
          0.5,
          1
         ],
         "y": [
          0.38095238095238093,
          2
         ]
        },
        {
         "line": {
          "color": "blue",
          "width": 0.2
         },
         "mode": "lines",
         "type": "scatter",
         "x": [
          0.5,
          1
         ],
         "y": [
          0.4444444444444444,
          2
         ]
        },
        {
         "line": {
          "color": "blue",
          "width": 0.2
         },
         "mode": "lines",
         "type": "scatter",
         "x": [
          0.5,
          1
         ],
         "y": [
          0.5079365079365079,
          2
         ]
        },
        {
         "line": {
          "color": "blue",
          "width": 0.2
         },
         "mode": "lines",
         "type": "scatter",
         "x": [
          0.5,
          1
         ],
         "y": [
          0.5714285714285714,
          2
         ]
        },
        {
         "line": {
          "color": "blue",
          "width": 0.2
         },
         "mode": "lines",
         "type": "scatter",
         "x": [
          0.5,
          1
         ],
         "y": [
          0.6349206349206349,
          2
         ]
        },
        {
         "line": {
          "color": "blue",
          "width": 0.2
         },
         "mode": "lines",
         "type": "scatter",
         "x": [
          0.5,
          1
         ],
         "y": [
          0.6984126984126984,
          2
         ]
        },
        {
         "line": {
          "color": "blue",
          "width": 0.2
         },
         "mode": "lines",
         "type": "scatter",
         "x": [
          0.5,
          1
         ],
         "y": [
          0.7619047619047619,
          2
         ]
        },
        {
         "line": {
          "color": "blue",
          "width": 0.2
         },
         "mode": "lines",
         "type": "scatter",
         "x": [
          0.5,
          1
         ],
         "y": [
          0.8253968253968254,
          2
         ]
        },
        {
         "line": {
          "color": "blue",
          "width": 0.2
         },
         "mode": "lines",
         "type": "scatter",
         "x": [
          0.5,
          1
         ],
         "y": [
          0.8888888888888888,
          2
         ]
        },
        {
         "line": {
          "color": "blue",
          "width": 0.2
         },
         "mode": "lines",
         "type": "scatter",
         "x": [
          0.5,
          1
         ],
         "y": [
          0.9523809523809523,
          2
         ]
        },
        {
         "line": {
          "color": "blue",
          "width": 0.2
         },
         "mode": "lines",
         "type": "scatter",
         "x": [
          0.5,
          1
         ],
         "y": [
          1.0158730158730158,
          2
         ]
        },
        {
         "line": {
          "color": "blue",
          "width": 0.2
         },
         "mode": "lines",
         "type": "scatter",
         "x": [
          0.5,
          1
         ],
         "y": [
          1.0793650793650793,
          2
         ]
        },
        {
         "line": {
          "color": "blue",
          "width": 0.2
         },
         "mode": "lines",
         "type": "scatter",
         "x": [
          0.5,
          1
         ],
         "y": [
          1.1428571428571428,
          2
         ]
        },
        {
         "line": {
          "color": "blue",
          "width": 0.2
         },
         "mode": "lines",
         "type": "scatter",
         "x": [
          0.5,
          1
         ],
         "y": [
          1.2063492063492063,
          2
         ]
        },
        {
         "line": {
          "color": "blue",
          "width": 0.2
         },
         "mode": "lines",
         "type": "scatter",
         "x": [
          0.5,
          1
         ],
         "y": [
          1.2698412698412698,
          2
         ]
        },
        {
         "line": {
          "color": "blue",
          "width": 0.2
         },
         "mode": "lines",
         "type": "scatter",
         "x": [
          0.5,
          1
         ],
         "y": [
          1.3333333333333333,
          2
         ]
        },
        {
         "line": {
          "color": "blue",
          "width": 0.2
         },
         "mode": "lines",
         "type": "scatter",
         "x": [
          0.5,
          1
         ],
         "y": [
          1.3968253968253967,
          2
         ]
        },
        {
         "line": {
          "color": "blue",
          "width": 0.2
         },
         "mode": "lines",
         "type": "scatter",
         "x": [
          0.5,
          1
         ],
         "y": [
          1.4603174603174602,
          2
         ]
        },
        {
         "line": {
          "color": "blue",
          "width": 0.2
         },
         "mode": "lines",
         "type": "scatter",
         "x": [
          0.5,
          1
         ],
         "y": [
          1.5238095238095237,
          2
         ]
        },
        {
         "line": {
          "color": "blue",
          "width": 0.2
         },
         "mode": "lines",
         "type": "scatter",
         "x": [
          0.5,
          1
         ],
         "y": [
          1.5873015873015872,
          2
         ]
        },
        {
         "line": {
          "color": "blue",
          "width": 0.2
         },
         "mode": "lines",
         "type": "scatter",
         "x": [
          0.5,
          1
         ],
         "y": [
          1.6507936507936507,
          2
         ]
        },
        {
         "line": {
          "color": "blue",
          "width": 0.2
         },
         "mode": "lines",
         "type": "scatter",
         "x": [
          0.5,
          1
         ],
         "y": [
          1.7142857142857142,
          2
         ]
        },
        {
         "line": {
          "color": "blue",
          "width": 0.2
         },
         "mode": "lines",
         "type": "scatter",
         "x": [
          0.5,
          1
         ],
         "y": [
          1.7777777777777777,
          2
         ]
        },
        {
         "line": {
          "color": "blue",
          "width": 0.2
         },
         "mode": "lines",
         "type": "scatter",
         "x": [
          0.5,
          1
         ],
         "y": [
          1.8412698412698412,
          2
         ]
        },
        {
         "line": {
          "color": "blue",
          "width": 0.2
         },
         "mode": "lines",
         "type": "scatter",
         "x": [
          0.5,
          1
         ],
         "y": [
          1.9047619047619047,
          2
         ]
        },
        {
         "line": {
          "color": "blue",
          "width": 0.2
         },
         "mode": "lines",
         "type": "scatter",
         "x": [
          0.5,
          1
         ],
         "y": [
          1.9682539682539681,
          2
         ]
        },
        {
         "line": {
          "color": "blue",
          "width": 0.2
         },
         "mode": "lines",
         "type": "scatter",
         "x": [
          0.5,
          1
         ],
         "y": [
          2.0317460317460316,
          2
         ]
        },
        {
         "line": {
          "color": "blue",
          "width": 0.2
         },
         "mode": "lines",
         "type": "scatter",
         "x": [
          0.5,
          1
         ],
         "y": [
          2.095238095238095,
          2
         ]
        },
        {
         "line": {
          "color": "blue",
          "width": 0.2
         },
         "mode": "lines",
         "type": "scatter",
         "x": [
          0.5,
          1
         ],
         "y": [
          2.1587301587301586,
          2
         ]
        },
        {
         "line": {
          "color": "blue",
          "width": 0.2
         },
         "mode": "lines",
         "type": "scatter",
         "x": [
          0.5,
          1
         ],
         "y": [
          2.2222222222222223,
          2
         ]
        },
        {
         "line": {
          "color": "blue",
          "width": 0.2
         },
         "mode": "lines",
         "type": "scatter",
         "x": [
          0.5,
          1
         ],
         "y": [
          2.2857142857142856,
          2
         ]
        },
        {
         "line": {
          "color": "blue",
          "width": 0.2
         },
         "mode": "lines",
         "type": "scatter",
         "x": [
          0.5,
          1
         ],
         "y": [
          2.349206349206349,
          2
         ]
        },
        {
         "line": {
          "color": "blue",
          "width": 0.2
         },
         "mode": "lines",
         "type": "scatter",
         "x": [
          0.5,
          1
         ],
         "y": [
          2.4126984126984126,
          2
         ]
        },
        {
         "line": {
          "color": "blue",
          "width": 0.2
         },
         "mode": "lines",
         "type": "scatter",
         "x": [
          0.5,
          1
         ],
         "y": [
          2.4761904761904763,
          2
         ]
        },
        {
         "line": {
          "color": "blue",
          "width": 0.2
         },
         "mode": "lines",
         "type": "scatter",
         "x": [
          0.5,
          1
         ],
         "y": [
          2.5396825396825395,
          2
         ]
        },
        {
         "line": {
          "color": "blue",
          "width": 0.2
         },
         "mode": "lines",
         "type": "scatter",
         "x": [
          0.5,
          1
         ],
         "y": [
          2.603174603174603,
          2
         ]
        },
        {
         "line": {
          "color": "blue",
          "width": 0.2
         },
         "mode": "lines",
         "type": "scatter",
         "x": [
          0.5,
          1
         ],
         "y": [
          2.6666666666666665,
          2
         ]
        },
        {
         "line": {
          "color": "blue",
          "width": 0.2
         },
         "mode": "lines",
         "type": "scatter",
         "x": [
          0.5,
          1
         ],
         "y": [
          2.7301587301587302,
          2
         ]
        },
        {
         "line": {
          "color": "blue",
          "width": 0.2
         },
         "mode": "lines",
         "type": "scatter",
         "x": [
          0.5,
          1
         ],
         "y": [
          2.7936507936507935,
          2
         ]
        },
        {
         "line": {
          "color": "blue",
          "width": 0.2
         },
         "mode": "lines",
         "type": "scatter",
         "x": [
          0.5,
          1
         ],
         "y": [
          2.8571428571428568,
          2
         ]
        },
        {
         "line": {
          "color": "blue",
          "width": 0.2
         },
         "mode": "lines",
         "type": "scatter",
         "x": [
          0.5,
          1
         ],
         "y": [
          2.9206349206349205,
          2
         ]
        },
        {
         "line": {
          "color": "blue",
          "width": 0.2
         },
         "mode": "lines",
         "type": "scatter",
         "x": [
          0.5,
          1
         ],
         "y": [
          2.984126984126984,
          2
         ]
        },
        {
         "line": {
          "color": "blue",
          "width": 0.2
         },
         "mode": "lines",
         "type": "scatter",
         "x": [
          0.5,
          1
         ],
         "y": [
          3.0476190476190474,
          2
         ]
        },
        {
         "line": {
          "color": "blue",
          "width": 0.2
         },
         "mode": "lines",
         "type": "scatter",
         "x": [
          0.5,
          1
         ],
         "y": [
          3.1111111111111107,
          2
         ]
        },
        {
         "line": {
          "color": "blue",
          "width": 0.2
         },
         "mode": "lines",
         "type": "scatter",
         "x": [
          0.5,
          1
         ],
         "y": [
          3.1746031746031744,
          2
         ]
        },
        {
         "line": {
          "color": "blue",
          "width": 0.2
         },
         "mode": "lines",
         "type": "scatter",
         "x": [
          0.5,
          1
         ],
         "y": [
          3.238095238095238,
          2
         ]
        },
        {
         "line": {
          "color": "blue",
          "width": 0.2
         },
         "mode": "lines",
         "type": "scatter",
         "x": [
          0.5,
          1
         ],
         "y": [
          3.3015873015873014,
          2
         ]
        },
        {
         "line": {
          "color": "blue",
          "width": 0.2
         },
         "mode": "lines",
         "type": "scatter",
         "x": [
          0.5,
          1
         ],
         "y": [
          3.3650793650793647,
          2
         ]
        },
        {
         "line": {
          "color": "blue",
          "width": 0.2
         },
         "mode": "lines",
         "type": "scatter",
         "x": [
          0.5,
          1
         ],
         "y": [
          3.4285714285714284,
          2
         ]
        },
        {
         "line": {
          "color": "blue",
          "width": 0.2
         },
         "mode": "lines",
         "type": "scatter",
         "x": [
          0.5,
          1
         ],
         "y": [
          3.492063492063492,
          2
         ]
        },
        {
         "line": {
          "color": "blue",
          "width": 0.2
         },
         "mode": "lines",
         "type": "scatter",
         "x": [
          0.5,
          1
         ],
         "y": [
          3.5555555555555554,
          2
         ]
        },
        {
         "line": {
          "color": "blue",
          "width": 0.2
         },
         "mode": "lines",
         "type": "scatter",
         "x": [
          0.5,
          1
         ],
         "y": [
          3.6190476190476186,
          2
         ]
        },
        {
         "line": {
          "color": "blue",
          "width": 0.2
         },
         "mode": "lines",
         "type": "scatter",
         "x": [
          0.5,
          1
         ],
         "y": [
          3.6825396825396823,
          2
         ]
        },
        {
         "line": {
          "color": "blue",
          "width": 0.2
         },
         "mode": "lines",
         "type": "scatter",
         "x": [
          0.5,
          1
         ],
         "y": [
          3.746031746031746,
          2
         ]
        },
        {
         "line": {
          "color": "blue",
          "width": 0.2
         },
         "mode": "lines",
         "type": "scatter",
         "x": [
          0.5,
          1
         ],
         "y": [
          3.8095238095238093,
          2
         ]
        },
        {
         "line": {
          "color": "blue",
          "width": 0.2
         },
         "mode": "lines",
         "type": "scatter",
         "x": [
          0.5,
          1
         ],
         "y": [
          3.8730158730158726,
          2
         ]
        },
        {
         "line": {
          "color": "blue",
          "width": 0.2
         },
         "mode": "lines",
         "type": "scatter",
         "x": [
          0.5,
          1
         ],
         "y": [
          3.9365079365079363,
          2
         ]
        },
        {
         "line": {
          "color": "blue",
          "width": 0.2
         },
         "mode": "lines",
         "type": "scatter",
         "x": [
          0.5,
          1
         ],
         "y": [
          4,
          2
         ]
        }
       ],
       "layout": {
        "font": {
         "family": "Times New Roman",
         "size": 18
        },
        "height": 900,
        "paper_bgcolor": "rgba(0,0,0,0)",
        "plot_bgcolor": "rgba(0,0,0,0)",
        "showlegend": false,
        "template": {
         "data": {
          "bar": [
           {
            "error_x": {
             "color": "#2a3f5f"
            },
            "error_y": {
             "color": "#2a3f5f"
            },
            "marker": {
             "line": {
              "color": "#E5ECF6",
              "width": 0.5
             },
             "pattern": {
              "fillmode": "overlay",
              "size": 10,
              "solidity": 0.2
             }
            },
            "type": "bar"
           }
          ],
          "barpolar": [
           {
            "marker": {
             "line": {
              "color": "#E5ECF6",
              "width": 0.5
             },
             "pattern": {
              "fillmode": "overlay",
              "size": 10,
              "solidity": 0.2
             }
            },
            "type": "barpolar"
           }
          ],
          "carpet": [
           {
            "aaxis": {
             "endlinecolor": "#2a3f5f",
             "gridcolor": "white",
             "linecolor": "white",
             "minorgridcolor": "white",
             "startlinecolor": "#2a3f5f"
            },
            "baxis": {
             "endlinecolor": "#2a3f5f",
             "gridcolor": "white",
             "linecolor": "white",
             "minorgridcolor": "white",
             "startlinecolor": "#2a3f5f"
            },
            "type": "carpet"
           }
          ],
          "choropleth": [
           {
            "colorbar": {
             "outlinewidth": 0,
             "ticks": ""
            },
            "type": "choropleth"
           }
          ],
          "contour": [
           {
            "colorbar": {
             "outlinewidth": 0,
             "ticks": ""
            },
            "colorscale": [
             [
              0,
              "#0d0887"
             ],
             [
              0.1111111111111111,
              "#46039f"
             ],
             [
              0.2222222222222222,
              "#7201a8"
             ],
             [
              0.3333333333333333,
              "#9c179e"
             ],
             [
              0.4444444444444444,
              "#bd3786"
             ],
             [
              0.5555555555555556,
              "#d8576b"
             ],
             [
              0.6666666666666666,
              "#ed7953"
             ],
             [
              0.7777777777777778,
              "#fb9f3a"
             ],
             [
              0.8888888888888888,
              "#fdca26"
             ],
             [
              1,
              "#f0f921"
             ]
            ],
            "type": "contour"
           }
          ],
          "contourcarpet": [
           {
            "colorbar": {
             "outlinewidth": 0,
             "ticks": ""
            },
            "type": "contourcarpet"
           }
          ],
          "heatmap": [
           {
            "colorbar": {
             "outlinewidth": 0,
             "ticks": ""
            },
            "colorscale": [
             [
              0,
              "#0d0887"
             ],
             [
              0.1111111111111111,
              "#46039f"
             ],
             [
              0.2222222222222222,
              "#7201a8"
             ],
             [
              0.3333333333333333,
              "#9c179e"
             ],
             [
              0.4444444444444444,
              "#bd3786"
             ],
             [
              0.5555555555555556,
              "#d8576b"
             ],
             [
              0.6666666666666666,
              "#ed7953"
             ],
             [
              0.7777777777777778,
              "#fb9f3a"
             ],
             [
              0.8888888888888888,
              "#fdca26"
             ],
             [
              1,
              "#f0f921"
             ]
            ],
            "type": "heatmap"
           }
          ],
          "heatmapgl": [
           {
            "colorbar": {
             "outlinewidth": 0,
             "ticks": ""
            },
            "colorscale": [
             [
              0,
              "#0d0887"
             ],
             [
              0.1111111111111111,
              "#46039f"
             ],
             [
              0.2222222222222222,
              "#7201a8"
             ],
             [
              0.3333333333333333,
              "#9c179e"
             ],
             [
              0.4444444444444444,
              "#bd3786"
             ],
             [
              0.5555555555555556,
              "#d8576b"
             ],
             [
              0.6666666666666666,
              "#ed7953"
             ],
             [
              0.7777777777777778,
              "#fb9f3a"
             ],
             [
              0.8888888888888888,
              "#fdca26"
             ],
             [
              1,
              "#f0f921"
             ]
            ],
            "type": "heatmapgl"
           }
          ],
          "histogram": [
           {
            "marker": {
             "pattern": {
              "fillmode": "overlay",
              "size": 10,
              "solidity": 0.2
             }
            },
            "type": "histogram"
           }
          ],
          "histogram2d": [
           {
            "colorbar": {
             "outlinewidth": 0,
             "ticks": ""
            },
            "colorscale": [
             [
              0,
              "#0d0887"
             ],
             [
              0.1111111111111111,
              "#46039f"
             ],
             [
              0.2222222222222222,
              "#7201a8"
             ],
             [
              0.3333333333333333,
              "#9c179e"
             ],
             [
              0.4444444444444444,
              "#bd3786"
             ],
             [
              0.5555555555555556,
              "#d8576b"
             ],
             [
              0.6666666666666666,
              "#ed7953"
             ],
             [
              0.7777777777777778,
              "#fb9f3a"
             ],
             [
              0.8888888888888888,
              "#fdca26"
             ],
             [
              1,
              "#f0f921"
             ]
            ],
            "type": "histogram2d"
           }
          ],
          "histogram2dcontour": [
           {
            "colorbar": {
             "outlinewidth": 0,
             "ticks": ""
            },
            "colorscale": [
             [
              0,
              "#0d0887"
             ],
             [
              0.1111111111111111,
              "#46039f"
             ],
             [
              0.2222222222222222,
              "#7201a8"
             ],
             [
              0.3333333333333333,
              "#9c179e"
             ],
             [
              0.4444444444444444,
              "#bd3786"
             ],
             [
              0.5555555555555556,
              "#d8576b"
             ],
             [
              0.6666666666666666,
              "#ed7953"
             ],
             [
              0.7777777777777778,
              "#fb9f3a"
             ],
             [
              0.8888888888888888,
              "#fdca26"
             ],
             [
              1,
              "#f0f921"
             ]
            ],
            "type": "histogram2dcontour"
           }
          ],
          "mesh3d": [
           {
            "colorbar": {
             "outlinewidth": 0,
             "ticks": ""
            },
            "type": "mesh3d"
           }
          ],
          "parcoords": [
           {
            "line": {
             "colorbar": {
              "outlinewidth": 0,
              "ticks": ""
             }
            },
            "type": "parcoords"
           }
          ],
          "pie": [
           {
            "automargin": true,
            "type": "pie"
           }
          ],
          "scatter": [
           {
            "fillpattern": {
             "fillmode": "overlay",
             "size": 10,
             "solidity": 0.2
            },
            "type": "scatter"
           }
          ],
          "scatter3d": [
           {
            "line": {
             "colorbar": {
              "outlinewidth": 0,
              "ticks": ""
             }
            },
            "marker": {
             "colorbar": {
              "outlinewidth": 0,
              "ticks": ""
             }
            },
            "type": "scatter3d"
           }
          ],
          "scattercarpet": [
           {
            "marker": {
             "colorbar": {
              "outlinewidth": 0,
              "ticks": ""
             }
            },
            "type": "scattercarpet"
           }
          ],
          "scattergeo": [
           {
            "marker": {
             "colorbar": {
              "outlinewidth": 0,
              "ticks": ""
             }
            },
            "type": "scattergeo"
           }
          ],
          "scattergl": [
           {
            "marker": {
             "colorbar": {
              "outlinewidth": 0,
              "ticks": ""
             }
            },
            "type": "scattergl"
           }
          ],
          "scattermapbox": [
           {
            "marker": {
             "colorbar": {
              "outlinewidth": 0,
              "ticks": ""
             }
            },
            "type": "scattermapbox"
           }
          ],
          "scatterpolar": [
           {
            "marker": {
             "colorbar": {
              "outlinewidth": 0,
              "ticks": ""
             }
            },
            "type": "scatterpolar"
           }
          ],
          "scatterpolargl": [
           {
            "marker": {
             "colorbar": {
              "outlinewidth": 0,
              "ticks": ""
             }
            },
            "type": "scatterpolargl"
           }
          ],
          "scatterternary": [
           {
            "marker": {
             "colorbar": {
              "outlinewidth": 0,
              "ticks": ""
             }
            },
            "type": "scatterternary"
           }
          ],
          "surface": [
           {
            "colorbar": {
             "outlinewidth": 0,
             "ticks": ""
            },
            "colorscale": [
             [
              0,
              "#0d0887"
             ],
             [
              0.1111111111111111,
              "#46039f"
             ],
             [
              0.2222222222222222,
              "#7201a8"
             ],
             [
              0.3333333333333333,
              "#9c179e"
             ],
             [
              0.4444444444444444,
              "#bd3786"
             ],
             [
              0.5555555555555556,
              "#d8576b"
             ],
             [
              0.6666666666666666,
              "#ed7953"
             ],
             [
              0.7777777777777778,
              "#fb9f3a"
             ],
             [
              0.8888888888888888,
              "#fdca26"
             ],
             [
              1,
              "#f0f921"
             ]
            ],
            "type": "surface"
           }
          ],
          "table": [
           {
            "cells": {
             "fill": {
              "color": "#EBF0F8"
             },
             "line": {
              "color": "white"
             }
            },
            "header": {
             "fill": {
              "color": "#C8D4E3"
             },
             "line": {
              "color": "white"
             }
            },
            "type": "table"
           }
          ]
         },
         "layout": {
          "annotationdefaults": {
           "arrowcolor": "#2a3f5f",
           "arrowhead": 0,
           "arrowwidth": 1
          },
          "autotypenumbers": "strict",
          "coloraxis": {
           "colorbar": {
            "outlinewidth": 0,
            "ticks": ""
           }
          },
          "colorscale": {
           "diverging": [
            [
             0,
             "#8e0152"
            ],
            [
             0.1,
             "#c51b7d"
            ],
            [
             0.2,
             "#de77ae"
            ],
            [
             0.3,
             "#f1b6da"
            ],
            [
             0.4,
             "#fde0ef"
            ],
            [
             0.5,
             "#f7f7f7"
            ],
            [
             0.6,
             "#e6f5d0"
            ],
            [
             0.7,
             "#b8e186"
            ],
            [
             0.8,
             "#7fbc41"
            ],
            [
             0.9,
             "#4d9221"
            ],
            [
             1,
             "#276419"
            ]
           ],
           "sequential": [
            [
             0,
             "#0d0887"
            ],
            [
             0.1111111111111111,
             "#46039f"
            ],
            [
             0.2222222222222222,
             "#7201a8"
            ],
            [
             0.3333333333333333,
             "#9c179e"
            ],
            [
             0.4444444444444444,
             "#bd3786"
            ],
            [
             0.5555555555555556,
             "#d8576b"
            ],
            [
             0.6666666666666666,
             "#ed7953"
            ],
            [
             0.7777777777777778,
             "#fb9f3a"
            ],
            [
             0.8888888888888888,
             "#fdca26"
            ],
            [
             1,
             "#f0f921"
            ]
           ],
           "sequentialminus": [
            [
             0,
             "#0d0887"
            ],
            [
             0.1111111111111111,
             "#46039f"
            ],
            [
             0.2222222222222222,
             "#7201a8"
            ],
            [
             0.3333333333333333,
             "#9c179e"
            ],
            [
             0.4444444444444444,
             "#bd3786"
            ],
            [
             0.5555555555555556,
             "#d8576b"
            ],
            [
             0.6666666666666666,
             "#ed7953"
            ],
            [
             0.7777777777777778,
             "#fb9f3a"
            ],
            [
             0.8888888888888888,
             "#fdca26"
            ],
            [
             1,
             "#f0f921"
            ]
           ]
          },
          "colorway": [
           "#636efa",
           "#EF553B",
           "#00cc96",
           "#ab63fa",
           "#FFA15A",
           "#19d3f3",
           "#FF6692",
           "#B6E880",
           "#FF97FF",
           "#FECB52"
          ],
          "font": {
           "color": "#2a3f5f"
          },
          "geo": {
           "bgcolor": "white",
           "lakecolor": "white",
           "landcolor": "#E5ECF6",
           "showlakes": true,
           "showland": true,
           "subunitcolor": "white"
          },
          "hoverlabel": {
           "align": "left"
          },
          "hovermode": "closest",
          "mapbox": {
           "style": "light"
          },
          "paper_bgcolor": "white",
          "plot_bgcolor": "#E5ECF6",
          "polar": {
           "angularaxis": {
            "gridcolor": "white",
            "linecolor": "white",
            "ticks": ""
           },
           "bgcolor": "#E5ECF6",
           "radialaxis": {
            "gridcolor": "white",
            "linecolor": "white",
            "ticks": ""
           }
          },
          "scene": {
           "xaxis": {
            "backgroundcolor": "#E5ECF6",
            "gridcolor": "white",
            "gridwidth": 2,
            "linecolor": "white",
            "showbackground": true,
            "ticks": "",
            "zerolinecolor": "white"
           },
           "yaxis": {
            "backgroundcolor": "#E5ECF6",
            "gridcolor": "white",
            "gridwidth": 2,
            "linecolor": "white",
            "showbackground": true,
            "ticks": "",
            "zerolinecolor": "white"
           },
           "zaxis": {
            "backgroundcolor": "#E5ECF6",
            "gridcolor": "white",
            "gridwidth": 2,
            "linecolor": "white",
            "showbackground": true,
            "ticks": "",
            "zerolinecolor": "white"
           }
          },
          "shapedefaults": {
           "line": {
            "color": "#2a3f5f"
           }
          },
          "ternary": {
           "aaxis": {
            "gridcolor": "white",
            "linecolor": "white",
            "ticks": ""
           },
           "baxis": {
            "gridcolor": "white",
            "linecolor": "white",
            "ticks": ""
           },
           "bgcolor": "#E5ECF6",
           "caxis": {
            "gridcolor": "white",
            "linecolor": "white",
            "ticks": ""
           }
          },
          "title": {
           "x": 0.05
          },
          "xaxis": {
           "automargin": true,
           "gridcolor": "white",
           "linecolor": "white",
           "ticks": "",
           "title": {
            "standoff": 15
           },
           "zerolinecolor": "white",
           "zerolinewidth": 2
          },
          "yaxis": {
           "automargin": true,
           "gridcolor": "white",
           "linecolor": "white",
           "ticks": "",
           "title": {
            "standoff": 15
           },
           "zerolinecolor": "white",
           "zerolinewidth": 2
          }
         }
        },
        "title": {
         "text": "MLP Network Structure"
        },
        "width": 1000,
        "xaxis": {
         "showgrid": false,
         "showticklabels": false,
         "zeroline": false
        },
        "yaxis": {
         "showgrid": false,
         "showticklabels": false,
         "zeroline": false
        }
       }
      }
     },
     "metadata": {},
     "output_type": "display_data"
    }
   ],
   "source": [
    "import plotly.graph_objects as go\n",
    "import numpy as np\n",
    "\n",
    "# 创建MLP模型的实例\n",
    "mlp_model = MLP(input_size=5, hidden_size=64, output_size=1)\n",
    "\n",
    "# 定义网络结构图的布局\n",
    "layout = go.Layout(\n",
    "    title='MLP Network Structure',\n",
    "    showlegend=False,\n",
    "    plot_bgcolor='rgba(0,0,0,0)',\n",
    "    paper_bgcolor='rgba(0,0,0,0)',\n",
    "    xaxis=dict(showgrid=False, zeroline=False, showticklabels=False),\n",
    "    yaxis=dict(showgrid=False, zeroline=False, showticklabels=False),\n",
    "    font=dict(family='Times New Roman', size=18),\n",
    "    width=1000, height=900\n",
    ")\n",
    "\n",
    "# 构建网络结构图\n",
    "nodes = []\n",
    "node_names = []\n",
    "\n",
    "# 添加输入层节点\n",
    "input_layer_size = mlp_model.fc1.in_features\n",
    "input_layer_x = 0\n",
    "input_layer_y = np.linspace(1, 3, input_layer_size)  # 在垂直方向均匀分布\n",
    "for i in range(input_layer_size):\n",
    "    nodes.append(go.Scatter(x=[input_layer_x], y=[input_layer_y[i]], mode='markers', marker=dict(size=25), name=f'Input {i+1}'))\n",
    "    node_names.append(f'Input {i+1}')\n",
    "\n",
    "# 添加隐藏层节点\n",
    "hidden_layer_size = mlp_model.fc1.out_features\n",
    "hidden_layer_x = 0.5\n",
    "hidden_layer_y = np.linspace(0, 4, hidden_layer_size)  # 在垂直方向均匀分布\n",
    "for i in range(hidden_layer_size):\n",
    "    nodes.append(go.Scatter(x=[hidden_layer_x], y=[hidden_layer_y[i]], mode='markers', marker=dict(size=25), name=f'Hidden {i+1}'))\n",
    "    node_names.append(f'Hidden {i+1}')\n",
    "\n",
    "# 添加输出层节点\n",
    "output_layer_size = mlp_model.fc2.out_features\n",
    "output_layer_x = 1\n",
    "output_layer_y = np.linspace(2, 4, output_layer_size)  # 在垂直方向均匀分布\n",
    "for i in range(output_layer_size):\n",
    "    nodes.append(go.Scatter(x=[output_layer_x], y=[output_layer_y[i]], mode='markers', marker=dict(size=25), name=f'Output {i+1}'))\n",
    "    node_names.append(f'Output {i+1}')\n",
    "\n",
    "# 添加连接线\n",
    "connections = []\n",
    "for i in range(input_layer_size):\n",
    "    for j in range(hidden_layer_size):\n",
    "        connections.append(go.Scatter(x=[input_layer_x, hidden_layer_x], y=[input_layer_y[i], hidden_layer_y[j]], mode='lines', line=dict(width=0.2, color='blue')))\n",
    "\n",
    "for i in range(hidden_layer_size):\n",
    "    for j in range(output_layer_size):\n",
    "        connections.append(go.Scatter(x=[hidden_layer_x, output_layer_x], y=[hidden_layer_y[i], output_layer_y[j]], mode='lines', line=dict(width=0.2, color='blue')))\n",
    "\n",
    "# 绘制网络结构图\n",
    "fig = go.Figure(data=nodes + connections, layout=layout)\n",
    "fig.write_html('Image/4_10_3.html')\n",
    "fig.show()"
   ]
  }
 ],
 "metadata": {
  "kernelspec": {
   "display_name": "PyTorch",
   "language": "python",
   "name": "python3"
  },
  "language_info": {
   "codemirror_mode": {
    "name": "ipython",
    "version": 3
   },
   "file_extension": ".py",
   "mimetype": "text/x-python",
   "name": "python",
   "nbconvert_exporter": "python",
   "pygments_lexer": "ipython3",
   "version": "3.10.10"
  },
  "orig_nbformat": 4
 },
 "nbformat": 4,
 "nbformat_minor": 2
}
