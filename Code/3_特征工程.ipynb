{
 "cells": [
  {
   "cell_type": "code",
   "execution_count": 1,
   "metadata": {},
   "outputs": [],
   "source": [
    "import pandas as pd\n",
    "from sklearn.preprocessing import LabelEncoder, OneHotEncoder\n",
    "from sklearn.preprocessing import StandardScaler\n",
    "from sklearn.utils import resample\n",
    "import altair as alt"
   ]
  },
  {
   "cell_type": "code",
   "execution_count": 2,
   "metadata": {},
   "outputs": [
    {
     "name": "stderr",
     "output_type": "stream",
     "text": [
      "d:\\Miniconda\\envs\\PyTorch\\lib\\site-packages\\sklearn\\preprocessing\\_encoders.py:828: FutureWarning: `sparse` was renamed to `sparse_output` in version 1.2 and will be removed in 1.4. `sparse_output` is ignored unless you leave `sparse` to its default value.\n",
      "  warnings.warn(\n",
      "d:\\Miniconda\\envs\\PyTorch\\lib\\site-packages\\sklearn\\preprocessing\\_encoders.py:828: FutureWarning: `sparse` was renamed to `sparse_output` in version 1.2 and will be removed in 1.4. `sparse_output` is ignored unless you leave `sparse` to its default value.\n",
      "  warnings.warn(\n",
      "d:\\Miniconda\\envs\\PyTorch\\lib\\site-packages\\sklearn\\preprocessing\\_encoders.py:828: FutureWarning: `sparse` was renamed to `sparse_output` in version 1.2 and will be removed in 1.4. `sparse_output` is ignored unless you leave `sparse` to its default value.\n",
      "  warnings.warn(\n",
      "d:\\Miniconda\\envs\\PyTorch\\lib\\site-packages\\sklearn\\preprocessing\\_encoders.py:828: FutureWarning: `sparse` was renamed to `sparse_output` in version 1.2 and will be removed in 1.4. `sparse_output` is ignored unless you leave `sparse` to its default value.\n",
      "  warnings.warn(\n",
      "d:\\Miniconda\\envs\\PyTorch\\lib\\site-packages\\sklearn\\preprocessing\\_encoders.py:828: FutureWarning: `sparse` was renamed to `sparse_output` in version 1.2 and will be removed in 1.4. `sparse_output` is ignored unless you leave `sparse` to its default value.\n",
      "  warnings.warn(\n",
      "d:\\Miniconda\\envs\\PyTorch\\lib\\site-packages\\sklearn\\preprocessing\\_encoders.py:828: FutureWarning: `sparse` was renamed to `sparse_output` in version 1.2 and will be removed in 1.4. `sparse_output` is ignored unless you leave `sparse` to its default value.\n",
      "  warnings.warn(\n"
     ]
    }
   ],
   "source": [
    "data_train = pd.read_csv('Data/adult_train.csv')\n",
    "\n",
    "# 删除不需要的列，比如个人ID号码和人种等不相关的特征\n",
    "data_train = data_train.drop(['fnlwgt', 'race', 'education'], axis=1)\n",
    "\n",
    "# 转换数据类型，对字符串进行编码\n",
    "le = LabelEncoder()\n",
    "ohe = OneHotEncoder(sparse=False, handle_unknown='ignore')\n",
    "data_train['workclass'] = ohe.fit_transform(data_train['workclass'].values.reshape(-1, 1))\n",
    "# data_train_train_train_train['education'] = le.fit_transform(data_train_train_train_train['education'])\n",
    "data_train['marital-status'] = ohe.fit_transform(data_train['marital-status'].values.reshape(-1, 1))\n",
    "data_train['occupation'] = ohe.fit_transform(data_train['occupation'].values.reshape(-1, 1))\n",
    "data_train['relationship'] = ohe.fit_transform(data_train['relationship'].values.reshape(-1, 1))\n",
    "data_train['sex'] = ohe.fit_transform(data_train['sex'].values.reshape(-1, 1))\n",
    "data_train['native-country'] = ohe.fit_transform(data_train['native-country'].values.reshape(-1, 1))\n",
    "\n",
    "data_train['income'] = le.fit_transform(data_train['income'])\n",
    "\n",
    "# 特征缩放，使用标准化方法\n",
    "scaler = StandardScaler()\n",
    "data_train[['age', 'education-num', 'capital-gain', 'capital-loss', 'hours-per-week']] = scaler.fit_transform(data_train[['age', 'education-num', 'capital-gain', 'capital-loss', 'hours-per-week']])"
   ]
  },
  {
   "cell_type": "code",
   "execution_count": 3,
   "metadata": {},
   "outputs": [],
   "source": [
    "data_train.to_csv('Data/protrain.csv', index=False)"
   ]
  },
  {
   "cell_type": "code",
   "execution_count": 4,
   "metadata": {},
   "outputs": [
    {
     "name": "stderr",
     "output_type": "stream",
     "text": [
      "d:\\Miniconda\\envs\\PyTorch\\lib\\site-packages\\sklearn\\preprocessing\\_encoders.py:828: FutureWarning: `sparse` was renamed to `sparse_output` in version 1.2 and will be removed in 1.4. `sparse_output` is ignored unless you leave `sparse` to its default value.\n",
      "  warnings.warn(\n",
      "d:\\Miniconda\\envs\\PyTorch\\lib\\site-packages\\sklearn\\preprocessing\\_encoders.py:828: FutureWarning: `sparse` was renamed to `sparse_output` in version 1.2 and will be removed in 1.4. `sparse_output` is ignored unless you leave `sparse` to its default value.\n",
      "  warnings.warn(\n",
      "d:\\Miniconda\\envs\\PyTorch\\lib\\site-packages\\sklearn\\preprocessing\\_encoders.py:828: FutureWarning: `sparse` was renamed to `sparse_output` in version 1.2 and will be removed in 1.4. `sparse_output` is ignored unless you leave `sparse` to its default value.\n",
      "  warnings.warn(\n",
      "d:\\Miniconda\\envs\\PyTorch\\lib\\site-packages\\sklearn\\preprocessing\\_encoders.py:828: FutureWarning: `sparse` was renamed to `sparse_output` in version 1.2 and will be removed in 1.4. `sparse_output` is ignored unless you leave `sparse` to its default value.\n",
      "  warnings.warn(\n",
      "d:\\Miniconda\\envs\\PyTorch\\lib\\site-packages\\sklearn\\preprocessing\\_encoders.py:828: FutureWarning: `sparse` was renamed to `sparse_output` in version 1.2 and will be removed in 1.4. `sparse_output` is ignored unless you leave `sparse` to its default value.\n",
      "  warnings.warn(\n",
      "d:\\Miniconda\\envs\\PyTorch\\lib\\site-packages\\sklearn\\preprocessing\\_encoders.py:828: FutureWarning: `sparse` was renamed to `sparse_output` in version 1.2 and will be removed in 1.4. `sparse_output` is ignored unless you leave `sparse` to its default value.\n",
      "  warnings.warn(\n"
     ]
    }
   ],
   "source": [
    "data_test = pd.read_csv('Data/adult_test.csv')\n",
    "\n",
    "# 删除不需要的列，比如个人ID号码和人种等不相关的特征\n",
    "data_test = data_test.drop(['fnlwgt', 'race', 'education'], axis=1)\n",
    "\n",
    "# 转换数据类型，对字符串进行编码\n",
    "le = LabelEncoder()\n",
    "ohe = OneHotEncoder(sparse=False, handle_unknown='ignore')\n",
    "data_test['workclass'] = ohe.fit_transform(data_test['workclass'].values.reshape(-1, 1))\n",
    "data_test['marital-status'] = ohe.fit_transform(data_test['marital-status'].values.reshape(-1, 1))\n",
    "data_test['occupation'] = ohe.fit_transform(data_test['occupation'].values.reshape(-1, 1))\n",
    "data_test['relationship'] = ohe.fit_transform(data_test['relationship'].values.reshape(-1, 1))\n",
    "data_test['sex'] = ohe.fit_transform(data_test['sex'].values.reshape(-1, 1))\n",
    "data_test['native-country'] = ohe.fit_transform(data_test['native-country'].values.reshape(-1, 1))\n",
    "data_test['income'] = le.fit_transform(data_test['income'])\n",
    "\n",
    "# 特征缩放，使用标准化方法\n",
    "scaler = StandardScaler()\n",
    "data_test[['age', 'education-num', 'capital-gain', 'capital-loss', 'hours-per-week']] = scaler.fit_transform(data_test[['age', 'education-num', 'capital-gain', 'capital-loss', 'hours-per-week']])"
   ]
  },
  {
   "cell_type": "code",
   "execution_count": 5,
   "metadata": {},
   "outputs": [],
   "source": [
    "data_test.to_csv('Data/protest.csv', index=False)"
   ]
  }
 ],
 "metadata": {
  "kernelspec": {
   "display_name": "PyTorch",
   "language": "python",
   "name": "python3"
  },
  "language_info": {
   "codemirror_mode": {
    "name": "ipython",
    "version": 3
   },
   "file_extension": ".py",
   "mimetype": "text/x-python",
   "name": "python",
   "nbconvert_exporter": "python",
   "pygments_lexer": "ipython3",
   "version": "3.10.10"
  },
  "orig_nbformat": 4
 },
 "nbformat": 4,
 "nbformat_minor": 2
}
